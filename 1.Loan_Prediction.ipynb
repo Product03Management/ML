{
 "cells": [
  {
   "cell_type": "markdown",
   "metadata": {},
   "source": [
    "# Problem Statement:\n",
    "Need to use the Data Science and Machine Learning technique to automate the Loan Approval Process System.This would reduce the burden of bank Manager and help him/her to take the better decision."
   ]
  },
  {
   "cell_type": "code",
   "execution_count": 1,
   "metadata": {},
   "outputs": [
    {
     "data": {
      "text/plain": [
       "'F:\\\\2020\\\\Hackathon\\\\Code\\\\1. Loan-Predictionav'"
      ]
     },
     "execution_count": 1,
     "metadata": {},
     "output_type": "execute_result"
    }
   ],
   "source": [
    "#Check the Current Working Directory:\n",
    "import os\n",
    "os.getcwd()"
   ]
  },
  {
   "cell_type": "code",
   "execution_count": 2,
   "metadata": {},
   "outputs": [],
   "source": [
    "#Import the Libraries:\n",
    "import pandas as pd\n",
    "import numpy as np\n",
    "import matplotlib.pyplot as plt\n",
    "import seaborn as sns\n",
    "%matplotlib inline"
   ]
  },
  {
   "cell_type": "code",
   "execution_count": 3,
   "metadata": {},
   "outputs": [],
   "source": [
    "#Load the Data:\n",
    "train_data = pd.read_csv(\"train.csv\")\n",
    "test_data = pd.read_csv(\"test.csv\")"
   ]
  },
  {
   "cell_type": "markdown",
   "metadata": {},
   "source": [
    "We would do the Exploratory Data Analysis(EDA) to understand the Data."
   ]
  },
  {
   "cell_type": "raw",
   "metadata": {},
   "source": [
    "<a>. Check the Header and Footer\n",
    "<b>. Check the dimension\n",
    "<c>. Check the type of attributes\n",
    "<d>. Check the summary of the dataset\n",
    "<e>. Check the Missing values and their treatment\n",
    "<f>. Check the duplicate records and do their treatment\n",
    "<g>. Check the Outliers and do treatment\n",
    "<f>. find the target column\n",
    "<g>. find the target distribution\n"
   ]
  },
  {
   "cell_type": "code",
   "execution_count": 4,
   "metadata": {},
   "outputs": [
    {
     "data": {
      "text/html": [
       "<div>\n",
       "<style scoped>\n",
       "    .dataframe tbody tr th:only-of-type {\n",
       "        vertical-align: middle;\n",
       "    }\n",
       "\n",
       "    .dataframe tbody tr th {\n",
       "        vertical-align: top;\n",
       "    }\n",
       "\n",
       "    .dataframe thead th {\n",
       "        text-align: right;\n",
       "    }\n",
       "</style>\n",
       "<table border=\"1\" class=\"dataframe\">\n",
       "  <thead>\n",
       "    <tr style=\"text-align: right;\">\n",
       "      <th></th>\n",
       "      <th>Loan_ID</th>\n",
       "      <th>Gender</th>\n",
       "      <th>Married</th>\n",
       "      <th>Dependents</th>\n",
       "      <th>Education</th>\n",
       "      <th>Self_Employed</th>\n",
       "      <th>ApplicantIncome</th>\n",
       "      <th>CoapplicantIncome</th>\n",
       "      <th>LoanAmount</th>\n",
       "      <th>Loan_Amount_Term</th>\n",
       "      <th>Credit_History</th>\n",
       "      <th>Property_Area</th>\n",
       "      <th>Loan_Status</th>\n",
       "    </tr>\n",
       "  </thead>\n",
       "  <tbody>\n",
       "    <tr>\n",
       "      <th>0</th>\n",
       "      <td>LP001002</td>\n",
       "      <td>Male</td>\n",
       "      <td>No</td>\n",
       "      <td>0</td>\n",
       "      <td>Graduate</td>\n",
       "      <td>No</td>\n",
       "      <td>5849</td>\n",
       "      <td>0.0</td>\n",
       "      <td>NaN</td>\n",
       "      <td>360.0</td>\n",
       "      <td>1.0</td>\n",
       "      <td>Urban</td>\n",
       "      <td>Y</td>\n",
       "    </tr>\n",
       "    <tr>\n",
       "      <th>1</th>\n",
       "      <td>LP001003</td>\n",
       "      <td>Male</td>\n",
       "      <td>Yes</td>\n",
       "      <td>1</td>\n",
       "      <td>Graduate</td>\n",
       "      <td>No</td>\n",
       "      <td>4583</td>\n",
       "      <td>1508.0</td>\n",
       "      <td>128.0</td>\n",
       "      <td>360.0</td>\n",
       "      <td>1.0</td>\n",
       "      <td>Rural</td>\n",
       "      <td>N</td>\n",
       "    </tr>\n",
       "    <tr>\n",
       "      <th>2</th>\n",
       "      <td>LP001005</td>\n",
       "      <td>Male</td>\n",
       "      <td>Yes</td>\n",
       "      <td>0</td>\n",
       "      <td>Graduate</td>\n",
       "      <td>Yes</td>\n",
       "      <td>3000</td>\n",
       "      <td>0.0</td>\n",
       "      <td>66.0</td>\n",
       "      <td>360.0</td>\n",
       "      <td>1.0</td>\n",
       "      <td>Urban</td>\n",
       "      <td>Y</td>\n",
       "    </tr>\n",
       "    <tr>\n",
       "      <th>3</th>\n",
       "      <td>LP001006</td>\n",
       "      <td>Male</td>\n",
       "      <td>Yes</td>\n",
       "      <td>0</td>\n",
       "      <td>Not Graduate</td>\n",
       "      <td>No</td>\n",
       "      <td>2583</td>\n",
       "      <td>2358.0</td>\n",
       "      <td>120.0</td>\n",
       "      <td>360.0</td>\n",
       "      <td>1.0</td>\n",
       "      <td>Urban</td>\n",
       "      <td>Y</td>\n",
       "    </tr>\n",
       "    <tr>\n",
       "      <th>4</th>\n",
       "      <td>LP001008</td>\n",
       "      <td>Male</td>\n",
       "      <td>No</td>\n",
       "      <td>0</td>\n",
       "      <td>Graduate</td>\n",
       "      <td>No</td>\n",
       "      <td>6000</td>\n",
       "      <td>0.0</td>\n",
       "      <td>141.0</td>\n",
       "      <td>360.0</td>\n",
       "      <td>1.0</td>\n",
       "      <td>Urban</td>\n",
       "      <td>Y</td>\n",
       "    </tr>\n",
       "  </tbody>\n",
       "</table>\n",
       "</div>"
      ],
      "text/plain": [
       "    Loan_ID Gender Married Dependents     Education Self_Employed  \\\n",
       "0  LP001002   Male      No          0      Graduate            No   \n",
       "1  LP001003   Male     Yes          1      Graduate            No   \n",
       "2  LP001005   Male     Yes          0      Graduate           Yes   \n",
       "3  LP001006   Male     Yes          0  Not Graduate            No   \n",
       "4  LP001008   Male      No          0      Graduate            No   \n",
       "\n",
       "   ApplicantIncome  CoapplicantIncome  LoanAmount  Loan_Amount_Term  \\\n",
       "0             5849                0.0         NaN             360.0   \n",
       "1             4583             1508.0       128.0             360.0   \n",
       "2             3000                0.0        66.0             360.0   \n",
       "3             2583             2358.0       120.0             360.0   \n",
       "4             6000                0.0       141.0             360.0   \n",
       "\n",
       "   Credit_History Property_Area Loan_Status  \n",
       "0             1.0         Urban           Y  \n",
       "1             1.0         Rural           N  \n",
       "2             1.0         Urban           Y  \n",
       "3             1.0         Urban           Y  \n",
       "4             1.0         Urban           Y  "
      ]
     },
     "execution_count": 4,
     "metadata": {},
     "output_type": "execute_result"
    }
   ],
   "source": [
    "#Header and footer would assure that data is loaded properly in the envirionment.\n",
    "#It would also give a broef idea about the data\n",
    "#Show the header(first 5 rows for the train_data)\n",
    "train_data.head()"
   ]
  },
  {
   "cell_type": "code",
   "execution_count": 5,
   "metadata": {},
   "outputs": [
    {
     "data": {
      "text/html": [
       "<div>\n",
       "<style scoped>\n",
       "    .dataframe tbody tr th:only-of-type {\n",
       "        vertical-align: middle;\n",
       "    }\n",
       "\n",
       "    .dataframe tbody tr th {\n",
       "        vertical-align: top;\n",
       "    }\n",
       "\n",
       "    .dataframe thead th {\n",
       "        text-align: right;\n",
       "    }\n",
       "</style>\n",
       "<table border=\"1\" class=\"dataframe\">\n",
       "  <thead>\n",
       "    <tr style=\"text-align: right;\">\n",
       "      <th></th>\n",
       "      <th>Loan_ID</th>\n",
       "      <th>Gender</th>\n",
       "      <th>Married</th>\n",
       "      <th>Dependents</th>\n",
       "      <th>Education</th>\n",
       "      <th>Self_Employed</th>\n",
       "      <th>ApplicantIncome</th>\n",
       "      <th>CoapplicantIncome</th>\n",
       "      <th>LoanAmount</th>\n",
       "      <th>Loan_Amount_Term</th>\n",
       "      <th>Credit_History</th>\n",
       "      <th>Property_Area</th>\n",
       "      <th>Loan_Status</th>\n",
       "    </tr>\n",
       "  </thead>\n",
       "  <tbody>\n",
       "    <tr>\n",
       "      <th>609</th>\n",
       "      <td>LP002978</td>\n",
       "      <td>Female</td>\n",
       "      <td>No</td>\n",
       "      <td>0</td>\n",
       "      <td>Graduate</td>\n",
       "      <td>No</td>\n",
       "      <td>2900</td>\n",
       "      <td>0.0</td>\n",
       "      <td>71.0</td>\n",
       "      <td>360.0</td>\n",
       "      <td>1.0</td>\n",
       "      <td>Rural</td>\n",
       "      <td>Y</td>\n",
       "    </tr>\n",
       "    <tr>\n",
       "      <th>610</th>\n",
       "      <td>LP002979</td>\n",
       "      <td>Male</td>\n",
       "      <td>Yes</td>\n",
       "      <td>3+</td>\n",
       "      <td>Graduate</td>\n",
       "      <td>No</td>\n",
       "      <td>4106</td>\n",
       "      <td>0.0</td>\n",
       "      <td>40.0</td>\n",
       "      <td>180.0</td>\n",
       "      <td>1.0</td>\n",
       "      <td>Rural</td>\n",
       "      <td>Y</td>\n",
       "    </tr>\n",
       "    <tr>\n",
       "      <th>611</th>\n",
       "      <td>LP002983</td>\n",
       "      <td>Male</td>\n",
       "      <td>Yes</td>\n",
       "      <td>1</td>\n",
       "      <td>Graduate</td>\n",
       "      <td>No</td>\n",
       "      <td>8072</td>\n",
       "      <td>240.0</td>\n",
       "      <td>253.0</td>\n",
       "      <td>360.0</td>\n",
       "      <td>1.0</td>\n",
       "      <td>Urban</td>\n",
       "      <td>Y</td>\n",
       "    </tr>\n",
       "    <tr>\n",
       "      <th>612</th>\n",
       "      <td>LP002984</td>\n",
       "      <td>Male</td>\n",
       "      <td>Yes</td>\n",
       "      <td>2</td>\n",
       "      <td>Graduate</td>\n",
       "      <td>No</td>\n",
       "      <td>7583</td>\n",
       "      <td>0.0</td>\n",
       "      <td>187.0</td>\n",
       "      <td>360.0</td>\n",
       "      <td>1.0</td>\n",
       "      <td>Urban</td>\n",
       "      <td>Y</td>\n",
       "    </tr>\n",
       "    <tr>\n",
       "      <th>613</th>\n",
       "      <td>LP002990</td>\n",
       "      <td>Female</td>\n",
       "      <td>No</td>\n",
       "      <td>0</td>\n",
       "      <td>Graduate</td>\n",
       "      <td>Yes</td>\n",
       "      <td>4583</td>\n",
       "      <td>0.0</td>\n",
       "      <td>133.0</td>\n",
       "      <td>360.0</td>\n",
       "      <td>0.0</td>\n",
       "      <td>Semiurban</td>\n",
       "      <td>N</td>\n",
       "    </tr>\n",
       "  </tbody>\n",
       "</table>\n",
       "</div>"
      ],
      "text/plain": [
       "      Loan_ID  Gender Married Dependents Education Self_Employed  \\\n",
       "609  LP002978  Female      No          0  Graduate            No   \n",
       "610  LP002979    Male     Yes         3+  Graduate            No   \n",
       "611  LP002983    Male     Yes          1  Graduate            No   \n",
       "612  LP002984    Male     Yes          2  Graduate            No   \n",
       "613  LP002990  Female      No          0  Graduate           Yes   \n",
       "\n",
       "     ApplicantIncome  CoapplicantIncome  LoanAmount  Loan_Amount_Term  \\\n",
       "609             2900                0.0        71.0             360.0   \n",
       "610             4106                0.0        40.0             180.0   \n",
       "611             8072              240.0       253.0             360.0   \n",
       "612             7583                0.0       187.0             360.0   \n",
       "613             4583                0.0       133.0             360.0   \n",
       "\n",
       "     Credit_History Property_Area Loan_Status  \n",
       "609             1.0         Rural           Y  \n",
       "610             1.0         Rural           Y  \n",
       "611             1.0         Urban           Y  \n",
       "612             1.0         Urban           Y  \n",
       "613             0.0     Semiurban           N  "
      ]
     },
     "execution_count": 5,
     "metadata": {},
     "output_type": "execute_result"
    }
   ],
   "source": [
    "#Footer for train_data:\n",
    "train_data.tail()"
   ]
  },
  {
   "cell_type": "markdown",
   "metadata": {},
   "source": [
    "We are satisfied that train_data is Loaded properly."
   ]
  },
  {
   "cell_type": "code",
   "execution_count": 6,
   "metadata": {},
   "outputs": [
    {
     "data": {
      "text/html": [
       "<div>\n",
       "<style scoped>\n",
       "    .dataframe tbody tr th:only-of-type {\n",
       "        vertical-align: middle;\n",
       "    }\n",
       "\n",
       "    .dataframe tbody tr th {\n",
       "        vertical-align: top;\n",
       "    }\n",
       "\n",
       "    .dataframe thead th {\n",
       "        text-align: right;\n",
       "    }\n",
       "</style>\n",
       "<table border=\"1\" class=\"dataframe\">\n",
       "  <thead>\n",
       "    <tr style=\"text-align: right;\">\n",
       "      <th></th>\n",
       "      <th>Loan_ID</th>\n",
       "      <th>Gender</th>\n",
       "      <th>Married</th>\n",
       "      <th>Dependents</th>\n",
       "      <th>Education</th>\n",
       "      <th>Self_Employed</th>\n",
       "      <th>ApplicantIncome</th>\n",
       "      <th>CoapplicantIncome</th>\n",
       "      <th>LoanAmount</th>\n",
       "      <th>Loan_Amount_Term</th>\n",
       "      <th>Credit_History</th>\n",
       "      <th>Property_Area</th>\n",
       "    </tr>\n",
       "  </thead>\n",
       "  <tbody>\n",
       "    <tr>\n",
       "      <th>0</th>\n",
       "      <td>LP001015</td>\n",
       "      <td>Male</td>\n",
       "      <td>Yes</td>\n",
       "      <td>0</td>\n",
       "      <td>Graduate</td>\n",
       "      <td>No</td>\n",
       "      <td>5720</td>\n",
       "      <td>0</td>\n",
       "      <td>110.0</td>\n",
       "      <td>360.0</td>\n",
       "      <td>1.0</td>\n",
       "      <td>Urban</td>\n",
       "    </tr>\n",
       "    <tr>\n",
       "      <th>1</th>\n",
       "      <td>LP001022</td>\n",
       "      <td>Male</td>\n",
       "      <td>Yes</td>\n",
       "      <td>1</td>\n",
       "      <td>Graduate</td>\n",
       "      <td>No</td>\n",
       "      <td>3076</td>\n",
       "      <td>1500</td>\n",
       "      <td>126.0</td>\n",
       "      <td>360.0</td>\n",
       "      <td>1.0</td>\n",
       "      <td>Urban</td>\n",
       "    </tr>\n",
       "    <tr>\n",
       "      <th>2</th>\n",
       "      <td>LP001031</td>\n",
       "      <td>Male</td>\n",
       "      <td>Yes</td>\n",
       "      <td>2</td>\n",
       "      <td>Graduate</td>\n",
       "      <td>No</td>\n",
       "      <td>5000</td>\n",
       "      <td>1800</td>\n",
       "      <td>208.0</td>\n",
       "      <td>360.0</td>\n",
       "      <td>1.0</td>\n",
       "      <td>Urban</td>\n",
       "    </tr>\n",
       "    <tr>\n",
       "      <th>3</th>\n",
       "      <td>LP001035</td>\n",
       "      <td>Male</td>\n",
       "      <td>Yes</td>\n",
       "      <td>2</td>\n",
       "      <td>Graduate</td>\n",
       "      <td>No</td>\n",
       "      <td>2340</td>\n",
       "      <td>2546</td>\n",
       "      <td>100.0</td>\n",
       "      <td>360.0</td>\n",
       "      <td>NaN</td>\n",
       "      <td>Urban</td>\n",
       "    </tr>\n",
       "    <tr>\n",
       "      <th>4</th>\n",
       "      <td>LP001051</td>\n",
       "      <td>Male</td>\n",
       "      <td>No</td>\n",
       "      <td>0</td>\n",
       "      <td>Not Graduate</td>\n",
       "      <td>No</td>\n",
       "      <td>3276</td>\n",
       "      <td>0</td>\n",
       "      <td>78.0</td>\n",
       "      <td>360.0</td>\n",
       "      <td>1.0</td>\n",
       "      <td>Urban</td>\n",
       "    </tr>\n",
       "  </tbody>\n",
       "</table>\n",
       "</div>"
      ],
      "text/plain": [
       "    Loan_ID Gender Married Dependents     Education Self_Employed  \\\n",
       "0  LP001015   Male     Yes          0      Graduate            No   \n",
       "1  LP001022   Male     Yes          1      Graduate            No   \n",
       "2  LP001031   Male     Yes          2      Graduate            No   \n",
       "3  LP001035   Male     Yes          2      Graduate            No   \n",
       "4  LP001051   Male      No          0  Not Graduate            No   \n",
       "\n",
       "   ApplicantIncome  CoapplicantIncome  LoanAmount  Loan_Amount_Term  \\\n",
       "0             5720                  0       110.0             360.0   \n",
       "1             3076               1500       126.0             360.0   \n",
       "2             5000               1800       208.0             360.0   \n",
       "3             2340               2546       100.0             360.0   \n",
       "4             3276                  0        78.0             360.0   \n",
       "\n",
       "   Credit_History Property_Area  \n",
       "0             1.0         Urban  \n",
       "1             1.0         Urban  \n",
       "2             1.0         Urban  \n",
       "3             NaN         Urban  \n",
       "4             1.0         Urban  "
      ]
     },
     "execution_count": 6,
     "metadata": {},
     "output_type": "execute_result"
    }
   ],
   "source": [
    "#Header for the test_data:\n",
    "test_data.head()"
   ]
  },
  {
   "cell_type": "code",
   "execution_count": 7,
   "metadata": {},
   "outputs": [
    {
     "data": {
      "text/html": [
       "<div>\n",
       "<style scoped>\n",
       "    .dataframe tbody tr th:only-of-type {\n",
       "        vertical-align: middle;\n",
       "    }\n",
       "\n",
       "    .dataframe tbody tr th {\n",
       "        vertical-align: top;\n",
       "    }\n",
       "\n",
       "    .dataframe thead th {\n",
       "        text-align: right;\n",
       "    }\n",
       "</style>\n",
       "<table border=\"1\" class=\"dataframe\">\n",
       "  <thead>\n",
       "    <tr style=\"text-align: right;\">\n",
       "      <th></th>\n",
       "      <th>Loan_ID</th>\n",
       "      <th>Gender</th>\n",
       "      <th>Married</th>\n",
       "      <th>Dependents</th>\n",
       "      <th>Education</th>\n",
       "      <th>Self_Employed</th>\n",
       "      <th>ApplicantIncome</th>\n",
       "      <th>CoapplicantIncome</th>\n",
       "      <th>LoanAmount</th>\n",
       "      <th>Loan_Amount_Term</th>\n",
       "      <th>Credit_History</th>\n",
       "      <th>Property_Area</th>\n",
       "    </tr>\n",
       "  </thead>\n",
       "  <tbody>\n",
       "    <tr>\n",
       "      <th>362</th>\n",
       "      <td>LP002971</td>\n",
       "      <td>Male</td>\n",
       "      <td>Yes</td>\n",
       "      <td>3+</td>\n",
       "      <td>Not Graduate</td>\n",
       "      <td>Yes</td>\n",
       "      <td>4009</td>\n",
       "      <td>1777</td>\n",
       "      <td>113.0</td>\n",
       "      <td>360.0</td>\n",
       "      <td>1.0</td>\n",
       "      <td>Urban</td>\n",
       "    </tr>\n",
       "    <tr>\n",
       "      <th>363</th>\n",
       "      <td>LP002975</td>\n",
       "      <td>Male</td>\n",
       "      <td>Yes</td>\n",
       "      <td>0</td>\n",
       "      <td>Graduate</td>\n",
       "      <td>No</td>\n",
       "      <td>4158</td>\n",
       "      <td>709</td>\n",
       "      <td>115.0</td>\n",
       "      <td>360.0</td>\n",
       "      <td>1.0</td>\n",
       "      <td>Urban</td>\n",
       "    </tr>\n",
       "    <tr>\n",
       "      <th>364</th>\n",
       "      <td>LP002980</td>\n",
       "      <td>Male</td>\n",
       "      <td>No</td>\n",
       "      <td>0</td>\n",
       "      <td>Graduate</td>\n",
       "      <td>No</td>\n",
       "      <td>3250</td>\n",
       "      <td>1993</td>\n",
       "      <td>126.0</td>\n",
       "      <td>360.0</td>\n",
       "      <td>NaN</td>\n",
       "      <td>Semiurban</td>\n",
       "    </tr>\n",
       "    <tr>\n",
       "      <th>365</th>\n",
       "      <td>LP002986</td>\n",
       "      <td>Male</td>\n",
       "      <td>Yes</td>\n",
       "      <td>0</td>\n",
       "      <td>Graduate</td>\n",
       "      <td>No</td>\n",
       "      <td>5000</td>\n",
       "      <td>2393</td>\n",
       "      <td>158.0</td>\n",
       "      <td>360.0</td>\n",
       "      <td>1.0</td>\n",
       "      <td>Rural</td>\n",
       "    </tr>\n",
       "    <tr>\n",
       "      <th>366</th>\n",
       "      <td>LP002989</td>\n",
       "      <td>Male</td>\n",
       "      <td>No</td>\n",
       "      <td>0</td>\n",
       "      <td>Graduate</td>\n",
       "      <td>Yes</td>\n",
       "      <td>9200</td>\n",
       "      <td>0</td>\n",
       "      <td>98.0</td>\n",
       "      <td>180.0</td>\n",
       "      <td>1.0</td>\n",
       "      <td>Rural</td>\n",
       "    </tr>\n",
       "  </tbody>\n",
       "</table>\n",
       "</div>"
      ],
      "text/plain": [
       "      Loan_ID Gender Married Dependents     Education Self_Employed  \\\n",
       "362  LP002971   Male     Yes         3+  Not Graduate           Yes   \n",
       "363  LP002975   Male     Yes          0      Graduate            No   \n",
       "364  LP002980   Male      No          0      Graduate            No   \n",
       "365  LP002986   Male     Yes          0      Graduate            No   \n",
       "366  LP002989   Male      No          0      Graduate           Yes   \n",
       "\n",
       "     ApplicantIncome  CoapplicantIncome  LoanAmount  Loan_Amount_Term  \\\n",
       "362             4009               1777       113.0             360.0   \n",
       "363             4158                709       115.0             360.0   \n",
       "364             3250               1993       126.0             360.0   \n",
       "365             5000               2393       158.0             360.0   \n",
       "366             9200                  0        98.0             180.0   \n",
       "\n",
       "     Credit_History Property_Area  \n",
       "362             1.0         Urban  \n",
       "363             1.0         Urban  \n",
       "364             NaN     Semiurban  \n",
       "365             1.0         Rural  \n",
       "366             1.0         Rural  "
      ]
     },
     "execution_count": 7,
     "metadata": {},
     "output_type": "execute_result"
    }
   ],
   "source": [
    "#Footer for the test_data:\n",
    "test_data.tail()"
   ]
  },
  {
   "cell_type": "code",
   "execution_count": 8,
   "metadata": {},
   "outputs": [
    {
     "name": "stdout",
     "output_type": "stream",
     "text": [
      "The dimension(rows,column) for train_data is: (614, 13)\n",
      "The dimensions(rows,column) for test_data is: (367, 12)\n"
     ]
    }
   ],
   "source": [
    "#Check the Dimension:\n",
    "print(\"The dimension(rows,column) for train_data is:\",train_data.shape)\n",
    "print(\"The dimensions(rows,column) for test_data is:\",test_data.shape)"
   ]
  },
  {
   "cell_type": "markdown",
   "metadata": {},
   "source": [
    "# Types of the Attribute\n",
    "#Train_data and Test_data"
   ]
  },
  {
   "cell_type": "code",
   "execution_count": 9,
   "metadata": {},
   "outputs": [
    {
     "name": "stdout",
     "output_type": "stream",
     "text": [
      "<class 'pandas.core.frame.DataFrame'>\n",
      "RangeIndex: 614 entries, 0 to 613\n",
      "Data columns (total 13 columns):\n",
      " #   Column             Non-Null Count  Dtype  \n",
      "---  ------             --------------  -----  \n",
      " 0   Loan_ID            614 non-null    object \n",
      " 1   Gender             601 non-null    object \n",
      " 2   Married            611 non-null    object \n",
      " 3   Dependents         599 non-null    object \n",
      " 4   Education          614 non-null    object \n",
      " 5   Self_Employed      582 non-null    object \n",
      " 6   ApplicantIncome    614 non-null    int64  \n",
      " 7   CoapplicantIncome  614 non-null    float64\n",
      " 8   LoanAmount         592 non-null    float64\n",
      " 9   Loan_Amount_Term   600 non-null    float64\n",
      " 10  Credit_History     564 non-null    float64\n",
      " 11  Property_Area      614 non-null    object \n",
      " 12  Loan_Status        614 non-null    object \n",
      "dtypes: float64(4), int64(1), object(8)\n",
      "memory usage: 62.5+ KB\n",
      "Attributes Information for train_data is: None\n",
      "------------------------------------------------------------\n",
      "<class 'pandas.core.frame.DataFrame'>\n",
      "RangeIndex: 367 entries, 0 to 366\n",
      "Data columns (total 12 columns):\n",
      " #   Column             Non-Null Count  Dtype  \n",
      "---  ------             --------------  -----  \n",
      " 0   Loan_ID            367 non-null    object \n",
      " 1   Gender             356 non-null    object \n",
      " 2   Married            367 non-null    object \n",
      " 3   Dependents         357 non-null    object \n",
      " 4   Education          367 non-null    object \n",
      " 5   Self_Employed      344 non-null    object \n",
      " 6   ApplicantIncome    367 non-null    int64  \n",
      " 7   CoapplicantIncome  367 non-null    int64  \n",
      " 8   LoanAmount         362 non-null    float64\n",
      " 9   Loan_Amount_Term   361 non-null    float64\n",
      " 10  Credit_History     338 non-null    float64\n",
      " 11  Property_Area      367 non-null    object \n",
      "dtypes: float64(3), int64(2), object(7)\n",
      "memory usage: 34.5+ KB\n",
      "Attributes Information for test_data is: None\n"
     ]
    }
   ],
   "source": [
    "#Check the types of attributes:\n",
    "print(\"Attributes Information for train_data is:\",train_data.info())\n",
    "print(\"------------------------------------------------------------\")\n",
    "print(\"Attributes Information for test_data is:\",test_data.info())"
   ]
  },
  {
   "cell_type": "code",
   "execution_count": 10,
   "metadata": {},
   "outputs": [],
   "source": [
    "#We observe that \"CoapplicantIncome\" column in train_data is \"float\" while it is \"int64\" in test_data \n",
    "#Convert \"CoapplicantIncome\" column for test_data into float\n",
    "test_data[[\"CoapplicantIncome\"]] = test_data[[\"CoapplicantIncome\"]].astype(float)"
   ]
  },
  {
   "cell_type": "code",
   "execution_count": 11,
   "metadata": {},
   "outputs": [
    {
     "name": "stdout",
     "output_type": "stream",
     "text": [
      "<class 'pandas.core.frame.DataFrame'>\n",
      "RangeIndex: 614 entries, 0 to 613\n",
      "Data columns (total 13 columns):\n",
      " #   Column             Non-Null Count  Dtype  \n",
      "---  ------             --------------  -----  \n",
      " 0   Loan_ID            614 non-null    object \n",
      " 1   Gender             601 non-null    object \n",
      " 2   Married            611 non-null    object \n",
      " 3   Dependents         599 non-null    object \n",
      " 4   Education          614 non-null    object \n",
      " 5   Self_Employed      582 non-null    object \n",
      " 6   ApplicantIncome    614 non-null    int64  \n",
      " 7   CoapplicantIncome  614 non-null    float64\n",
      " 8   LoanAmount         592 non-null    float64\n",
      " 9   Loan_Amount_Term   600 non-null    float64\n",
      " 10  Credit_History     564 non-null    float64\n",
      " 11  Property_Area      614 non-null    object \n",
      " 12  Loan_Status        614 non-null    object \n",
      "dtypes: float64(4), int64(1), object(8)\n",
      "memory usage: 62.5+ KB\n",
      "Attributes Information for train_data is: None\n",
      "------------------------------------------------------------\n",
      "<class 'pandas.core.frame.DataFrame'>\n",
      "RangeIndex: 367 entries, 0 to 366\n",
      "Data columns (total 12 columns):\n",
      " #   Column             Non-Null Count  Dtype  \n",
      "---  ------             --------------  -----  \n",
      " 0   Loan_ID            367 non-null    object \n",
      " 1   Gender             356 non-null    object \n",
      " 2   Married            367 non-null    object \n",
      " 3   Dependents         357 non-null    object \n",
      " 4   Education          367 non-null    object \n",
      " 5   Self_Employed      344 non-null    object \n",
      " 6   ApplicantIncome    367 non-null    int64  \n",
      " 7   CoapplicantIncome  367 non-null    float64\n",
      " 8   LoanAmount         362 non-null    float64\n",
      " 9   Loan_Amount_Term   361 non-null    float64\n",
      " 10  Credit_History     338 non-null    float64\n",
      " 11  Property_Area      367 non-null    object \n",
      "dtypes: float64(4), int64(1), object(7)\n",
      "memory usage: 34.5+ KB\n",
      "Attributes Information for test_data is: None\n"
     ]
    }
   ],
   "source": [
    "#Check the types of attributes:\n",
    "print(\"Attributes Information for train_data is:\",train_data.info())\n",
    "print(\"------------------------------------------------------------\")\n",
    "print(\"Attributes Information for test_data is:\",test_data.info())"
   ]
  },
  {
   "cell_type": "markdown",
   "metadata": {},
   "source": [
    "# Summary for train_data and test_data"
   ]
  },
  {
   "cell_type": "code",
   "execution_count": 12,
   "metadata": {},
   "outputs": [
    {
     "name": "stdout",
     "output_type": "stream",
     "text": [
      "The summary for the Numerical data in train-data:\n"
     ]
    },
    {
     "data": {
      "text/html": [
       "<div>\n",
       "<style scoped>\n",
       "    .dataframe tbody tr th:only-of-type {\n",
       "        vertical-align: middle;\n",
       "    }\n",
       "\n",
       "    .dataframe tbody tr th {\n",
       "        vertical-align: top;\n",
       "    }\n",
       "\n",
       "    .dataframe thead th {\n",
       "        text-align: right;\n",
       "    }\n",
       "</style>\n",
       "<table border=\"1\" class=\"dataframe\">\n",
       "  <thead>\n",
       "    <tr style=\"text-align: right;\">\n",
       "      <th></th>\n",
       "      <th>ApplicantIncome</th>\n",
       "      <th>CoapplicantIncome</th>\n",
       "      <th>LoanAmount</th>\n",
       "      <th>Loan_Amount_Term</th>\n",
       "      <th>Credit_History</th>\n",
       "    </tr>\n",
       "  </thead>\n",
       "  <tbody>\n",
       "    <tr>\n",
       "      <th>count</th>\n",
       "      <td>614.000000</td>\n",
       "      <td>614.000000</td>\n",
       "      <td>592.000000</td>\n",
       "      <td>600.00000</td>\n",
       "      <td>564.000000</td>\n",
       "    </tr>\n",
       "    <tr>\n",
       "      <th>mean</th>\n",
       "      <td>5403.459283</td>\n",
       "      <td>1621.245798</td>\n",
       "      <td>146.412162</td>\n",
       "      <td>342.00000</td>\n",
       "      <td>0.842199</td>\n",
       "    </tr>\n",
       "    <tr>\n",
       "      <th>std</th>\n",
       "      <td>6109.041673</td>\n",
       "      <td>2926.248369</td>\n",
       "      <td>85.587325</td>\n",
       "      <td>65.12041</td>\n",
       "      <td>0.364878</td>\n",
       "    </tr>\n",
       "    <tr>\n",
       "      <th>min</th>\n",
       "      <td>150.000000</td>\n",
       "      <td>0.000000</td>\n",
       "      <td>9.000000</td>\n",
       "      <td>12.00000</td>\n",
       "      <td>0.000000</td>\n",
       "    </tr>\n",
       "    <tr>\n",
       "      <th>25%</th>\n",
       "      <td>2877.500000</td>\n",
       "      <td>0.000000</td>\n",
       "      <td>100.000000</td>\n",
       "      <td>360.00000</td>\n",
       "      <td>1.000000</td>\n",
       "    </tr>\n",
       "    <tr>\n",
       "      <th>50%</th>\n",
       "      <td>3812.500000</td>\n",
       "      <td>1188.500000</td>\n",
       "      <td>128.000000</td>\n",
       "      <td>360.00000</td>\n",
       "      <td>1.000000</td>\n",
       "    </tr>\n",
       "    <tr>\n",
       "      <th>75%</th>\n",
       "      <td>5795.000000</td>\n",
       "      <td>2297.250000</td>\n",
       "      <td>168.000000</td>\n",
       "      <td>360.00000</td>\n",
       "      <td>1.000000</td>\n",
       "    </tr>\n",
       "    <tr>\n",
       "      <th>max</th>\n",
       "      <td>81000.000000</td>\n",
       "      <td>41667.000000</td>\n",
       "      <td>700.000000</td>\n",
       "      <td>480.00000</td>\n",
       "      <td>1.000000</td>\n",
       "    </tr>\n",
       "  </tbody>\n",
       "</table>\n",
       "</div>"
      ],
      "text/plain": [
       "       ApplicantIncome  CoapplicantIncome  LoanAmount  Loan_Amount_Term  \\\n",
       "count       614.000000         614.000000  592.000000         600.00000   \n",
       "mean       5403.459283        1621.245798  146.412162         342.00000   \n",
       "std        6109.041673        2926.248369   85.587325          65.12041   \n",
       "min         150.000000           0.000000    9.000000          12.00000   \n",
       "25%        2877.500000           0.000000  100.000000         360.00000   \n",
       "50%        3812.500000        1188.500000  128.000000         360.00000   \n",
       "75%        5795.000000        2297.250000  168.000000         360.00000   \n",
       "max       81000.000000       41667.000000  700.000000         480.00000   \n",
       "\n",
       "       Credit_History  \n",
       "count      564.000000  \n",
       "mean         0.842199  \n",
       "std          0.364878  \n",
       "min          0.000000  \n",
       "25%          1.000000  \n",
       "50%          1.000000  \n",
       "75%          1.000000  \n",
       "max          1.000000  "
      ]
     },
     "execution_count": 12,
     "metadata": {},
     "output_type": "execute_result"
    }
   ],
   "source": [
    "#Check the Summary for Numerical data of train_data:\n",
    "print(\"The summary for the Numerical data in train-data:\")\n",
    "train_data.describe()"
   ]
  },
  {
   "cell_type": "code",
   "execution_count": 13,
   "metadata": {},
   "outputs": [],
   "source": [
    "#Check the Attributes"
   ]
  },
  {
   "cell_type": "code",
   "execution_count": 14,
   "metadata": {},
   "outputs": [
    {
     "name": "stdout",
     "output_type": "stream",
     "text": [
      "It shows the summary for the categorical data of train_data:\n"
     ]
    },
    {
     "data": {
      "text/html": [
       "<div>\n",
       "<style scoped>\n",
       "    .dataframe tbody tr th:only-of-type {\n",
       "        vertical-align: middle;\n",
       "    }\n",
       "\n",
       "    .dataframe tbody tr th {\n",
       "        vertical-align: top;\n",
       "    }\n",
       "\n",
       "    .dataframe thead th {\n",
       "        text-align: right;\n",
       "    }\n",
       "</style>\n",
       "<table border=\"1\" class=\"dataframe\">\n",
       "  <thead>\n",
       "    <tr style=\"text-align: right;\">\n",
       "      <th></th>\n",
       "      <th>Loan_ID</th>\n",
       "      <th>Gender</th>\n",
       "      <th>Married</th>\n",
       "      <th>Dependents</th>\n",
       "      <th>Education</th>\n",
       "      <th>Self_Employed</th>\n",
       "      <th>Property_Area</th>\n",
       "      <th>Loan_Status</th>\n",
       "    </tr>\n",
       "  </thead>\n",
       "  <tbody>\n",
       "    <tr>\n",
       "      <th>count</th>\n",
       "      <td>614</td>\n",
       "      <td>601</td>\n",
       "      <td>611</td>\n",
       "      <td>599</td>\n",
       "      <td>614</td>\n",
       "      <td>582</td>\n",
       "      <td>614</td>\n",
       "      <td>614</td>\n",
       "    </tr>\n",
       "    <tr>\n",
       "      <th>unique</th>\n",
       "      <td>614</td>\n",
       "      <td>2</td>\n",
       "      <td>2</td>\n",
       "      <td>4</td>\n",
       "      <td>2</td>\n",
       "      <td>2</td>\n",
       "      <td>3</td>\n",
       "      <td>2</td>\n",
       "    </tr>\n",
       "    <tr>\n",
       "      <th>top</th>\n",
       "      <td>LP001964</td>\n",
       "      <td>Male</td>\n",
       "      <td>Yes</td>\n",
       "      <td>0</td>\n",
       "      <td>Graduate</td>\n",
       "      <td>No</td>\n",
       "      <td>Semiurban</td>\n",
       "      <td>Y</td>\n",
       "    </tr>\n",
       "    <tr>\n",
       "      <th>freq</th>\n",
       "      <td>1</td>\n",
       "      <td>489</td>\n",
       "      <td>398</td>\n",
       "      <td>345</td>\n",
       "      <td>480</td>\n",
       "      <td>500</td>\n",
       "      <td>233</td>\n",
       "      <td>422</td>\n",
       "    </tr>\n",
       "  </tbody>\n",
       "</table>\n",
       "</div>"
      ],
      "text/plain": [
       "         Loan_ID Gender Married Dependents Education Self_Employed  \\\n",
       "count        614    601     611        599       614           582   \n",
       "unique       614      2       2          4         2             2   \n",
       "top     LP001964   Male     Yes          0  Graduate            No   \n",
       "freq           1    489     398        345       480           500   \n",
       "\n",
       "       Property_Area Loan_Status  \n",
       "count            614         614  \n",
       "unique             3           2  \n",
       "top        Semiurban           Y  \n",
       "freq             233         422  "
      ]
     },
     "execution_count": 14,
     "metadata": {},
     "output_type": "execute_result"
    }
   ],
   "source": [
    "#Summary for the categorica dats in train_data:\n",
    "print(\"It shows the summary for the categorical data of train_data:\")\n",
    "train_data.describe(include = \"object\")"
   ]
  },
  {
   "cell_type": "code",
   "execution_count": 15,
   "metadata": {},
   "outputs": [
    {
     "data": {
      "text/plain": [
       "Index(['Loan_ID', 'Gender', 'Married', 'Dependents', 'Education',\n",
       "       'Self_Employed', 'ApplicantIncome', 'CoapplicantIncome', 'LoanAmount',\n",
       "       'Loan_Amount_Term', 'Credit_History', 'Property_Area', 'Loan_Status'],\n",
       "      dtype='object')"
      ]
     },
     "execution_count": 15,
     "metadata": {},
     "output_type": "execute_result"
    }
   ],
   "source": [
    "#Column Names for train_data:\n",
    "train_data.columns"
   ]
  },
  {
   "cell_type": "code",
   "execution_count": 16,
   "metadata": {},
   "outputs": [
    {
     "data": {
      "text/plain": [
       "Index(['Loan_ID', 'Gender', 'Married', 'Dependents', 'Education',\n",
       "       'Self_Employed', 'ApplicantIncome', 'CoapplicantIncome', 'LoanAmount',\n",
       "       'Loan_Amount_Term', 'Credit_History', 'Property_Area'],\n",
       "      dtype='object')"
      ]
     },
     "execution_count": 16,
     "metadata": {},
     "output_type": "execute_result"
    }
   ],
   "source": [
    "#Column names for test_data:\n",
    "test_data.columns"
   ]
  },
  {
   "cell_type": "markdown",
   "metadata": {},
   "source": [
    "# Missing Values Treatment"
   ]
  },
  {
   "cell_type": "code",
   "execution_count": 17,
   "metadata": {},
   "outputs": [
    {
     "data": {
      "text/plain": [
       "Loan_ID               0\n",
       "Gender               13\n",
       "Married               3\n",
       "Dependents           15\n",
       "Education             0\n",
       "Self_Employed        32\n",
       "ApplicantIncome       0\n",
       "CoapplicantIncome     0\n",
       "LoanAmount           22\n",
       "Loan_Amount_Term     14\n",
       "Credit_History       50\n",
       "Property_Area         0\n",
       "Loan_Status           0\n",
       "dtype: int64"
      ]
     },
     "execution_count": 17,
     "metadata": {},
     "output_type": "execute_result"
    }
   ],
   "source": [
    "#Check the Missing Values in train_data:\n",
    "train_data.isnull().sum()"
   ]
  },
  {
   "cell_type": "code",
   "execution_count": 18,
   "metadata": {},
   "outputs": [
    {
     "name": "stdout",
     "output_type": "stream",
     "text": [
      "Missing Values in train data:\n"
     ]
    },
    {
     "data": {
      "text/plain": [
       "Loan_ID              0.000000\n",
       "Gender               2.117264\n",
       "Married              0.488599\n",
       "Dependents           2.442997\n",
       "Education            0.000000\n",
       "Self_Employed        5.211726\n",
       "ApplicantIncome      0.000000\n",
       "CoapplicantIncome    0.000000\n",
       "LoanAmount           3.583062\n",
       "Loan_Amount_Term     2.280130\n",
       "Credit_History       8.143322\n",
       "Property_Area        0.000000\n",
       "Loan_Status          0.000000\n",
       "dtype: float64"
      ]
     },
     "execution_count": 18,
     "metadata": {},
     "output_type": "execute_result"
    }
   ],
   "source": [
    "#Check the missing values Percentage-wise in train data:\n",
    "print(\"Missing Values in train data:\")\n",
    "((train_data.isnull().sum())/train_data.shape[0])*100"
   ]
  },
  {
   "cell_type": "raw",
   "metadata": {},
   "source": [
    "# Credit_History column has the highest missing values(around 8%) and \n",
    "# Then Self_Employed has second highest Missing Values(5.21%).\n",
    "The Complete Missing details are:\n",
    "#Gender               2.117264\n",
    "#Married              0.488599\n",
    "#Dependents           2.442997\n",
    "#Self_Employed        5.211726\n",
    "#LoanAmount           3.583062\n",
    "#Loan_Amount_Term     2.280130\n",
    "#Credit_History       8.143322"
   ]
  },
  {
   "cell_type": "code",
   "execution_count": 19,
   "metadata": {},
   "outputs": [
    {
     "name": "stdout",
     "output_type": "stream",
     "text": [
      "Missing Values in test data:\n"
     ]
    },
    {
     "data": {
      "text/plain": [
       "Loan_ID              0.000000\n",
       "Gender               2.997275\n",
       "Married              0.000000\n",
       "Dependents           2.724796\n",
       "Education            0.000000\n",
       "Self_Employed        6.267030\n",
       "ApplicantIncome      0.000000\n",
       "CoapplicantIncome    0.000000\n",
       "LoanAmount           1.362398\n",
       "Loan_Amount_Term     1.634877\n",
       "Credit_History       7.901907\n",
       "Property_Area        0.000000\n",
       "dtype: float64"
      ]
     },
     "execution_count": 19,
     "metadata": {},
     "output_type": "execute_result"
    }
   ],
   "source": [
    "#Check the missing values Percentage-wise in test data:\n",
    "print(\"Missing Values in test data:\")\n",
    "((test_data.isnull().sum())/test_data.shape[0])*100"
   ]
  },
  {
   "cell_type": "raw",
   "metadata": {},
   "source": [
    "# Credit_History column has the highest missing values(around 7.90%) and \n",
    "# Then Self_Employed has second highest Missing Values(6.26%).\n",
    "#The Complete Missing Details for test_data:\n",
    "#Gender               2.997275\n",
    "#Dependents           2.724796\n",
    "#Self_Employed        6.267030\n",
    "#LoanAmount           1.362398\n",
    "#Loan_Amount_Term     1.634877\n",
    "#Credit_History       7.901907\n"
   ]
  },
  {
   "cell_type": "raw",
   "metadata": {},
   "source": [
    "#Missing Value analysis:"
   ]
  },
  {
   "cell_type": "code",
   "execution_count": 20,
   "metadata": {},
   "outputs": [
    {
     "name": "stdout",
     "output_type": "stream",
     "text": [
      "Loan_ID               object\n",
      "Gender                object\n",
      "Married               object\n",
      "Dependents            object\n",
      "Education             object\n",
      "Self_Employed         object\n",
      "ApplicantIncome        int64\n",
      "CoapplicantIncome    float64\n",
      "LoanAmount           float64\n",
      "Loan_Amount_Term     float64\n",
      "Credit_History       float64\n",
      "Property_Area         object\n",
      "Loan_Status           object\n",
      "dtype: object\n",
      "--------------------------\n",
      "Loan_ID               object\n",
      "Gender                object\n",
      "Married               object\n",
      "Dependents            object\n",
      "Education             object\n",
      "Self_Employed         object\n",
      "ApplicantIncome        int64\n",
      "CoapplicantIncome    float64\n",
      "LoanAmount           float64\n",
      "Loan_Amount_Term     float64\n",
      "Credit_History       float64\n",
      "Property_Area         object\n",
      "dtype: object\n"
     ]
    }
   ],
   "source": [
    "#Check the data types for train and test attributes:\n",
    "print(train_data.dtypes)\n",
    "print(\"--------------------------\")\n",
    "print(test_data.dtypes)"
   ]
  },
  {
   "cell_type": "raw",
   "metadata": {},
   "source": [
    "#The Complete Missing Details for test_data(Percentage):\n",
    "#It has 6 columns which has missing Values with percentage and data type;\n",
    "#Gender               2.997275(object)\n",
    "#Dependents           2.724796(Object)\n",
    "#Self_Employed        6.267030(Object)\n",
    "#LoanAmount           1.362398(float64)\n",
    "#Loan_Amount_Term     1.634877(float64)\n",
    "#Credit_History       7.901907(float64)\n",
    "----------------------------------------------\n",
    "#The Complete Missing details for train_data(Percentage):\n",
    "#It has 7 columns which has missing values with percentage and data type;\n",
    "#Gender               2.117264(object)\n",
    "#Married              0.488599(object)\n",
    "#Dependents           2.442997(Object)\n",
    "#Self_Employed        5.211726(object)\n",
    "#LoanAmount           3.583062(float64)\n",
    "#Loan_Amount_Term     2.280130(float64)\n",
    "#Credit_History       8.143322(float64)"
   ]
  },
  {
   "cell_type": "code",
   "execution_count": 21,
   "metadata": {},
   "outputs": [],
   "source": [
    "#Analyze and find the Numerical and Categorical data in train and test data"
   ]
  },
  {
   "cell_type": "code",
   "execution_count": 22,
   "metadata": {},
   "outputs": [],
   "source": [
    "#Find the Numerical and Categorical Attributes:\n",
    "num_attr = [\"ApplicantIncome\",\"CoapplicantIncome\",\"LoanAmount\",\"Loan_Amount_Term\",\"Credit_History\"]\n",
    "cat_attr = ['Loan_ID','Gender','Married','Dependents','Education','Self_Employed','Property_Area',]\n",
    "target =   ['Loan_Status']"
   ]
  },
  {
   "cell_type": "code",
   "execution_count": 23,
   "metadata": {},
   "outputs": [],
   "source": [
    "#Fill the Missing values in train_data:\n",
    "train_num_attr = train_data[num_attr]\n",
    "train_cat_attr = train_data[cat_attr]"
   ]
  },
  {
   "cell_type": "code",
   "execution_count": 24,
   "metadata": {},
   "outputs": [],
   "source": [
    "import statistics"
   ]
  },
  {
   "cell_type": "code",
   "execution_count": 25,
   "metadata": {},
   "outputs": [],
   "source": [
    "#To Create the mode for categorical data and median for numerical data for filling in train_data:\n",
    "mode1 = statistics.mode(train_cat_attr['Gender'])\n",
    "mode2 = train_cat_attr[\"Married\"].mode().values[0]\n",
    "mode3 = train_cat_attr[\"Dependents\"].mode().values[0]\n",
    "mode4 = train_cat_attr[\"Self_Employed\"].mode().values[0]\n",
    "median5 = train_num_attr[\"LoanAmount\"].median()\n",
    "median6 = train_num_attr[\"Loan_Amount_Term\"].median()\n",
    "median7 = train_num_attr[\"Credit_History\"].median()"
   ]
  },
  {
   "cell_type": "code",
   "execution_count": 26,
   "metadata": {},
   "outputs": [
    {
     "name": "stdout",
     "output_type": "stream",
     "text": [
      "Male Yes 0 No 128.0 360.0 1.0\n",
      "Yes\n"
     ]
    }
   ],
   "source": [
    "print(mode1,mode2,mode3,mode4,median5,median6,median7)\n",
    "print(mode2)"
   ]
  },
  {
   "cell_type": "code",
   "execution_count": 27,
   "metadata": {},
   "outputs": [
    {
     "name": "stderr",
     "output_type": "stream",
     "text": [
      "C:\\Users\\HARIOHM\\anaconda3\\lib\\site-packages\\pandas\\core\\series.py:4569: SettingWithCopyWarning: \n",
      "A value is trying to be set on a copy of a slice from a DataFrame\n",
      "\n",
      "See the caveats in the documentation: https://pandas.pydata.org/pandas-docs/stable/user_guide/indexing.html#returning-a-view-versus-a-copy\n",
      "  method=method,\n"
     ]
    }
   ],
   "source": [
    "#Fill the missing values in train_cat_attr,train_num_attr data:\n",
    "train_cat_attr[\"Gender\"].replace(np.nan,mode1,inplace=True)\n",
    "train_cat_attr[\"Married\"].replace(np.nan,mode2,inplace=True)\n",
    "train_cat_attr[\"Dependents\"].replace(np.nan,mode3,inplace=True)\n",
    "train_cat_attr[\"Self_Employed\"].replace(np.nan,mode4,inplace=True)\n",
    "train_num_attr[\"LoanAmount\"].replace(np.nan,median5,inplace=True)\n",
    "train_num_attr[\"Loan_Amount_Term\"].replace(np.nan,median6,inplace=True)\n",
    "train_num_attr[\"Credit_History\"].replace(np.nan,median7,inplace=True)"
   ]
  },
  {
   "cell_type": "code",
   "execution_count": 28,
   "metadata": {},
   "outputs": [
    {
     "name": "stdout",
     "output_type": "stream",
     "text": [
      "Total Missing Values in train_cat_attr: Loan_ID          0\n",
      "Gender           0\n",
      "Married          0\n",
      "Dependents       0\n",
      "Education        0\n",
      "Self_Employed    0\n",
      "Property_Area    0\n",
      "dtype: int64\n",
      "Total Missing values in train_num_attr: ApplicantIncome      0\n",
      "CoapplicantIncome    0\n",
      "LoanAmount           0\n",
      "Loan_Amount_Term     0\n",
      "Credit_History       0\n",
      "dtype: int64\n"
     ]
    }
   ],
   "source": [
    "#Check the Missing Values in train_cat_attr and train_num_attr\n",
    "print(\"Total Missing Values in train_cat_attr:\",train_cat_attr.isna().sum())\n",
    "print(\"Total Missing values in train_num_attr:\",train_num_attr.isna().sum())"
   ]
  },
  {
   "cell_type": "code",
   "execution_count": 29,
   "metadata": {},
   "outputs": [
    {
     "name": "stdout",
     "output_type": "stream",
     "text": [
      "(614, 7)\n",
      "(614, 5)\n"
     ]
    }
   ],
   "source": [
    "#Check the dimesnions of numerical and categorical col for train data:\n",
    "print(train_cat_attr.shape)\n",
    "print(train_num_attr.shape)"
   ]
  },
  {
   "cell_type": "markdown",
   "metadata": {},
   "source": [
    "# The Target Column is \"Loan_Status\""
   ]
  },
  {
   "cell_type": "code",
   "execution_count": 30,
   "metadata": {},
   "outputs": [
    {
     "data": {
      "text/plain": [
       "(614, 1)"
      ]
     },
     "execution_count": 30,
     "metadata": {},
     "output_type": "execute_result"
    }
   ],
   "source": [
    "train_data[[\"Loan_Status\"]].shape"
   ]
  },
  {
   "cell_type": "code",
   "execution_count": 31,
   "metadata": {},
   "outputs": [],
   "source": [
    "#Missing Values is treated in train_data and combined into one dataframe:\n",
    "train_num_cat = pd.concat([train_num_attr,train_cat_attr,train_data[[\"Loan_Status\"]]],axis=1)"
   ]
  },
  {
   "cell_type": "code",
   "execution_count": 32,
   "metadata": {},
   "outputs": [
    {
     "data": {
      "text/plain": [
       "(614, 13)"
      ]
     },
     "execution_count": 32,
     "metadata": {},
     "output_type": "execute_result"
    }
   ],
   "source": [
    "#Check the dimension:\n",
    "train_num_cat.shape"
   ]
  },
  {
   "cell_type": "code",
   "execution_count": 33,
   "metadata": {},
   "outputs": [
    {
     "data": {
      "text/html": [
       "<div>\n",
       "<style scoped>\n",
       "    .dataframe tbody tr th:only-of-type {\n",
       "        vertical-align: middle;\n",
       "    }\n",
       "\n",
       "    .dataframe tbody tr th {\n",
       "        vertical-align: top;\n",
       "    }\n",
       "\n",
       "    .dataframe thead th {\n",
       "        text-align: right;\n",
       "    }\n",
       "</style>\n",
       "<table border=\"1\" class=\"dataframe\">\n",
       "  <thead>\n",
       "    <tr style=\"text-align: right;\">\n",
       "      <th></th>\n",
       "      <th>ApplicantIncome</th>\n",
       "      <th>CoapplicantIncome</th>\n",
       "      <th>LoanAmount</th>\n",
       "      <th>Loan_Amount_Term</th>\n",
       "      <th>Credit_History</th>\n",
       "      <th>Loan_ID</th>\n",
       "      <th>Gender</th>\n",
       "      <th>Married</th>\n",
       "      <th>Dependents</th>\n",
       "      <th>Education</th>\n",
       "      <th>Self_Employed</th>\n",
       "      <th>Property_Area</th>\n",
       "      <th>Loan_Status</th>\n",
       "    </tr>\n",
       "  </thead>\n",
       "  <tbody>\n",
       "    <tr>\n",
       "      <th>0</th>\n",
       "      <td>5849</td>\n",
       "      <td>0.0</td>\n",
       "      <td>128.0</td>\n",
       "      <td>360.0</td>\n",
       "      <td>1.0</td>\n",
       "      <td>LP001002</td>\n",
       "      <td>Male</td>\n",
       "      <td>No</td>\n",
       "      <td>0</td>\n",
       "      <td>Graduate</td>\n",
       "      <td>No</td>\n",
       "      <td>Urban</td>\n",
       "      <td>Y</td>\n",
       "    </tr>\n",
       "    <tr>\n",
       "      <th>1</th>\n",
       "      <td>4583</td>\n",
       "      <td>1508.0</td>\n",
       "      <td>128.0</td>\n",
       "      <td>360.0</td>\n",
       "      <td>1.0</td>\n",
       "      <td>LP001003</td>\n",
       "      <td>Male</td>\n",
       "      <td>Yes</td>\n",
       "      <td>1</td>\n",
       "      <td>Graduate</td>\n",
       "      <td>No</td>\n",
       "      <td>Rural</td>\n",
       "      <td>N</td>\n",
       "    </tr>\n",
       "    <tr>\n",
       "      <th>2</th>\n",
       "      <td>3000</td>\n",
       "      <td>0.0</td>\n",
       "      <td>66.0</td>\n",
       "      <td>360.0</td>\n",
       "      <td>1.0</td>\n",
       "      <td>LP001005</td>\n",
       "      <td>Male</td>\n",
       "      <td>Yes</td>\n",
       "      <td>0</td>\n",
       "      <td>Graduate</td>\n",
       "      <td>Yes</td>\n",
       "      <td>Urban</td>\n",
       "      <td>Y</td>\n",
       "    </tr>\n",
       "    <tr>\n",
       "      <th>3</th>\n",
       "      <td>2583</td>\n",
       "      <td>2358.0</td>\n",
       "      <td>120.0</td>\n",
       "      <td>360.0</td>\n",
       "      <td>1.0</td>\n",
       "      <td>LP001006</td>\n",
       "      <td>Male</td>\n",
       "      <td>Yes</td>\n",
       "      <td>0</td>\n",
       "      <td>Not Graduate</td>\n",
       "      <td>No</td>\n",
       "      <td>Urban</td>\n",
       "      <td>Y</td>\n",
       "    </tr>\n",
       "    <tr>\n",
       "      <th>4</th>\n",
       "      <td>6000</td>\n",
       "      <td>0.0</td>\n",
       "      <td>141.0</td>\n",
       "      <td>360.0</td>\n",
       "      <td>1.0</td>\n",
       "      <td>LP001008</td>\n",
       "      <td>Male</td>\n",
       "      <td>No</td>\n",
       "      <td>0</td>\n",
       "      <td>Graduate</td>\n",
       "      <td>No</td>\n",
       "      <td>Urban</td>\n",
       "      <td>Y</td>\n",
       "    </tr>\n",
       "  </tbody>\n",
       "</table>\n",
       "</div>"
      ],
      "text/plain": [
       "   ApplicantIncome  CoapplicantIncome  LoanAmount  Loan_Amount_Term  \\\n",
       "0             5849                0.0       128.0             360.0   \n",
       "1             4583             1508.0       128.0             360.0   \n",
       "2             3000                0.0        66.0             360.0   \n",
       "3             2583             2358.0       120.0             360.0   \n",
       "4             6000                0.0       141.0             360.0   \n",
       "\n",
       "   Credit_History   Loan_ID Gender Married Dependents     Education  \\\n",
       "0             1.0  LP001002   Male      No          0      Graduate   \n",
       "1             1.0  LP001003   Male     Yes          1      Graduate   \n",
       "2             1.0  LP001005   Male     Yes          0      Graduate   \n",
       "3             1.0  LP001006   Male     Yes          0  Not Graduate   \n",
       "4             1.0  LP001008   Male      No          0      Graduate   \n",
       "\n",
       "  Self_Employed Property_Area Loan_Status  \n",
       "0            No         Urban           Y  \n",
       "1            No         Rural           N  \n",
       "2           Yes         Urban           Y  \n",
       "3            No         Urban           Y  \n",
       "4            No         Urban           Y  "
      ]
     },
     "execution_count": 33,
     "metadata": {},
     "output_type": "execute_result"
    }
   ],
   "source": [
    "train_num_cat.head()"
   ]
  },
  {
   "cell_type": "markdown",
   "metadata": {},
   "source": [
    "# Missing Value Treatment for the test data:"
   ]
  },
  {
   "cell_type": "code",
   "execution_count": 34,
   "metadata": {},
   "outputs": [],
   "source": [
    "#To Create the mode for categorical data and median for numerical data for filling in train_data:\n",
    "mode1t = statistics.mode(train_cat_attr['Gender'])\n",
    "mode2t = train_cat_attr[\"Dependents\"].mode().values[0]\n",
    "mode3t = train_cat_attr[\"Self_Employed\"].mode().values[0]\n",
    "median4t = train_num_attr[\"LoanAmount\"].median()\n",
    "median5t = train_num_attr[\"Loan_Amount_Term\"].median()\n",
    "median6t = train_num_attr[\"Credit_History\"].median()"
   ]
  },
  {
   "cell_type": "code",
   "execution_count": 35,
   "metadata": {},
   "outputs": [],
   "source": [
    "#Replace the Missing Values in test data:\n",
    "test_data[\"Gender\"].replace(np.nan,mode1t,inplace=True)\n",
    "test_data[\"Dependents\"].replace(np.nan,mode2t,inplace=True)\n",
    "test_data[\"Self_Employed\"].replace(np.nan,mode3t,inplace=True)\n",
    "test_data[\"LoanAmount\"].replace(np.nan,median4t,inplace=True)\n",
    "test_data[\"Loan_Amount_Term\"].replace(np.nan,median5t,inplace=True)\n",
    "test_data[\"Credit_History\"].replace(np.nan,median6t,inplace=True)"
   ]
  },
  {
   "cell_type": "code",
   "execution_count": 36,
   "metadata": {},
   "outputs": [
    {
     "data": {
      "text/plain": [
       "Loan_ID              0\n",
       "Gender               0\n",
       "Married              0\n",
       "Dependents           0\n",
       "Education            0\n",
       "Self_Employed        0\n",
       "ApplicantIncome      0\n",
       "CoapplicantIncome    0\n",
       "LoanAmount           0\n",
       "Loan_Amount_Term     0\n",
       "Credit_History       0\n",
       "Property_Area        0\n",
       "dtype: int64"
      ]
     },
     "execution_count": 36,
     "metadata": {},
     "output_type": "execute_result"
    }
   ],
   "source": [
    "#After Missing Value Treatment check the missing Values:\n",
    "test_data.isna().sum()"
   ]
  },
  {
   "cell_type": "raw",
   "metadata": {},
   "source": [
    "#Here we have used two approach.\n",
    "For train data we have separated the numerical and categorical attributes and then fill the missing values\n",
    "and for test we have filled dorectly becuae we know which is numerical and which is categorical.\n",
    "#There is no fixed rul but which one is suits, could be used."
   ]
  },
  {
   "cell_type": "code",
   "execution_count": 37,
   "metadata": {},
   "outputs": [
    {
     "data": {
      "text/plain": [
       "0"
      ]
     },
     "execution_count": 37,
     "metadata": {},
     "output_type": "execute_result"
    }
   ],
   "source": [
    "#Check the duplicates values in train_num_cat:\n",
    "train_duplicate = train_num_cat.duplicated()\n",
    "train_duplicate.sum()\n"
   ]
  },
  {
   "cell_type": "code",
   "execution_count": 38,
   "metadata": {},
   "outputs": [],
   "source": [
    "#It has 0 duplicate values bUt if we have duplicate values then we can also check:\n",
    "#train_num_cat[train_duplicate]\n",
    "\n",
    "#If want to drop the duplicates then:\n",
    "#train_num_cat.drop_duplicates(inplace=True)"
   ]
  },
  {
   "cell_type": "code",
   "execution_count": 39,
   "metadata": {},
   "outputs": [
    {
     "data": {
      "text/plain": [
       "0"
      ]
     },
     "execution_count": 39,
     "metadata": {},
     "output_type": "execute_result"
    }
   ],
   "source": [
    "#Check the duplicates in test_data:\n",
    "dpl_test = test_data.duplicated()\n",
    "dpl_test.sum()"
   ]
  },
  {
   "cell_type": "code",
   "execution_count": 40,
   "metadata": {},
   "outputs": [],
   "source": [
    "#Test data has also no duplicate observations."
   ]
  },
  {
   "cell_type": "markdown",
   "metadata": {},
   "source": [
    "# Check the Outlier Treatment:"
   ]
  },
  {
   "cell_type": "code",
   "execution_count": 41,
   "metadata": {},
   "outputs": [
    {
     "data": {
      "text/plain": [
       "<AxesSubplot:>"
      ]
     },
     "execution_count": 41,
     "metadata": {},
     "output_type": "execute_result"
    },
    {
     "data": {
      "image/png": "[encoded data removed]",
      "text/plain": [
       "<Figure size 432x288 with 1 Axes>"
      ]
     },
     "metadata": {
      "needs_background": "light"
     },
     "output_type": "display_data"
    }
   ],
   "source": [
    "#Use the Box and Whisker Plot to find the Outlier into train_num_cat dataframe using the numerical data:\n",
    "train_num_cat.boxplot(column = [\"ApplicantIncome\",\"CoapplicantIncome\",\"LoanAmount\",\"Loan_Amount_Term\",\"Credit_History\"])"
   ]
  },
  {
   "cell_type": "code",
   "execution_count": 42,
   "metadata": {},
   "outputs": [],
   "source": [
    "#It is observed that outlier is present. \n",
    "#as per the domain understanding it migh not \n",
    "#But statistically it has outlier present.\n",
    "#We can treat the Outlier by:\n",
    "#1. Drop the Outlier\n",
    "#2. Replace the outlier Values using IQR"
   ]
  },
  {
   "cell_type": "code",
   "execution_count": 43,
   "metadata": {},
   "outputs": [],
   "source": [
    "#Create a user defined function called remove_outlier for getting the threshold value from IQR.\n",
    "def remove_outlier(col):\n",
    "    sorted(col)\n",
    "    Q1,Q3=col.quantile([0.25,0.75])\n",
    "    IQR=Q3-Q1\n",
    "    lower_range = Q1-(1.5*IQR)\n",
    "    upper_range = Q3+(1.5*IQR)\n",
    "    return lower_range,upper_range"
   ]
  },
  {
   "cell_type": "code",
   "execution_count": 44,
   "metadata": {},
   "outputs": [],
   "source": [
    "#Remove the Outlier from Applicant Column:\n",
    "lowincome,uppincome=remove_outlier(train_num_cat[\"ApplicantIncome\"])\n",
    "train_num_cat[[\"ApplicantIncome\"]] = np.where(train_num_cat[[\"ApplicantIncome\"]]>uppincome,uppincome,train_num_cat[[\"ApplicantIncome\"]])\n",
    "train_num_cat[[\"ApplicantIncome\"]] = np.where(train_num_cat[[\"ApplicantIncome\"]]<lowincome,lowincome,train_num_cat[[\"ApplicantIncome\"]])"
   ]
  },
  {
   "cell_type": "code",
   "execution_count": null,
   "metadata": {},
   "outputs": [],
   "source": []
  },
  {
   "cell_type": "code",
   "execution_count": 45,
   "metadata": {},
   "outputs": [],
   "source": [
    "#Remove the Outlier from CopplicantIncome Column:\n",
    "lowincome,uppincome=remove_outlier(train_num_cat[\"CoapplicantIncome\"])\n",
    "train_num_cat[[\"CoapplicantIncome\"]] = np.where(train_num_cat[[\"CoapplicantIncome\"]]>uppincome,uppincome,train_num_cat[[\"CoapplicantIncome\"]])\n",
    "train_num_cat[[\"CoapplicantIncome\"]] = np.where(train_num_cat[[\"CoapplicantIncome\"]]<lowincome,lowincome,train_num_cat[[\"CoapplicantIncome\"]])"
   ]
  },
  {
   "cell_type": "code",
   "execution_count": 46,
   "metadata": {},
   "outputs": [
    {
     "data": {
      "text/plain": [
       "<AxesSubplot:>"
      ]
     },
     "execution_count": 46,
     "metadata": {},
     "output_type": "execute_result"
    },
    {
     "data": {
      "image/png": "[encoded data removed]",
      "text/plain": [
       "<Figure size 432x288 with 1 Axes>"
      ]
     },
     "metadata": {
      "needs_background": "light"
     },
     "output_type": "display_data"
    }
   ],
   "source": [
    "train_num_cat.boxplot(column = [\"ApplicantIncome\",\"CoapplicantIncome\"])"
   ]
  },
  {
   "cell_type": "code",
   "execution_count": 47,
   "metadata": {},
   "outputs": [
    {
     "data": {
      "text/plain": [
       "<AxesSubplot:>"
      ]
     },
     "execution_count": 47,
     "metadata": {},
     "output_type": "execute_result"
    },
    {
     "data": {
      "image/png": "[encoded data removed]",
      "text/plain": [
       "<Figure size 432x288 with 1 Axes>"
      ]
     },
     "metadata": {
      "needs_background": "light"
     },
     "output_type": "display_data"
    }
   ],
   "source": [
    "#If test_data is told for the outlier treatment then we can go for the treatment.\n",
    "test_data.boxplot()\n",
    "#Here we won't do that because of Business requirement. We need to go for the prediction for test_data"
   ]
  },
  {
   "cell_type": "code",
   "execution_count": 48,
   "metadata": {},
   "outputs": [
    {
     "data": {
      "text/html": [
       "<div>\n",
       "<style scoped>\n",
       "    .dataframe tbody tr th:only-of-type {\n",
       "        vertical-align: middle;\n",
       "    }\n",
       "\n",
       "    .dataframe tbody tr th {\n",
       "        vertical-align: top;\n",
       "    }\n",
       "\n",
       "    .dataframe thead th {\n",
       "        text-align: right;\n",
       "    }\n",
       "</style>\n",
       "<table border=\"1\" class=\"dataframe\">\n",
       "  <thead>\n",
       "    <tr style=\"text-align: right;\">\n",
       "      <th></th>\n",
       "      <th>ApplicantIncome</th>\n",
       "      <th>CoapplicantIncome</th>\n",
       "      <th>LoanAmount</th>\n",
       "      <th>Loan_Amount_Term</th>\n",
       "      <th>Credit_History</th>\n",
       "    </tr>\n",
       "  </thead>\n",
       "  <tbody>\n",
       "    <tr>\n",
       "      <th>ApplicantIncome</th>\n",
       "      <td>1.000000</td>\n",
       "      <td>-0.228956</td>\n",
       "      <td>0.559780</td>\n",
       "      <td>-0.023926</td>\n",
       "      <td>0.035345</td>\n",
       "    </tr>\n",
       "    <tr>\n",
       "      <th>CoapplicantIncome</th>\n",
       "      <td>-0.228956</td>\n",
       "      <td>1.000000</td>\n",
       "      <td>0.203743</td>\n",
       "      <td>-0.029295</td>\n",
       "      <td>-0.001710</td>\n",
       "    </tr>\n",
       "    <tr>\n",
       "      <th>LoanAmount</th>\n",
       "      <td>0.559780</td>\n",
       "      <td>0.203743</td>\n",
       "      <td>1.000000</td>\n",
       "      <td>0.036960</td>\n",
       "      <td>-0.000607</td>\n",
       "    </tr>\n",
       "    <tr>\n",
       "      <th>Loan_Amount_Term</th>\n",
       "      <td>-0.023926</td>\n",
       "      <td>-0.029295</td>\n",
       "      <td>0.036960</td>\n",
       "      <td>1.000000</td>\n",
       "      <td>-0.004705</td>\n",
       "    </tr>\n",
       "    <tr>\n",
       "      <th>Credit_History</th>\n",
       "      <td>0.035345</td>\n",
       "      <td>-0.001710</td>\n",
       "      <td>-0.000607</td>\n",
       "      <td>-0.004705</td>\n",
       "      <td>1.000000</td>\n",
       "    </tr>\n",
       "  </tbody>\n",
       "</table>\n",
       "</div>"
      ],
      "text/plain": [
       "                   ApplicantIncome  CoapplicantIncome  LoanAmount  \\\n",
       "ApplicantIncome           1.000000          -0.228956    0.559780   \n",
       "CoapplicantIncome        -0.228956           1.000000    0.203743   \n",
       "LoanAmount                0.559780           0.203743    1.000000   \n",
       "Loan_Amount_Term         -0.023926          -0.029295    0.036960   \n",
       "Credit_History            0.035345          -0.001710   -0.000607   \n",
       "\n",
       "                   Loan_Amount_Term  Credit_History  \n",
       "ApplicantIncome           -0.023926        0.035345  \n",
       "CoapplicantIncome         -0.029295       -0.001710  \n",
       "LoanAmount                 0.036960       -0.000607  \n",
       "Loan_Amount_Term           1.000000       -0.004705  \n",
       "Credit_History            -0.004705        1.000000  "
      ]
     },
     "execution_count": 48,
     "metadata": {},
     "output_type": "execute_result"
    }
   ],
   "source": [
    "#Find the Correlations in train_num_data:\n",
    "train_num_cat.corr()\n",
    "#Observation not much correlated."
   ]
  },
  {
   "cell_type": "markdown",
   "metadata": {},
   "source": [
    "# Scaling through Standardizations:"
   ]
  },
  {
   "cell_type": "code",
   "execution_count": 49,
   "metadata": {},
   "outputs": [],
   "source": [
    "#Scaling the numerical column in train_num_cat data:\n",
    "from sklearn.preprocessing import StandardScaler\n",
    "StdScale = StandardScaler()\n"
   ]
  },
  {
   "cell_type": "code",
   "execution_count": 50,
   "metadata": {},
   "outputs": [],
   "source": [
    "#Scale the train_num_cat data(Only Numerical data):\n",
    "\n",
    "train_num_cat[[\"ApplicantIncome\"]] = StdScale.fit_transform(train_num_cat[[\"ApplicantIncome\"]])\n",
    "train_num_cat[[\"CoapplicantIncome\"]] = StdScale.fit_transform(train_num_cat[[\"CoapplicantIncome\"]])\n",
    "train_num_cat[[\"LoanAmount\"]] = StdScale.fit_transform(train_num_cat[[\"LoanAmount\"]])\n",
    "train_num_cat[[\"Loan_Amount_Term\"]] = StdScale.fit_transform(train_num_cat[[\"Loan_Amount_Term\"]])\n",
    "train_num_cat[[\"Credit_History\"]] = StdScale.fit_transform(train_num_cat[[\"Credit_History\"]])"
   ]
  },
  {
   "cell_type": "code",
   "execution_count": 51,
   "metadata": {},
   "outputs": [
    {
     "data": {
      "text/html": [
       "<div>\n",
       "<style scoped>\n",
       "    .dataframe tbody tr th:only-of-type {\n",
       "        vertical-align: middle;\n",
       "    }\n",
       "\n",
       "    .dataframe tbody tr th {\n",
       "        vertical-align: top;\n",
       "    }\n",
       "\n",
       "    .dataframe thead th {\n",
       "        text-align: right;\n",
       "    }\n",
       "</style>\n",
       "<table border=\"1\" class=\"dataframe\">\n",
       "  <thead>\n",
       "    <tr style=\"text-align: right;\">\n",
       "      <th></th>\n",
       "      <th>ApplicantIncome</th>\n",
       "      <th>CoapplicantIncome</th>\n",
       "      <th>LoanAmount</th>\n",
       "      <th>Loan_Amount_Term</th>\n",
       "      <th>Credit_History</th>\n",
       "      <th>Loan_ID</th>\n",
       "      <th>Gender</th>\n",
       "      <th>Married</th>\n",
       "      <th>Dependents</th>\n",
       "      <th>Education</th>\n",
       "      <th>Self_Employed</th>\n",
       "      <th>Property_Area</th>\n",
       "      <th>Loan_Status</th>\n",
       "    </tr>\n",
       "  </thead>\n",
       "  <tbody>\n",
       "    <tr>\n",
       "      <th>0</th>\n",
       "      <td>0.497164</td>\n",
       "      <td>-0.874587</td>\n",
       "      <td>-0.211241</td>\n",
       "      <td>0.273231</td>\n",
       "      <td>0.411733</td>\n",
       "      <td>LP001002</td>\n",
       "      <td>Male</td>\n",
       "      <td>No</td>\n",
       "      <td>0</td>\n",
       "      <td>Graduate</td>\n",
       "      <td>No</td>\n",
       "      <td>Urban</td>\n",
       "      <td>Y</td>\n",
       "    </tr>\n",
       "    <tr>\n",
       "      <th>1</th>\n",
       "      <td>-0.013767</td>\n",
       "      <td>0.054395</td>\n",
       "      <td>-0.211241</td>\n",
       "      <td>0.273231</td>\n",
       "      <td>0.411733</td>\n",
       "      <td>LP001003</td>\n",
       "      <td>Male</td>\n",
       "      <td>Yes</td>\n",
       "      <td>1</td>\n",
       "      <td>Graduate</td>\n",
       "      <td>No</td>\n",
       "      <td>Rural</td>\n",
       "      <td>N</td>\n",
       "    </tr>\n",
       "    <tr>\n",
       "      <th>2</th>\n",
       "      <td>-0.652632</td>\n",
       "      <td>-0.874587</td>\n",
       "      <td>-0.948996</td>\n",
       "      <td>0.273231</td>\n",
       "      <td>0.411733</td>\n",
       "      <td>LP001005</td>\n",
       "      <td>Male</td>\n",
       "      <td>Yes</td>\n",
       "      <td>0</td>\n",
       "      <td>Graduate</td>\n",
       "      <td>Yes</td>\n",
       "      <td>Urban</td>\n",
       "      <td>Y</td>\n",
       "    </tr>\n",
       "    <tr>\n",
       "      <th>3</th>\n",
       "      <td>-0.820924</td>\n",
       "      <td>0.578025</td>\n",
       "      <td>-0.306435</td>\n",
       "      <td>0.273231</td>\n",
       "      <td>0.411733</td>\n",
       "      <td>LP001006</td>\n",
       "      <td>Male</td>\n",
       "      <td>Yes</td>\n",
       "      <td>0</td>\n",
       "      <td>Not Graduate</td>\n",
       "      <td>No</td>\n",
       "      <td>Urban</td>\n",
       "      <td>Y</td>\n",
       "    </tr>\n",
       "    <tr>\n",
       "      <th>4</th>\n",
       "      <td>0.558104</td>\n",
       "      <td>-0.874587</td>\n",
       "      <td>-0.056551</td>\n",
       "      <td>0.273231</td>\n",
       "      <td>0.411733</td>\n",
       "      <td>LP001008</td>\n",
       "      <td>Male</td>\n",
       "      <td>No</td>\n",
       "      <td>0</td>\n",
       "      <td>Graduate</td>\n",
       "      <td>No</td>\n",
       "      <td>Urban</td>\n",
       "      <td>Y</td>\n",
       "    </tr>\n",
       "  </tbody>\n",
       "</table>\n",
       "</div>"
      ],
      "text/plain": [
       "   ApplicantIncome  CoapplicantIncome  LoanAmount  Loan_Amount_Term  \\\n",
       "0         0.497164          -0.874587   -0.211241          0.273231   \n",
       "1        -0.013767           0.054395   -0.211241          0.273231   \n",
       "2        -0.652632          -0.874587   -0.948996          0.273231   \n",
       "3        -0.820924           0.578025   -0.306435          0.273231   \n",
       "4         0.558104          -0.874587   -0.056551          0.273231   \n",
       "\n",
       "   Credit_History   Loan_ID Gender Married Dependents     Education  \\\n",
       "0        0.411733  LP001002   Male      No          0      Graduate   \n",
       "1        0.411733  LP001003   Male     Yes          1      Graduate   \n",
       "2        0.411733  LP001005   Male     Yes          0      Graduate   \n",
       "3        0.411733  LP001006   Male     Yes          0  Not Graduate   \n",
       "4        0.411733  LP001008   Male      No          0      Graduate   \n",
       "\n",
       "  Self_Employed Property_Area Loan_Status  \n",
       "0            No         Urban           Y  \n",
       "1            No         Rural           N  \n",
       "2           Yes         Urban           Y  \n",
       "3            No         Urban           Y  \n",
       "4            No         Urban           Y  "
      ]
     },
     "execution_count": 51,
     "metadata": {},
     "output_type": "execute_result"
    }
   ],
   "source": [
    "train_num_cat.head()"
   ]
  },
  {
   "cell_type": "code",
   "execution_count": 52,
   "metadata": {},
   "outputs": [],
   "source": [
    "#Scale the test_data(Numerical data):\n",
    "test_data[[\"ApplicantIncome\"]] = StdScale.fit_transform(test_data[[\"ApplicantIncome\"]])\n",
    "test_data[[\"CoapplicantIncome\"]] = StdScale.fit_transform(test_data[[\"CoapplicantIncome\"]])\n",
    "test_data[[\"LoanAmount\"]] = StdScale.fit_transform(test_data[[\"LoanAmount\"]])\n",
    "test_data[[\"Loan_Amount_Term\"]] = StdScale.fit_transform(test_data[[\"Loan_Amount_Term\"]])\n",
    "test_data[[\"Credit_History\"]] = StdScale.fit_transform(test_data[[\"Credit_History\"]])"
   ]
  },
  {
   "cell_type": "code",
   "execution_count": 53,
   "metadata": {},
   "outputs": [
    {
     "data": {
      "text/html": [
       "<div>\n",
       "<style scoped>\n",
       "    .dataframe tbody tr th:only-of-type {\n",
       "        vertical-align: middle;\n",
       "    }\n",
       "\n",
       "    .dataframe tbody tr th {\n",
       "        vertical-align: top;\n",
       "    }\n",
       "\n",
       "    .dataframe thead th {\n",
       "        text-align: right;\n",
       "    }\n",
       "</style>\n",
       "<table border=\"1\" class=\"dataframe\">\n",
       "  <thead>\n",
       "    <tr style=\"text-align: right;\">\n",
       "      <th></th>\n",
       "      <th>Loan_ID</th>\n",
       "      <th>Gender</th>\n",
       "      <th>Married</th>\n",
       "      <th>Dependents</th>\n",
       "      <th>Education</th>\n",
       "      <th>Self_Employed</th>\n",
       "      <th>ApplicantIncome</th>\n",
       "      <th>CoapplicantIncome</th>\n",
       "      <th>LoanAmount</th>\n",
       "      <th>Loan_Amount_Term</th>\n",
       "      <th>Credit_History</th>\n",
       "      <th>Property_Area</th>\n",
       "    </tr>\n",
       "  </thead>\n",
       "  <tbody>\n",
       "    <tr>\n",
       "      <th>0</th>\n",
       "      <td>LP001015</td>\n",
       "      <td>Male</td>\n",
       "      <td>Yes</td>\n",
       "      <td>0</td>\n",
       "      <td>Graduate</td>\n",
       "      <td>No</td>\n",
       "      <td>0.186461</td>\n",
       "      <td>-0.673335</td>\n",
       "      <td>-0.427496</td>\n",
       "      <td>0.266022</td>\n",
       "      <td>0.437674</td>\n",
       "      <td>Urban</td>\n",
       "    </tr>\n",
       "    <tr>\n",
       "      <th>1</th>\n",
       "      <td>LP001022</td>\n",
       "      <td>Male</td>\n",
       "      <td>Yes</td>\n",
       "      <td>1</td>\n",
       "      <td>Graduate</td>\n",
       "      <td>No</td>\n",
       "      <td>-0.352692</td>\n",
       "      <td>-0.029848</td>\n",
       "      <td>-0.164642</td>\n",
       "      <td>0.266022</td>\n",
       "      <td>0.437674</td>\n",
       "      <td>Urban</td>\n",
       "    </tr>\n",
       "    <tr>\n",
       "      <th>2</th>\n",
       "      <td>LP001031</td>\n",
       "      <td>Male</td>\n",
       "      <td>Yes</td>\n",
       "      <td>2</td>\n",
       "      <td>Graduate</td>\n",
       "      <td>No</td>\n",
       "      <td>0.039641</td>\n",
       "      <td>0.098849</td>\n",
       "      <td>1.182486</td>\n",
       "      <td>0.266022</td>\n",
       "      <td>0.437674</td>\n",
       "      <td>Urban</td>\n",
       "    </tr>\n",
       "    <tr>\n",
       "      <th>3</th>\n",
       "      <td>LP001035</td>\n",
       "      <td>Male</td>\n",
       "      <td>Yes</td>\n",
       "      <td>2</td>\n",
       "      <td>Graduate</td>\n",
       "      <td>No</td>\n",
       "      <td>-0.502774</td>\n",
       "      <td>0.418877</td>\n",
       "      <td>-0.591780</td>\n",
       "      <td>0.266022</td>\n",
       "      <td>0.437674</td>\n",
       "      <td>Urban</td>\n",
       "    </tr>\n",
       "    <tr>\n",
       "      <th>4</th>\n",
       "      <td>LP001051</td>\n",
       "      <td>Male</td>\n",
       "      <td>No</td>\n",
       "      <td>0</td>\n",
       "      <td>Not Graduate</td>\n",
       "      <td>No</td>\n",
       "      <td>-0.311909</td>\n",
       "      <td>-0.673335</td>\n",
       "      <td>-0.953205</td>\n",
       "      <td>0.266022</td>\n",
       "      <td>0.437674</td>\n",
       "      <td>Urban</td>\n",
       "    </tr>\n",
       "  </tbody>\n",
       "</table>\n",
       "</div>"
      ],
      "text/plain": [
       "    Loan_ID Gender Married Dependents     Education Self_Employed  \\\n",
       "0  LP001015   Male     Yes          0      Graduate            No   \n",
       "1  LP001022   Male     Yes          1      Graduate            No   \n",
       "2  LP001031   Male     Yes          2      Graduate            No   \n",
       "3  LP001035   Male     Yes          2      Graduate            No   \n",
       "4  LP001051   Male      No          0  Not Graduate            No   \n",
       "\n",
       "   ApplicantIncome  CoapplicantIncome  LoanAmount  Loan_Amount_Term  \\\n",
       "0         0.186461          -0.673335   -0.427496          0.266022   \n",
       "1        -0.352692          -0.029848   -0.164642          0.266022   \n",
       "2         0.039641           0.098849    1.182486          0.266022   \n",
       "3        -0.502774           0.418877   -0.591780          0.266022   \n",
       "4        -0.311909          -0.673335   -0.953205          0.266022   \n",
       "\n",
       "   Credit_History Property_Area  \n",
       "0        0.437674         Urban  \n",
       "1        0.437674         Urban  \n",
       "2        0.437674         Urban  \n",
       "3        0.437674         Urban  \n",
       "4        0.437674         Urban  "
      ]
     },
     "execution_count": 53,
     "metadata": {},
     "output_type": "execute_result"
    }
   ],
   "source": [
    "test_data.head()"
   ]
  },
  {
   "cell_type": "code",
   "execution_count": 54,
   "metadata": {},
   "outputs": [
    {
     "name": "stdout",
     "output_type": "stream",
     "text": [
      "Index(['ApplicantIncome', 'CoapplicantIncome', 'LoanAmount',\n",
      "       'Loan_Amount_Term', 'Credit_History', 'Loan_ID', 'Gender', 'Married',\n",
      "       'Dependents', 'Education', 'Self_Employed', 'Property_Area',\n",
      "       'Loan_Status'],\n",
      "      dtype='object')\n",
      "--------------------------------\n",
      "Index(['Loan_ID', 'Gender', 'Married', 'Dependents', 'Education',\n",
      "       'Self_Employed', 'ApplicantIncome', 'CoapplicantIncome', 'LoanAmount',\n",
      "       'Loan_Amount_Term', 'Credit_History', 'Property_Area'],\n",
      "      dtype='object')\n"
     ]
    }
   ],
   "source": [
    "#Column Names for train_num_cat and test_data:\n",
    "print(train_num_cat.columns)\n",
    "print(\"--------------------------------\")\n",
    "print(test_data.columns)"
   ]
  },
  {
   "cell_type": "code",
   "execution_count": 55,
   "metadata": {},
   "outputs": [],
   "source": [
    "#Attribute analysis:\n",
    "#Loan_ID is just a name so no need to go for the Model Building but store into system:\n",
    "train_LoanID = train_num_cat[[\"Loan_ID\"]]    \n",
    "test_LoanID = test_data[[\"Loan_ID\"]]\n",
    "#Drop Loan_ID from the train and test data:\n",
    "train_num_cat.drop(columns = [\"Loan_ID\"],inplace=True)\n",
    "test_data.drop(columns = [\"Loan_ID\"],inplace=True)\n"
   ]
  },
  {
   "cell_type": "code",
   "execution_count": 56,
   "metadata": {},
   "outputs": [
    {
     "data": {
      "text/html": [
       "<div>\n",
       "<style scoped>\n",
       "    .dataframe tbody tr th:only-of-type {\n",
       "        vertical-align: middle;\n",
       "    }\n",
       "\n",
       "    .dataframe tbody tr th {\n",
       "        vertical-align: top;\n",
       "    }\n",
       "\n",
       "    .dataframe thead th {\n",
       "        text-align: right;\n",
       "    }\n",
       "</style>\n",
       "<table border=\"1\" class=\"dataframe\">\n",
       "  <thead>\n",
       "    <tr style=\"text-align: right;\">\n",
       "      <th></th>\n",
       "      <th>Gender</th>\n",
       "      <th>Married</th>\n",
       "      <th>Dependents</th>\n",
       "      <th>Education</th>\n",
       "      <th>Self_Employed</th>\n",
       "      <th>ApplicantIncome</th>\n",
       "      <th>CoapplicantIncome</th>\n",
       "      <th>LoanAmount</th>\n",
       "      <th>Loan_Amount_Term</th>\n",
       "      <th>Credit_History</th>\n",
       "      <th>Property_Area</th>\n",
       "    </tr>\n",
       "  </thead>\n",
       "  <tbody>\n",
       "    <tr>\n",
       "      <th>0</th>\n",
       "      <td>Male</td>\n",
       "      <td>Yes</td>\n",
       "      <td>0</td>\n",
       "      <td>Graduate</td>\n",
       "      <td>No</td>\n",
       "      <td>0.186461</td>\n",
       "      <td>-0.673335</td>\n",
       "      <td>-0.427496</td>\n",
       "      <td>0.266022</td>\n",
       "      <td>0.437674</td>\n",
       "      <td>Urban</td>\n",
       "    </tr>\n",
       "    <tr>\n",
       "      <th>1</th>\n",
       "      <td>Male</td>\n",
       "      <td>Yes</td>\n",
       "      <td>1</td>\n",
       "      <td>Graduate</td>\n",
       "      <td>No</td>\n",
       "      <td>-0.352692</td>\n",
       "      <td>-0.029848</td>\n",
       "      <td>-0.164642</td>\n",
       "      <td>0.266022</td>\n",
       "      <td>0.437674</td>\n",
       "      <td>Urban</td>\n",
       "    </tr>\n",
       "    <tr>\n",
       "      <th>2</th>\n",
       "      <td>Male</td>\n",
       "      <td>Yes</td>\n",
       "      <td>2</td>\n",
       "      <td>Graduate</td>\n",
       "      <td>No</td>\n",
       "      <td>0.039641</td>\n",
       "      <td>0.098849</td>\n",
       "      <td>1.182486</td>\n",
       "      <td>0.266022</td>\n",
       "      <td>0.437674</td>\n",
       "      <td>Urban</td>\n",
       "    </tr>\n",
       "    <tr>\n",
       "      <th>3</th>\n",
       "      <td>Male</td>\n",
       "      <td>Yes</td>\n",
       "      <td>2</td>\n",
       "      <td>Graduate</td>\n",
       "      <td>No</td>\n",
       "      <td>-0.502774</td>\n",
       "      <td>0.418877</td>\n",
       "      <td>-0.591780</td>\n",
       "      <td>0.266022</td>\n",
       "      <td>0.437674</td>\n",
       "      <td>Urban</td>\n",
       "    </tr>\n",
       "    <tr>\n",
       "      <th>4</th>\n",
       "      <td>Male</td>\n",
       "      <td>No</td>\n",
       "      <td>0</td>\n",
       "      <td>Not Graduate</td>\n",
       "      <td>No</td>\n",
       "      <td>-0.311909</td>\n",
       "      <td>-0.673335</td>\n",
       "      <td>-0.953205</td>\n",
       "      <td>0.266022</td>\n",
       "      <td>0.437674</td>\n",
       "      <td>Urban</td>\n",
       "    </tr>\n",
       "  </tbody>\n",
       "</table>\n",
       "</div>"
      ],
      "text/plain": [
       "  Gender Married Dependents     Education Self_Employed  ApplicantIncome  \\\n",
       "0   Male     Yes          0      Graduate            No         0.186461   \n",
       "1   Male     Yes          1      Graduate            No        -0.352692   \n",
       "2   Male     Yes          2      Graduate            No         0.039641   \n",
       "3   Male     Yes          2      Graduate            No        -0.502774   \n",
       "4   Male      No          0  Not Graduate            No        -0.311909   \n",
       "\n",
       "   CoapplicantIncome  LoanAmount  Loan_Amount_Term  Credit_History  \\\n",
       "0          -0.673335   -0.427496          0.266022        0.437674   \n",
       "1          -0.029848   -0.164642          0.266022        0.437674   \n",
       "2           0.098849    1.182486          0.266022        0.437674   \n",
       "3           0.418877   -0.591780          0.266022        0.437674   \n",
       "4          -0.673335   -0.953205          0.266022        0.437674   \n",
       "\n",
       "  Property_Area  \n",
       "0         Urban  \n",
       "1         Urban  \n",
       "2         Urban  \n",
       "3         Urban  \n",
       "4         Urban  "
      ]
     },
     "execution_count": 56,
     "metadata": {},
     "output_type": "execute_result"
    }
   ],
   "source": [
    "test_data.head()"
   ]
  },
  {
   "cell_type": "code",
   "execution_count": 57,
   "metadata": {},
   "outputs": [
    {
     "data": {
      "text/html": [
       "<div>\n",
       "<style scoped>\n",
       "    .dataframe tbody tr th:only-of-type {\n",
       "        vertical-align: middle;\n",
       "    }\n",
       "\n",
       "    .dataframe tbody tr th {\n",
       "        vertical-align: top;\n",
       "    }\n",
       "\n",
       "    .dataframe thead th {\n",
       "        text-align: right;\n",
       "    }\n",
       "</style>\n",
       "<table border=\"1\" class=\"dataframe\">\n",
       "  <thead>\n",
       "    <tr style=\"text-align: right;\">\n",
       "      <th></th>\n",
       "      <th>Gender_Male</th>\n",
       "      <th>Married_Yes</th>\n",
       "      <th>Dependents_1</th>\n",
       "      <th>Dependents_2</th>\n",
       "      <th>Dependents_3+</th>\n",
       "      <th>Education_Not Graduate</th>\n",
       "      <th>Self_Employed_Yes</th>\n",
       "      <th>Property_Area_Semiurban</th>\n",
       "      <th>Property_Area_Urban</th>\n",
       "    </tr>\n",
       "  </thead>\n",
       "  <tbody>\n",
       "    <tr>\n",
       "      <th>0</th>\n",
       "      <td>1</td>\n",
       "      <td>0</td>\n",
       "      <td>0</td>\n",
       "      <td>0</td>\n",
       "      <td>0</td>\n",
       "      <td>0</td>\n",
       "      <td>0</td>\n",
       "      <td>0</td>\n",
       "      <td>1</td>\n",
       "    </tr>\n",
       "    <tr>\n",
       "      <th>1</th>\n",
       "      <td>1</td>\n",
       "      <td>1</td>\n",
       "      <td>1</td>\n",
       "      <td>0</td>\n",
       "      <td>0</td>\n",
       "      <td>0</td>\n",
       "      <td>0</td>\n",
       "      <td>0</td>\n",
       "      <td>0</td>\n",
       "    </tr>\n",
       "    <tr>\n",
       "      <th>2</th>\n",
       "      <td>1</td>\n",
       "      <td>1</td>\n",
       "      <td>0</td>\n",
       "      <td>0</td>\n",
       "      <td>0</td>\n",
       "      <td>0</td>\n",
       "      <td>1</td>\n",
       "      <td>0</td>\n",
       "      <td>1</td>\n",
       "    </tr>\n",
       "    <tr>\n",
       "      <th>3</th>\n",
       "      <td>1</td>\n",
       "      <td>1</td>\n",
       "      <td>0</td>\n",
       "      <td>0</td>\n",
       "      <td>0</td>\n",
       "      <td>1</td>\n",
       "      <td>0</td>\n",
       "      <td>0</td>\n",
       "      <td>1</td>\n",
       "    </tr>\n",
       "    <tr>\n",
       "      <th>4</th>\n",
       "      <td>1</td>\n",
       "      <td>0</td>\n",
       "      <td>0</td>\n",
       "      <td>0</td>\n",
       "      <td>0</td>\n",
       "      <td>0</td>\n",
       "      <td>0</td>\n",
       "      <td>0</td>\n",
       "      <td>1</td>\n",
       "    </tr>\n",
       "  </tbody>\n",
       "</table>\n",
       "</div>"
      ],
      "text/plain": [
       "   Gender_Male  Married_Yes  Dependents_1  Dependents_2  Dependents_3+  \\\n",
       "0            1            0             0             0              0   \n",
       "1            1            1             1             0              0   \n",
       "2            1            1             0             0              0   \n",
       "3            1            1             0             0              0   \n",
       "4            1            0             0             0              0   \n",
       "\n",
       "   Education_Not Graduate  Self_Employed_Yes  Property_Area_Semiurban  \\\n",
       "0                       0                  0                        0   \n",
       "1                       0                  0                        0   \n",
       "2                       0                  1                        0   \n",
       "3                       1                  0                        0   \n",
       "4                       0                  0                        0   \n",
       "\n",
       "   Property_Area_Urban  \n",
       "0                    1  \n",
       "1                    0  \n",
       "2                    1  \n",
       "3                    1  \n",
       "4                    1  "
      ]
     },
     "execution_count": 57,
     "metadata": {},
     "output_type": "execute_result"
    }
   ],
   "source": [
    "#Convert the categorical data into Numerical data Using Dummifications:\n",
    "dummies1 = pd.get_dummies(train_num_cat[[\"Gender\",\"Married\",\"Dependents\",\"Education\",\"Self_Employed\",\"Property_Area\"]],columns = [\"Gender\",\"Married\",\"Dependents\",\"Education\",\"Self_Employed\",\"Property_Area\"],prefix=[\"Gender\",\"Married\",\"Dependents\",\"Education\",\"Self_Employed\",\"Property_Area\"],drop_first=True)\n",
    "dummies1.head()"
   ]
  },
  {
   "cell_type": "code",
   "execution_count": 58,
   "metadata": {},
   "outputs": [],
   "source": [
    "#Ideally delete the original column which is dummified :\n",
    "cat_attr1  = [\"Gender\",\"Married\",\"Dependents\",\"Education\",\"Self_Employed\",\"Property_Area\"]\n",
    "train_num_cat.drop(columns = cat_attr1,inplace=True)\n"
   ]
  },
  {
   "cell_type": "code",
   "execution_count": 59,
   "metadata": {},
   "outputs": [
    {
     "data": {
      "text/html": [
       "<div>\n",
       "<style scoped>\n",
       "    .dataframe tbody tr th:only-of-type {\n",
       "        vertical-align: middle;\n",
       "    }\n",
       "\n",
       "    .dataframe tbody tr th {\n",
       "        vertical-align: top;\n",
       "    }\n",
       "\n",
       "    .dataframe thead th {\n",
       "        text-align: right;\n",
       "    }\n",
       "</style>\n",
       "<table border=\"1\" class=\"dataframe\">\n",
       "  <thead>\n",
       "    <tr style=\"text-align: right;\">\n",
       "      <th></th>\n",
       "      <th>ApplicantIncome</th>\n",
       "      <th>CoapplicantIncome</th>\n",
       "      <th>LoanAmount</th>\n",
       "      <th>Loan_Amount_Term</th>\n",
       "      <th>Credit_History</th>\n",
       "      <th>Loan_Status</th>\n",
       "    </tr>\n",
       "  </thead>\n",
       "  <tbody>\n",
       "    <tr>\n",
       "      <th>0</th>\n",
       "      <td>0.497164</td>\n",
       "      <td>-0.874587</td>\n",
       "      <td>-0.211241</td>\n",
       "      <td>0.273231</td>\n",
       "      <td>0.411733</td>\n",
       "      <td>Y</td>\n",
       "    </tr>\n",
       "    <tr>\n",
       "      <th>1</th>\n",
       "      <td>-0.013767</td>\n",
       "      <td>0.054395</td>\n",
       "      <td>-0.211241</td>\n",
       "      <td>0.273231</td>\n",
       "      <td>0.411733</td>\n",
       "      <td>N</td>\n",
       "    </tr>\n",
       "    <tr>\n",
       "      <th>2</th>\n",
       "      <td>-0.652632</td>\n",
       "      <td>-0.874587</td>\n",
       "      <td>-0.948996</td>\n",
       "      <td>0.273231</td>\n",
       "      <td>0.411733</td>\n",
       "      <td>Y</td>\n",
       "    </tr>\n",
       "    <tr>\n",
       "      <th>3</th>\n",
       "      <td>-0.820924</td>\n",
       "      <td>0.578025</td>\n",
       "      <td>-0.306435</td>\n",
       "      <td>0.273231</td>\n",
       "      <td>0.411733</td>\n",
       "      <td>Y</td>\n",
       "    </tr>\n",
       "    <tr>\n",
       "      <th>4</th>\n",
       "      <td>0.558104</td>\n",
       "      <td>-0.874587</td>\n",
       "      <td>-0.056551</td>\n",
       "      <td>0.273231</td>\n",
       "      <td>0.411733</td>\n",
       "      <td>Y</td>\n",
       "    </tr>\n",
       "  </tbody>\n",
       "</table>\n",
       "</div>"
      ],
      "text/plain": [
       "   ApplicantIncome  CoapplicantIncome  LoanAmount  Loan_Amount_Term  \\\n",
       "0         0.497164          -0.874587   -0.211241          0.273231   \n",
       "1        -0.013767           0.054395   -0.211241          0.273231   \n",
       "2        -0.652632          -0.874587   -0.948996          0.273231   \n",
       "3        -0.820924           0.578025   -0.306435          0.273231   \n",
       "4         0.558104          -0.874587   -0.056551          0.273231   \n",
       "\n",
       "   Credit_History Loan_Status  \n",
       "0        0.411733           Y  \n",
       "1        0.411733           N  \n",
       "2        0.411733           Y  \n",
       "3        0.411733           Y  \n",
       "4        0.411733           Y  "
      ]
     },
     "execution_count": 59,
     "metadata": {},
     "output_type": "execute_result"
    }
   ],
   "source": [
    "train_num_cat.head()"
   ]
  },
  {
   "cell_type": "code",
   "execution_count": 60,
   "metadata": {},
   "outputs": [],
   "source": [
    "#Concat the dummified data:\n",
    "train_final  = pd.concat([dummies1,train_num_cat],axis=1)"
   ]
  },
  {
   "cell_type": "code",
   "execution_count": 61,
   "metadata": {},
   "outputs": [
    {
     "data": {
      "text/html": [
       "<div>\n",
       "<style scoped>\n",
       "    .dataframe tbody tr th:only-of-type {\n",
       "        vertical-align: middle;\n",
       "    }\n",
       "\n",
       "    .dataframe tbody tr th {\n",
       "        vertical-align: top;\n",
       "    }\n",
       "\n",
       "    .dataframe thead th {\n",
       "        text-align: right;\n",
       "    }\n",
       "</style>\n",
       "<table border=\"1\" class=\"dataframe\">\n",
       "  <thead>\n",
       "    <tr style=\"text-align: right;\">\n",
       "      <th></th>\n",
       "      <th>Gender_Male</th>\n",
       "      <th>Married_Yes</th>\n",
       "      <th>Dependents_1</th>\n",
       "      <th>Dependents_2</th>\n",
       "      <th>Dependents_3+</th>\n",
       "      <th>Education_Not Graduate</th>\n",
       "      <th>Self_Employed_Yes</th>\n",
       "      <th>Property_Area_Semiurban</th>\n",
       "      <th>Property_Area_Urban</th>\n",
       "      <th>ApplicantIncome</th>\n",
       "      <th>CoapplicantIncome</th>\n",
       "      <th>LoanAmount</th>\n",
       "      <th>Loan_Amount_Term</th>\n",
       "      <th>Credit_History</th>\n",
       "      <th>Loan_Status</th>\n",
       "    </tr>\n",
       "  </thead>\n",
       "  <tbody>\n",
       "    <tr>\n",
       "      <th>0</th>\n",
       "      <td>1</td>\n",
       "      <td>0</td>\n",
       "      <td>0</td>\n",
       "      <td>0</td>\n",
       "      <td>0</td>\n",
       "      <td>0</td>\n",
       "      <td>0</td>\n",
       "      <td>0</td>\n",
       "      <td>1</td>\n",
       "      <td>0.497164</td>\n",
       "      <td>-0.874587</td>\n",
       "      <td>-0.211241</td>\n",
       "      <td>0.273231</td>\n",
       "      <td>0.411733</td>\n",
       "      <td>Y</td>\n",
       "    </tr>\n",
       "    <tr>\n",
       "      <th>1</th>\n",
       "      <td>1</td>\n",
       "      <td>1</td>\n",
       "      <td>1</td>\n",
       "      <td>0</td>\n",
       "      <td>0</td>\n",
       "      <td>0</td>\n",
       "      <td>0</td>\n",
       "      <td>0</td>\n",
       "      <td>0</td>\n",
       "      <td>-0.013767</td>\n",
       "      <td>0.054395</td>\n",
       "      <td>-0.211241</td>\n",
       "      <td>0.273231</td>\n",
       "      <td>0.411733</td>\n",
       "      <td>N</td>\n",
       "    </tr>\n",
       "    <tr>\n",
       "      <th>2</th>\n",
       "      <td>1</td>\n",
       "      <td>1</td>\n",
       "      <td>0</td>\n",
       "      <td>0</td>\n",
       "      <td>0</td>\n",
       "      <td>0</td>\n",
       "      <td>1</td>\n",
       "      <td>0</td>\n",
       "      <td>1</td>\n",
       "      <td>-0.652632</td>\n",
       "      <td>-0.874587</td>\n",
       "      <td>-0.948996</td>\n",
       "      <td>0.273231</td>\n",
       "      <td>0.411733</td>\n",
       "      <td>Y</td>\n",
       "    </tr>\n",
       "    <tr>\n",
       "      <th>3</th>\n",
       "      <td>1</td>\n",
       "      <td>1</td>\n",
       "      <td>0</td>\n",
       "      <td>0</td>\n",
       "      <td>0</td>\n",
       "      <td>1</td>\n",
       "      <td>0</td>\n",
       "      <td>0</td>\n",
       "      <td>1</td>\n",
       "      <td>-0.820924</td>\n",
       "      <td>0.578025</td>\n",
       "      <td>-0.306435</td>\n",
       "      <td>0.273231</td>\n",
       "      <td>0.411733</td>\n",
       "      <td>Y</td>\n",
       "    </tr>\n",
       "    <tr>\n",
       "      <th>4</th>\n",
       "      <td>1</td>\n",
       "      <td>0</td>\n",
       "      <td>0</td>\n",
       "      <td>0</td>\n",
       "      <td>0</td>\n",
       "      <td>0</td>\n",
       "      <td>0</td>\n",
       "      <td>0</td>\n",
       "      <td>1</td>\n",
       "      <td>0.558104</td>\n",
       "      <td>-0.874587</td>\n",
       "      <td>-0.056551</td>\n",
       "      <td>0.273231</td>\n",
       "      <td>0.411733</td>\n",
       "      <td>Y</td>\n",
       "    </tr>\n",
       "  </tbody>\n",
       "</table>\n",
       "</div>"
      ],
      "text/plain": [
       "   Gender_Male  Married_Yes  Dependents_1  Dependents_2  Dependents_3+  \\\n",
       "0            1            0             0             0              0   \n",
       "1            1            1             1             0              0   \n",
       "2            1            1             0             0              0   \n",
       "3            1            1             0             0              0   \n",
       "4            1            0             0             0              0   \n",
       "\n",
       "   Education_Not Graduate  Self_Employed_Yes  Property_Area_Semiurban  \\\n",
       "0                       0                  0                        0   \n",
       "1                       0                  0                        0   \n",
       "2                       0                  1                        0   \n",
       "3                       1                  0                        0   \n",
       "4                       0                  0                        0   \n",
       "\n",
       "   Property_Area_Urban  ApplicantIncome  CoapplicantIncome  LoanAmount  \\\n",
       "0                    1         0.497164          -0.874587   -0.211241   \n",
       "1                    0        -0.013767           0.054395   -0.211241   \n",
       "2                    1        -0.652632          -0.874587   -0.948996   \n",
       "3                    1        -0.820924           0.578025   -0.306435   \n",
       "4                    1         0.558104          -0.874587   -0.056551   \n",
       "\n",
       "   Loan_Amount_Term  Credit_History Loan_Status  \n",
       "0          0.273231        0.411733           Y  \n",
       "1          0.273231        0.411733           N  \n",
       "2          0.273231        0.411733           Y  \n",
       "3          0.273231        0.411733           Y  \n",
       "4          0.273231        0.411733           Y  "
      ]
     },
     "execution_count": 61,
     "metadata": {},
     "output_type": "execute_result"
    }
   ],
   "source": [
    "train_final.head()"
   ]
  },
  {
   "cell_type": "code",
   "execution_count": 62,
   "metadata": {},
   "outputs": [
    {
     "data": {
      "text/html": [
       "<div>\n",
       "<style scoped>\n",
       "    .dataframe tbody tr th:only-of-type {\n",
       "        vertical-align: middle;\n",
       "    }\n",
       "\n",
       "    .dataframe tbody tr th {\n",
       "        vertical-align: top;\n",
       "    }\n",
       "\n",
       "    .dataframe thead th {\n",
       "        text-align: right;\n",
       "    }\n",
       "</style>\n",
       "<table border=\"1\" class=\"dataframe\">\n",
       "  <thead>\n",
       "    <tr style=\"text-align: right;\">\n",
       "      <th></th>\n",
       "      <th>Gender_Male</th>\n",
       "      <th>Married_Yes</th>\n",
       "      <th>Dependents_1</th>\n",
       "      <th>Dependents_2</th>\n",
       "      <th>Dependents_3+</th>\n",
       "      <th>Education_Not Graduate</th>\n",
       "      <th>Self_Employed_Yes</th>\n",
       "      <th>Property_Area_Semiurban</th>\n",
       "      <th>Property_Area_Urban</th>\n",
       "    </tr>\n",
       "  </thead>\n",
       "  <tbody>\n",
       "    <tr>\n",
       "      <th>0</th>\n",
       "      <td>1</td>\n",
       "      <td>1</td>\n",
       "      <td>0</td>\n",
       "      <td>0</td>\n",
       "      <td>0</td>\n",
       "      <td>0</td>\n",
       "      <td>0</td>\n",
       "      <td>0</td>\n",
       "      <td>1</td>\n",
       "    </tr>\n",
       "    <tr>\n",
       "      <th>1</th>\n",
       "      <td>1</td>\n",
       "      <td>1</td>\n",
       "      <td>1</td>\n",
       "      <td>0</td>\n",
       "      <td>0</td>\n",
       "      <td>0</td>\n",
       "      <td>0</td>\n",
       "      <td>0</td>\n",
       "      <td>1</td>\n",
       "    </tr>\n",
       "    <tr>\n",
       "      <th>2</th>\n",
       "      <td>1</td>\n",
       "      <td>1</td>\n",
       "      <td>0</td>\n",
       "      <td>1</td>\n",
       "      <td>0</td>\n",
       "      <td>0</td>\n",
       "      <td>0</td>\n",
       "      <td>0</td>\n",
       "      <td>1</td>\n",
       "    </tr>\n",
       "    <tr>\n",
       "      <th>3</th>\n",
       "      <td>1</td>\n",
       "      <td>1</td>\n",
       "      <td>0</td>\n",
       "      <td>1</td>\n",
       "      <td>0</td>\n",
       "      <td>0</td>\n",
       "      <td>0</td>\n",
       "      <td>0</td>\n",
       "      <td>1</td>\n",
       "    </tr>\n",
       "    <tr>\n",
       "      <th>4</th>\n",
       "      <td>1</td>\n",
       "      <td>0</td>\n",
       "      <td>0</td>\n",
       "      <td>0</td>\n",
       "      <td>0</td>\n",
       "      <td>1</td>\n",
       "      <td>0</td>\n",
       "      <td>0</td>\n",
       "      <td>1</td>\n",
       "    </tr>\n",
       "  </tbody>\n",
       "</table>\n",
       "</div>"
      ],
      "text/plain": [
       "   Gender_Male  Married_Yes  Dependents_1  Dependents_2  Dependents_3+  \\\n",
       "0            1            1             0             0              0   \n",
       "1            1            1             1             0              0   \n",
       "2            1            1             0             1              0   \n",
       "3            1            1             0             1              0   \n",
       "4            1            0             0             0              0   \n",
       "\n",
       "   Education_Not Graduate  Self_Employed_Yes  Property_Area_Semiurban  \\\n",
       "0                       0                  0                        0   \n",
       "1                       0                  0                        0   \n",
       "2                       0                  0                        0   \n",
       "3                       0                  0                        0   \n",
       "4                       1                  0                        0   \n",
       "\n",
       "   Property_Area_Urban  \n",
       "0                    1  \n",
       "1                    1  \n",
       "2                    1  \n",
       "3                    1  \n",
       "4                    1  "
      ]
     },
     "execution_count": 62,
     "metadata": {},
     "output_type": "execute_result"
    }
   ],
   "source": [
    "#Encode the categorical data of test data:\n",
    "dummies2 = pd.get_dummies(test_data[[\"Gender\",\"Married\",\"Dependents\",\"Education\",\"Self_Employed\",\"Property_Area\"]],columns = [\"Gender\",\"Married\",\"Dependents\",\"Education\",\"Self_Employed\",\"Property_Area\"],prefix=[\"Gender\",\"Married\",\"Dependents\",\"Education\",\"Self_Employed\",\"Property_Area\"],drop_first=True)\n",
    "dummies2.head()"
   ]
  },
  {
   "cell_type": "code",
   "execution_count": 63,
   "metadata": {},
   "outputs": [],
   "source": [
    "#Ideally delete the original column which is dummified :\n",
    "cat_attr2  = [\"Gender\",\"Married\",\"Dependents\",\"Education\",\"Self_Employed\",\"Property_Area\"]\n",
    "test_data.drop(columns = cat_attr2,inplace=True)"
   ]
  },
  {
   "cell_type": "code",
   "execution_count": 64,
   "metadata": {},
   "outputs": [
    {
     "data": {
      "text/html": [
       "<div>\n",
       "<style scoped>\n",
       "    .dataframe tbody tr th:only-of-type {\n",
       "        vertical-align: middle;\n",
       "    }\n",
       "\n",
       "    .dataframe tbody tr th {\n",
       "        vertical-align: top;\n",
       "    }\n",
       "\n",
       "    .dataframe thead th {\n",
       "        text-align: right;\n",
       "    }\n",
       "</style>\n",
       "<table border=\"1\" class=\"dataframe\">\n",
       "  <thead>\n",
       "    <tr style=\"text-align: right;\">\n",
       "      <th></th>\n",
       "      <th>ApplicantIncome</th>\n",
       "      <th>CoapplicantIncome</th>\n",
       "      <th>LoanAmount</th>\n",
       "      <th>Loan_Amount_Term</th>\n",
       "      <th>Credit_History</th>\n",
       "    </tr>\n",
       "  </thead>\n",
       "  <tbody>\n",
       "    <tr>\n",
       "      <th>0</th>\n",
       "      <td>0.186461</td>\n",
       "      <td>-0.673335</td>\n",
       "      <td>-0.427496</td>\n",
       "      <td>0.266022</td>\n",
       "      <td>0.437674</td>\n",
       "    </tr>\n",
       "    <tr>\n",
       "      <th>1</th>\n",
       "      <td>-0.352692</td>\n",
       "      <td>-0.029848</td>\n",
       "      <td>-0.164642</td>\n",
       "      <td>0.266022</td>\n",
       "      <td>0.437674</td>\n",
       "    </tr>\n",
       "    <tr>\n",
       "      <th>2</th>\n",
       "      <td>0.039641</td>\n",
       "      <td>0.098849</td>\n",
       "      <td>1.182486</td>\n",
       "      <td>0.266022</td>\n",
       "      <td>0.437674</td>\n",
       "    </tr>\n",
       "    <tr>\n",
       "      <th>3</th>\n",
       "      <td>-0.502774</td>\n",
       "      <td>0.418877</td>\n",
       "      <td>-0.591780</td>\n",
       "      <td>0.266022</td>\n",
       "      <td>0.437674</td>\n",
       "    </tr>\n",
       "    <tr>\n",
       "      <th>4</th>\n",
       "      <td>-0.311909</td>\n",
       "      <td>-0.673335</td>\n",
       "      <td>-0.953205</td>\n",
       "      <td>0.266022</td>\n",
       "      <td>0.437674</td>\n",
       "    </tr>\n",
       "  </tbody>\n",
       "</table>\n",
       "</div>"
      ],
      "text/plain": [
       "   ApplicantIncome  CoapplicantIncome  LoanAmount  Loan_Amount_Term  \\\n",
       "0         0.186461          -0.673335   -0.427496          0.266022   \n",
       "1        -0.352692          -0.029848   -0.164642          0.266022   \n",
       "2         0.039641           0.098849    1.182486          0.266022   \n",
       "3        -0.502774           0.418877   -0.591780          0.266022   \n",
       "4        -0.311909          -0.673335   -0.953205          0.266022   \n",
       "\n",
       "   Credit_History  \n",
       "0        0.437674  \n",
       "1        0.437674  \n",
       "2        0.437674  \n",
       "3        0.437674  \n",
       "4        0.437674  "
      ]
     },
     "execution_count": 64,
     "metadata": {},
     "output_type": "execute_result"
    }
   ],
   "source": [
    "test_data.head()"
   ]
  },
  {
   "cell_type": "code",
   "execution_count": 65,
   "metadata": {},
   "outputs": [],
   "source": [
    "#Concat the dummified data:\n",
    "test_final  = pd.concat([dummies2,test_data],axis=1)"
   ]
  },
  {
   "cell_type": "code",
   "execution_count": 66,
   "metadata": {},
   "outputs": [
    {
     "data": {
      "text/html": [
       "<div>\n",
       "<style scoped>\n",
       "    .dataframe tbody tr th:only-of-type {\n",
       "        vertical-align: middle;\n",
       "    }\n",
       "\n",
       "    .dataframe tbody tr th {\n",
       "        vertical-align: top;\n",
       "    }\n",
       "\n",
       "    .dataframe thead th {\n",
       "        text-align: right;\n",
       "    }\n",
       "</style>\n",
       "<table border=\"1\" class=\"dataframe\">\n",
       "  <thead>\n",
       "    <tr style=\"text-align: right;\">\n",
       "      <th></th>\n",
       "      <th>Gender_Male</th>\n",
       "      <th>Married_Yes</th>\n",
       "      <th>Dependents_1</th>\n",
       "      <th>Dependents_2</th>\n",
       "      <th>Dependents_3+</th>\n",
       "      <th>Education_Not Graduate</th>\n",
       "      <th>Self_Employed_Yes</th>\n",
       "      <th>Property_Area_Semiurban</th>\n",
       "      <th>Property_Area_Urban</th>\n",
       "      <th>ApplicantIncome</th>\n",
       "      <th>CoapplicantIncome</th>\n",
       "      <th>LoanAmount</th>\n",
       "      <th>Loan_Amount_Term</th>\n",
       "      <th>Credit_History</th>\n",
       "    </tr>\n",
       "  </thead>\n",
       "  <tbody>\n",
       "    <tr>\n",
       "      <th>0</th>\n",
       "      <td>1</td>\n",
       "      <td>1</td>\n",
       "      <td>0</td>\n",
       "      <td>0</td>\n",
       "      <td>0</td>\n",
       "      <td>0</td>\n",
       "      <td>0</td>\n",
       "      <td>0</td>\n",
       "      <td>1</td>\n",
       "      <td>0.186461</td>\n",
       "      <td>-0.673335</td>\n",
       "      <td>-0.427496</td>\n",
       "      <td>0.266022</td>\n",
       "      <td>0.437674</td>\n",
       "    </tr>\n",
       "    <tr>\n",
       "      <th>1</th>\n",
       "      <td>1</td>\n",
       "      <td>1</td>\n",
       "      <td>1</td>\n",
       "      <td>0</td>\n",
       "      <td>0</td>\n",
       "      <td>0</td>\n",
       "      <td>0</td>\n",
       "      <td>0</td>\n",
       "      <td>1</td>\n",
       "      <td>-0.352692</td>\n",
       "      <td>-0.029848</td>\n",
       "      <td>-0.164642</td>\n",
       "      <td>0.266022</td>\n",
       "      <td>0.437674</td>\n",
       "    </tr>\n",
       "    <tr>\n",
       "      <th>2</th>\n",
       "      <td>1</td>\n",
       "      <td>1</td>\n",
       "      <td>0</td>\n",
       "      <td>1</td>\n",
       "      <td>0</td>\n",
       "      <td>0</td>\n",
       "      <td>0</td>\n",
       "      <td>0</td>\n",
       "      <td>1</td>\n",
       "      <td>0.039641</td>\n",
       "      <td>0.098849</td>\n",
       "      <td>1.182486</td>\n",
       "      <td>0.266022</td>\n",
       "      <td>0.437674</td>\n",
       "    </tr>\n",
       "    <tr>\n",
       "      <th>3</th>\n",
       "      <td>1</td>\n",
       "      <td>1</td>\n",
       "      <td>0</td>\n",
       "      <td>1</td>\n",
       "      <td>0</td>\n",
       "      <td>0</td>\n",
       "      <td>0</td>\n",
       "      <td>0</td>\n",
       "      <td>1</td>\n",
       "      <td>-0.502774</td>\n",
       "      <td>0.418877</td>\n",
       "      <td>-0.591780</td>\n",
       "      <td>0.266022</td>\n",
       "      <td>0.437674</td>\n",
       "    </tr>\n",
       "    <tr>\n",
       "      <th>4</th>\n",
       "      <td>1</td>\n",
       "      <td>0</td>\n",
       "      <td>0</td>\n",
       "      <td>0</td>\n",
       "      <td>0</td>\n",
       "      <td>1</td>\n",
       "      <td>0</td>\n",
       "      <td>0</td>\n",
       "      <td>1</td>\n",
       "      <td>-0.311909</td>\n",
       "      <td>-0.673335</td>\n",
       "      <td>-0.953205</td>\n",
       "      <td>0.266022</td>\n",
       "      <td>0.437674</td>\n",
       "    </tr>\n",
       "  </tbody>\n",
       "</table>\n",
       "</div>"
      ],
      "text/plain": [
       "   Gender_Male  Married_Yes  Dependents_1  Dependents_2  Dependents_3+  \\\n",
       "0            1            1             0             0              0   \n",
       "1            1            1             1             0              0   \n",
       "2            1            1             0             1              0   \n",
       "3            1            1             0             1              0   \n",
       "4            1            0             0             0              0   \n",
       "\n",
       "   Education_Not Graduate  Self_Employed_Yes  Property_Area_Semiurban  \\\n",
       "0                       0                  0                        0   \n",
       "1                       0                  0                        0   \n",
       "2                       0                  0                        0   \n",
       "3                       0                  0                        0   \n",
       "4                       1                  0                        0   \n",
       "\n",
       "   Property_Area_Urban  ApplicantIncome  CoapplicantIncome  LoanAmount  \\\n",
       "0                    1         0.186461          -0.673335   -0.427496   \n",
       "1                    1        -0.352692          -0.029848   -0.164642   \n",
       "2                    1         0.039641           0.098849    1.182486   \n",
       "3                    1        -0.502774           0.418877   -0.591780   \n",
       "4                    1        -0.311909          -0.673335   -0.953205   \n",
       "\n",
       "   Loan_Amount_Term  Credit_History  \n",
       "0          0.266022        0.437674  \n",
       "1          0.266022        0.437674  \n",
       "2          0.266022        0.437674  \n",
       "3          0.266022        0.437674  \n",
       "4          0.266022        0.437674  "
      ]
     },
     "execution_count": 66,
     "metadata": {},
     "output_type": "execute_result"
    }
   ],
   "source": [
    "test_final.head()"
   ]
  },
  {
   "cell_type": "code",
   "execution_count": 67,
   "metadata": {},
   "outputs": [],
   "source": [
    "###Check----"
   ]
  },
  {
   "cell_type": "code",
   "execution_count": 68,
   "metadata": {},
   "outputs": [
    {
     "name": "stdout",
     "output_type": "stream",
     "text": [
      "(614, 15)\n",
      "(367, 14)\n"
     ]
    }
   ],
   "source": [
    "#Now again check the train_final and test_final:\n",
    "print(train_final.shape)\n",
    "print(test_final.shape)"
   ]
  },
  {
   "cell_type": "code",
   "execution_count": 69,
   "metadata": {},
   "outputs": [
    {
     "name": "stdout",
     "output_type": "stream",
     "text": [
      "Gender_Male                0\n",
      "Married_Yes                0\n",
      "Dependents_1               0\n",
      "Dependents_2               0\n",
      "Dependents_3+              0\n",
      "Education_Not Graduate     0\n",
      "Self_Employed_Yes          0\n",
      "Property_Area_Semiurban    0\n",
      "Property_Area_Urban        0\n",
      "ApplicantIncome            0\n",
      "CoapplicantIncome          0\n",
      "LoanAmount                 0\n",
      "Loan_Amount_Term           0\n",
      "Credit_History             0\n",
      "Loan_Status                0\n",
      "dtype: int64\n",
      "-------\n",
      "Gender_Male                0\n",
      "Married_Yes                0\n",
      "Dependents_1               0\n",
      "Dependents_2               0\n",
      "Dependents_3+              0\n",
      "Education_Not Graduate     0\n",
      "Self_Employed_Yes          0\n",
      "Property_Area_Semiurban    0\n",
      "Property_Area_Urban        0\n",
      "ApplicantIncome            0\n",
      "CoapplicantIncome          0\n",
      "LoanAmount                 0\n",
      "Loan_Amount_Term           0\n",
      "Credit_History             0\n",
      "dtype: int64\n"
     ]
    }
   ],
   "source": [
    "print(train_final.isna().sum())\n",
    "print(\"-------\")\n",
    "print(test_final.isna().sum())"
   ]
  },
  {
   "cell_type": "code",
   "execution_count": 70,
   "metadata": {},
   "outputs": [],
   "source": [
    "#Drop the target column which is \"Loan_Status\" for model building:\n",
    "train_final.columns\n",
    "train_final.drop(columns=[\"Loan_Status\"],inplace=True)"
   ]
  },
  {
   "cell_type": "code",
   "execution_count": 71,
   "metadata": {},
   "outputs": [],
   "source": [
    "#Split train_final into train and test:\n",
    "from sklearn.model_selection import train_test_split\n",
    "X_train,X_test,y_train,y_test = train_test_split(train_final,train_data[[\"Loan_Status\"]],test_size=0.20,random_state=100)"
   ]
  },
  {
   "cell_type": "code",
   "execution_count": 72,
   "metadata": {},
   "outputs": [],
   "source": [
    "#After Observing the Target column which has two levels(\"Y\"-Yes,\"N\"-No)\n",
    "#This is a classification Problem"
   ]
  },
  {
   "cell_type": "code",
   "execution_count": 2,
   "metadata": {},
   "outputs": [
    {
     "ename": "NameError",
     "evalue": "name 'train_data' is not defined",
     "output_type": "error",
     "traceback": [
      "\u001b[1;31m---------------------------------------------------------------------------\u001b[0m",
      "\u001b[1;31mNameError\u001b[0m                                 Traceback (most recent call last)",
      "\u001b[1;32m<ipython-input-2-c6297af68069>\u001b[0m in \u001b[0;36m<module>\u001b[1;34m\u001b[0m\n\u001b[1;32m----> 1\u001b[1;33m \u001b[0mtrain_data\u001b[0m\u001b[1;33m.\u001b[0m\u001b[0mLoan_Status\u001b[0m\u001b[1;33m.\u001b[0m\u001b[0mvalue_counts\u001b[0m\u001b[1;33m(\u001b[0m\u001b[1;33m)\u001b[0m\u001b[1;33m\u001b[0m\u001b[1;33m\u001b[0m\u001b[0m\n\u001b[0m",
      "\u001b[1;31mNameError\u001b[0m: name 'train_data' is not defined"
     ]
    }
   ],
   "source": [
    "train_data.Loan_Status.value_counts()"
   ]
  },
  {
   "cell_type": "markdown",
   "metadata": {},
   "source": [
    "# 1. Logistic Regression:"
   ]
  },
  {
   "cell_type": "code",
   "execution_count": 73,
   "metadata": {},
   "outputs": [
    {
     "name": "stderr",
     "output_type": "stream",
     "text": [
      "C:\\Users\\HARIOHM\\anaconda3\\lib\\site-packages\\sklearn\\utils\\validation.py:73: DataConversionWarning: A column-vector y was passed when a 1d array was expected. Please change the shape of y to (n_samples, ), for example using ravel().\n",
      "  return f(**kwargs)\n"
     ]
    },
    {
     "data": {
      "text/plain": [
       "LogisticRegression()"
      ]
     },
     "execution_count": 73,
     "metadata": {},
     "output_type": "execute_result"
    }
   ],
   "source": [
    "#Build the LogisticRegression:\n",
    "from sklearn.linear_model import LogisticRegression\n",
    "LogR = LogisticRegression()\n",
    "#Build the Model:\n",
    "LogR.fit(X_train,y_train)"
   ]
  },
  {
   "cell_type": "code",
   "execution_count": 74,
   "metadata": {},
   "outputs": [],
   "source": [
    "#Predict on X_train itself to verify with the actual result:\n",
    "pred_X_train = LogR.predict(X_train)"
   ]
  },
  {
   "cell_type": "code",
   "execution_count": 75,
   "metadata": {},
   "outputs": [],
   "source": [
    "#Predict on Validation Data which is (X_test) and actual_test data:\n",
    "pred_X_test = LogR.predict(X_test)\n",
    "pred_test = LogR.predict(test_final)"
   ]
  },
  {
   "cell_type": "code",
   "execution_count": 76,
   "metadata": {},
   "outputs": [
    {
     "name": "stdout",
     "output_type": "stream",
     "text": [
      "-----Result on Train Data-----------\n",
      "              precision    recall  f1-score   support\n",
      "\n",
      "           N       0.45      0.92      0.60        71\n",
      "           Y       0.98      0.81      0.89       420\n",
      "\n",
      "    accuracy                           0.83       491\n",
      "   macro avg       0.72      0.86      0.75       491\n",
      "weighted avg       0.91      0.83      0.85       491\n",
      "\n",
      "-----Result on Validation Data------\n",
      "              precision    recall  f1-score   support\n",
      "\n",
      "           N       0.38      0.86      0.52        21\n",
      "           Y       0.96      0.71      0.81       102\n",
      "\n",
      "    accuracy                           0.73       123\n",
      "   macro avg       0.67      0.78      0.67       123\n",
      "weighted avg       0.86      0.73      0.76       123\n",
      "\n"
     ]
    }
   ],
   "source": [
    "#Check the Metrics on X_train using which model was built:\n",
    "from sklearn.metrics import classification_report,accuracy_score\n",
    "result_X_train = classification_report(pred_X_train,y_train)\n",
    "result_X_test = classification_report(pred_X_test,y_test)\n",
    "print(\"-----Result on Train Data-----------\")\n",
    "print(result_X_train)\n",
    "print(\"-----Result on Validation Data------\")\n",
    "print(result_X_test)\n",
    "#classification_report()"
   ]
  },
  {
   "cell_type": "code",
   "execution_count": 77,
   "metadata": {},
   "outputs": [],
   "source": [
    "#Concat the test_LoanID and pred_test:\n",
    "Sub_Log = pd.concat([test_LoanID,pd.Series(pred_test)],axis=1)"
   ]
  },
  {
   "cell_type": "code",
   "execution_count": 78,
   "metadata": {},
   "outputs": [
    {
     "data": {
      "text/html": [
       "<div>\n",
       "<style scoped>\n",
       "    .dataframe tbody tr th:only-of-type {\n",
       "        vertical-align: middle;\n",
       "    }\n",
       "\n",
       "    .dataframe tbody tr th {\n",
       "        vertical-align: top;\n",
       "    }\n",
       "\n",
       "    .dataframe thead th {\n",
       "        text-align: right;\n",
       "    }\n",
       "</style>\n",
       "<table border=\"1\" class=\"dataframe\">\n",
       "  <thead>\n",
       "    <tr style=\"text-align: right;\">\n",
       "      <th></th>\n",
       "      <th>Loan_ID</th>\n",
       "      <th>0</th>\n",
       "    </tr>\n",
       "  </thead>\n",
       "  <tbody>\n",
       "    <tr>\n",
       "      <th>0</th>\n",
       "      <td>LP001015</td>\n",
       "      <td>Y</td>\n",
       "    </tr>\n",
       "    <tr>\n",
       "      <th>1</th>\n",
       "      <td>LP001022</td>\n",
       "      <td>Y</td>\n",
       "    </tr>\n",
       "    <tr>\n",
       "      <th>2</th>\n",
       "      <td>LP001031</td>\n",
       "      <td>Y</td>\n",
       "    </tr>\n",
       "    <tr>\n",
       "      <th>3</th>\n",
       "      <td>LP001035</td>\n",
       "      <td>Y</td>\n",
       "    </tr>\n",
       "    <tr>\n",
       "      <th>4</th>\n",
       "      <td>LP001051</td>\n",
       "      <td>Y</td>\n",
       "    </tr>\n",
       "  </tbody>\n",
       "</table>\n",
       "</div>"
      ],
      "text/plain": [
       "    Loan_ID  0\n",
       "0  LP001015  Y\n",
       "1  LP001022  Y\n",
       "2  LP001031  Y\n",
       "3  LP001035  Y\n",
       "4  LP001051  Y"
      ]
     },
     "execution_count": 78,
     "metadata": {},
     "output_type": "execute_result"
    }
   ],
   "source": [
    "Sub_Log.head()"
   ]
  },
  {
   "cell_type": "code",
   "execution_count": 79,
   "metadata": {},
   "outputs": [],
   "source": [
    "#Rename the ColumnName:\n",
    "Sub_Log.rename(columns = {0:\"Loan_Status\"},inplace=True)"
   ]
  },
  {
   "cell_type": "code",
   "execution_count": 80,
   "metadata": {},
   "outputs": [
    {
     "data": {
      "text/html": [
       "<div>\n",
       "<style scoped>\n",
       "    .dataframe tbody tr th:only-of-type {\n",
       "        vertical-align: middle;\n",
       "    }\n",
       "\n",
       "    .dataframe tbody tr th {\n",
       "        vertical-align: top;\n",
       "    }\n",
       "\n",
       "    .dataframe thead th {\n",
       "        text-align: right;\n",
       "    }\n",
       "</style>\n",
       "<table border=\"1\" class=\"dataframe\">\n",
       "  <thead>\n",
       "    <tr style=\"text-align: right;\">\n",
       "      <th></th>\n",
       "      <th>Loan_ID</th>\n",
       "      <th>Loan_Status</th>\n",
       "    </tr>\n",
       "  </thead>\n",
       "  <tbody>\n",
       "    <tr>\n",
       "      <th>0</th>\n",
       "      <td>LP001015</td>\n",
       "      <td>Y</td>\n",
       "    </tr>\n",
       "    <tr>\n",
       "      <th>1</th>\n",
       "      <td>LP001022</td>\n",
       "      <td>Y</td>\n",
       "    </tr>\n",
       "    <tr>\n",
       "      <th>2</th>\n",
       "      <td>LP001031</td>\n",
       "      <td>Y</td>\n",
       "    </tr>\n",
       "    <tr>\n",
       "      <th>3</th>\n",
       "      <td>LP001035</td>\n",
       "      <td>Y</td>\n",
       "    </tr>\n",
       "    <tr>\n",
       "      <th>4</th>\n",
       "      <td>LP001051</td>\n",
       "      <td>Y</td>\n",
       "    </tr>\n",
       "  </tbody>\n",
       "</table>\n",
       "</div>"
      ],
      "text/plain": [
       "    Loan_ID Loan_Status\n",
       "0  LP001015           Y\n",
       "1  LP001022           Y\n",
       "2  LP001031           Y\n",
       "3  LP001035           Y\n",
       "4  LP001051           Y"
      ]
     },
     "execution_count": 80,
     "metadata": {},
     "output_type": "execute_result"
    }
   ],
   "source": [
    "Sub_Log.head()"
   ]
  },
  {
   "cell_type": "code",
   "execution_count": 81,
   "metadata": {},
   "outputs": [],
   "source": [
    "Sub_Log.to_csv(\"1.Sub_Log.csv\",index=False)"
   ]
  },
  {
   "cell_type": "code",
   "execution_count": 82,
   "metadata": {},
   "outputs": [],
   "source": [
    "#The Above Submission gives :\n",
    "#Your score for this submission is : 0.7777777777777778. on site."
   ]
  },
  {
   "cell_type": "markdown",
   "metadata": {},
   "source": [
    "# 2. KNN Classifier"
   ]
  },
  {
   "cell_type": "code",
   "execution_count": 83,
   "metadata": {},
   "outputs": [
    {
     "name": "stderr",
     "output_type": "stream",
     "text": [
      "C:\\Users\\HARIOHM\\anaconda3\\lib\\site-packages\\ipykernel_launcher.py:5: DataConversionWarning: A column-vector y was passed when a 1d array was expected. Please change the shape of y to (n_samples, ), for example using ravel().\n",
      "  \"\"\"\n"
     ]
    },
    {
     "data": {
      "text/plain": [
       "KNeighborsClassifier()"
      ]
     },
     "execution_count": 83,
     "metadata": {},
     "output_type": "execute_result"
    }
   ],
   "source": [
    "#Build the KNN Model(Modelless) Algorithm:\n",
    "from sklearn.neighbors import KNeighborsClassifier\n",
    "KNN_class = KNeighborsClassifier(n_neighbors = 5,metric = \"minkowski\",p=2)\n",
    "#Build the Model:\n",
    "KNN_class.fit(X_train,y_train)"
   ]
  },
  {
   "cell_type": "code",
   "execution_count": 84,
   "metadata": {},
   "outputs": [],
   "source": [
    "#Predict on X_train itself to verify with the actual result:\n",
    "pred_X_train_KNN = KNN_class.predict(X_train)"
   ]
  },
  {
   "cell_type": "code",
   "execution_count": 85,
   "metadata": {},
   "outputs": [],
   "source": [
    "#Predict on Validation Data which is (X_test) and actual_test data:\n",
    "pred_X_test_KNN = KNN_class.predict(X_test)\n",
    "pred_test_KNN = KNN_class.predict(test_final)"
   ]
  },
  {
   "cell_type": "code",
   "execution_count": 86,
   "metadata": {},
   "outputs": [
    {
     "name": "stdout",
     "output_type": "stream",
     "text": [
      "-----Result on Train Data-----------\n",
      "              precision    recall  f1-score   support\n",
      "\n",
      "           N       0.53      0.91      0.67        85\n",
      "           Y       0.98      0.83      0.90       406\n",
      "\n",
      "    accuracy                           0.85       491\n",
      "   macro avg       0.76      0.87      0.79       491\n",
      "weighted avg       0.90      0.85      0.86       491\n",
      "\n",
      "-----Result on Validation Data------\n",
      "              precision    recall  f1-score   support\n",
      "\n",
      "           N       0.40      0.90      0.55        21\n",
      "           Y       0.97      0.72      0.82       102\n",
      "\n",
      "    accuracy                           0.75       123\n",
      "   macro avg       0.68      0.81      0.69       123\n",
      "weighted avg       0.87      0.75      0.78       123\n",
      "\n"
     ]
    }
   ],
   "source": [
    "#Check the Metrics on X_train using which model was built:\n",
    "from sklearn.metrics import classification_report,accuracy_score\n",
    "result_X_train_KNN = classification_report(pred_X_train_KNN,y_train)\n",
    "result_X_test_KNN = classification_report(pred_X_test_KNN,y_test)\n",
    "print(\"-----Result on Train Data-----------\")\n",
    "print(result_X_train_KNN)\n",
    "print(\"-----Result on Validation Data------\")\n",
    "print(result_X_test_KNN)\n",
    "#classification_report()"
   ]
  },
  {
   "cell_type": "code",
   "execution_count": 87,
   "metadata": {},
   "outputs": [],
   "source": [
    "#Concat the test_LoanID and pred_test:\n",
    "Sub_KNN = pd.concat([test_LoanID,pd.Series(pred_test_KNN)],axis=1)"
   ]
  },
  {
   "cell_type": "code",
   "execution_count": 88,
   "metadata": {},
   "outputs": [],
   "source": [
    "#Rename the ColumnName:\n",
    "Sub_KNN.rename(columns = {0:\"Loan_Status\"},inplace=True)"
   ]
  },
  {
   "cell_type": "code",
   "execution_count": 89,
   "metadata": {},
   "outputs": [
    {
     "data": {
      "text/html": [
       "<div>\n",
       "<style scoped>\n",
       "    .dataframe tbody tr th:only-of-type {\n",
       "        vertical-align: middle;\n",
       "    }\n",
       "\n",
       "    .dataframe tbody tr th {\n",
       "        vertical-align: top;\n",
       "    }\n",
       "\n",
       "    .dataframe thead th {\n",
       "        text-align: right;\n",
       "    }\n",
       "</style>\n",
       "<table border=\"1\" class=\"dataframe\">\n",
       "  <thead>\n",
       "    <tr style=\"text-align: right;\">\n",
       "      <th></th>\n",
       "      <th>Loan_ID</th>\n",
       "      <th>Loan_Status</th>\n",
       "    </tr>\n",
       "  </thead>\n",
       "  <tbody>\n",
       "    <tr>\n",
       "      <th>0</th>\n",
       "      <td>LP001015</td>\n",
       "      <td>Y</td>\n",
       "    </tr>\n",
       "    <tr>\n",
       "      <th>1</th>\n",
       "      <td>LP001022</td>\n",
       "      <td>Y</td>\n",
       "    </tr>\n",
       "    <tr>\n",
       "      <th>2</th>\n",
       "      <td>LP001031</td>\n",
       "      <td>Y</td>\n",
       "    </tr>\n",
       "    <tr>\n",
       "      <th>3</th>\n",
       "      <td>LP001035</td>\n",
       "      <td>Y</td>\n",
       "    </tr>\n",
       "    <tr>\n",
       "      <th>4</th>\n",
       "      <td>LP001051</td>\n",
       "      <td>N</td>\n",
       "    </tr>\n",
       "  </tbody>\n",
       "</table>\n",
       "</div>"
      ],
      "text/plain": [
       "    Loan_ID Loan_Status\n",
       "0  LP001015           Y\n",
       "1  LP001022           Y\n",
       "2  LP001031           Y\n",
       "3  LP001035           Y\n",
       "4  LP001051           N"
      ]
     },
     "execution_count": 89,
     "metadata": {},
     "output_type": "execute_result"
    }
   ],
   "source": [
    "Sub_KNN.head()"
   ]
  },
  {
   "cell_type": "code",
   "execution_count": 90,
   "metadata": {},
   "outputs": [],
   "source": [
    "#Download into Local System:\n",
    "Sub_KNN.to_csv(\"2.sub_KNN.csv\",index=False)"
   ]
  },
  {
   "cell_type": "code",
   "execution_count": 91,
   "metadata": {},
   "outputs": [],
   "source": [
    "#After Submission to the Portal it shows:\n",
    "#Your score for this submission is : 0.75."
   ]
  },
  {
   "cell_type": "markdown",
   "metadata": {},
   "source": [
    "# 3.Naive Bayes"
   ]
  },
  {
   "cell_type": "code",
   "execution_count": 92,
   "metadata": {},
   "outputs": [
    {
     "name": "stderr",
     "output_type": "stream",
     "text": [
      "C:\\Users\\HARIOHM\\anaconda3\\lib\\site-packages\\sklearn\\utils\\validation.py:73: DataConversionWarning: A column-vector y was passed when a 1d array was expected. Please change the shape of y to (n_samples, ), for example using ravel().\n",
      "  return f(**kwargs)\n"
     ]
    },
    {
     "data": {
      "text/plain": [
       "GaussianNB()"
      ]
     },
     "execution_count": 92,
     "metadata": {},
     "output_type": "execute_result"
    }
   ],
   "source": [
    "from sklearn.naive_bayes import GaussianNB\n",
    "GNB_class = GaussianNB()\n",
    "#Build the Model:\n",
    "GNB_class.fit(X_train,y_train)"
   ]
  },
  {
   "cell_type": "code",
   "execution_count": 93,
   "metadata": {},
   "outputs": [],
   "source": [
    "#Predict on X_train itself to verify with the actual result:\n",
    "pred_X_train_NB = GNB_class.predict(X_train)"
   ]
  },
  {
   "cell_type": "code",
   "execution_count": 94,
   "metadata": {},
   "outputs": [],
   "source": [
    "#Predict on Validation Data which is (X_test) and actual_test data:\n",
    "pred_X_test_NB = GNB_class.predict(X_test)\n",
    "pred_test_NB = GNB_class.predict(test_final)"
   ]
  },
  {
   "cell_type": "code",
   "execution_count": 95,
   "metadata": {},
   "outputs": [
    {
     "name": "stdout",
     "output_type": "stream",
     "text": [
      "-----Result on Train Data-----------\n",
      "              precision    recall  f1-score   support\n",
      "\n",
      "           N       0.47      0.87      0.61        77\n",
      "           Y       0.97      0.81      0.89       414\n",
      "\n",
      "    accuracy                           0.82       491\n",
      "   macro avg       0.72      0.84      0.75       491\n",
      "weighted avg       0.89      0.82      0.84       491\n",
      "\n",
      "-----Result on Validation Data------\n",
      "              precision    recall  f1-score   support\n",
      "\n",
      "           N       0.40      0.83      0.54        23\n",
      "           Y       0.95      0.71      0.81       100\n",
      "\n",
      "    accuracy                           0.73       123\n",
      "   macro avg       0.67      0.77      0.67       123\n",
      "weighted avg       0.84      0.73      0.76       123\n",
      "\n"
     ]
    }
   ],
   "source": [
    "#Check the Metrics on X_train using which model was built:\n",
    "from sklearn.metrics import classification_report,accuracy_score\n",
    "result_X_train_NB = classification_report(pred_X_train_NB,y_train)\n",
    "result_X_test_NB = classification_report(pred_X_test_NB,y_test)\n",
    "print(\"-----Result on Train Data-----------\")\n",
    "print(result_X_train_NB)\n",
    "print(\"-----Result on Validation Data------\")\n",
    "print(result_X_test_NB)\n",
    "#classification_report()"
   ]
  },
  {
   "cell_type": "code",
   "execution_count": 96,
   "metadata": {},
   "outputs": [],
   "source": [
    "#Concat the test_LoanID and pred_test:\n",
    "Sub_NB = pd.concat([test_LoanID,pd.Series(pred_test_NB)],axis=1)"
   ]
  },
  {
   "cell_type": "code",
   "execution_count": 97,
   "metadata": {},
   "outputs": [
    {
     "data": {
      "text/html": [
       "<div>\n",
       "<style scoped>\n",
       "    .dataframe tbody tr th:only-of-type {\n",
       "        vertical-align: middle;\n",
       "    }\n",
       "\n",
       "    .dataframe tbody tr th {\n",
       "        vertical-align: top;\n",
       "    }\n",
       "\n",
       "    .dataframe thead th {\n",
       "        text-align: right;\n",
       "    }\n",
       "</style>\n",
       "<table border=\"1\" class=\"dataframe\">\n",
       "  <thead>\n",
       "    <tr style=\"text-align: right;\">\n",
       "      <th></th>\n",
       "      <th>Loan_ID</th>\n",
       "      <th>0</th>\n",
       "    </tr>\n",
       "  </thead>\n",
       "  <tbody>\n",
       "    <tr>\n",
       "      <th>0</th>\n",
       "      <td>LP001015</td>\n",
       "      <td>Y</td>\n",
       "    </tr>\n",
       "    <tr>\n",
       "      <th>1</th>\n",
       "      <td>LP001022</td>\n",
       "      <td>Y</td>\n",
       "    </tr>\n",
       "    <tr>\n",
       "      <th>2</th>\n",
       "      <td>LP001031</td>\n",
       "      <td>Y</td>\n",
       "    </tr>\n",
       "    <tr>\n",
       "      <th>3</th>\n",
       "      <td>LP001035</td>\n",
       "      <td>Y</td>\n",
       "    </tr>\n",
       "    <tr>\n",
       "      <th>4</th>\n",
       "      <td>LP001051</td>\n",
       "      <td>Y</td>\n",
       "    </tr>\n",
       "  </tbody>\n",
       "</table>\n",
       "</div>"
      ],
      "text/plain": [
       "    Loan_ID  0\n",
       "0  LP001015  Y\n",
       "1  LP001022  Y\n",
       "2  LP001031  Y\n",
       "3  LP001035  Y\n",
       "4  LP001051  Y"
      ]
     },
     "execution_count": 97,
     "metadata": {},
     "output_type": "execute_result"
    }
   ],
   "source": [
    "Sub_NB.head()"
   ]
  },
  {
   "cell_type": "code",
   "execution_count": 98,
   "metadata": {},
   "outputs": [],
   "source": [
    "Sub_NB.rename(columns = {0:\"Loan_Status\"},inplace=True)"
   ]
  },
  {
   "cell_type": "code",
   "execution_count": 99,
   "metadata": {},
   "outputs": [],
   "source": [
    "#Download into Local System:\n",
    "Sub_NB.to_csv(\"3.Sub_NB.csv\",index=False)"
   ]
  },
  {
   "cell_type": "code",
   "execution_count": 100,
   "metadata": {},
   "outputs": [],
   "source": [
    "#Prediction On Portal:\n",
    "#Your score for this submission is : 0.7638888888888888."
   ]
  },
  {
   "cell_type": "markdown",
   "metadata": {},
   "source": [
    "# 4. Decision Tree Classifier:"
   ]
  },
  {
   "cell_type": "code",
   "execution_count": 101,
   "metadata": {},
   "outputs": [
    {
     "data": {
      "text/plain": [
       "DecisionTreeClassifier()"
      ]
     },
     "execution_count": 101,
     "metadata": {},
     "output_type": "execute_result"
    }
   ],
   "source": [
    "from sklearn.tree import DecisionTreeClassifier\n",
    "DT = DecisionTreeClassifier()\n",
    "#Build the Model:\n",
    "DT.fit(X_train,y_train)"
   ]
  },
  {
   "cell_type": "code",
   "execution_count": 102,
   "metadata": {},
   "outputs": [],
   "source": [
    "#Predict on X_train itself to verify with the actual result:\n",
    "pred_X_train_DT = DT.predict(X_train)"
   ]
  },
  {
   "cell_type": "code",
   "execution_count": 103,
   "metadata": {},
   "outputs": [],
   "source": [
    "#Predict on Validation Data which is (X_test) and actual_test data:\n",
    "pred_X_test_DT = DT.predict(X_test)\n",
    "pred_test_DT = DT.predict(test_final)"
   ]
  },
  {
   "cell_type": "code",
   "execution_count": 104,
   "metadata": {},
   "outputs": [
    {
     "name": "stdout",
     "output_type": "stream",
     "text": [
      "-----Result on Train Data-----------\n",
      "              precision    recall  f1-score   support\n",
      "\n",
      "           N       1.00      1.00      1.00       144\n",
      "           Y       1.00      1.00      1.00       347\n",
      "\n",
      "    accuracy                           1.00       491\n",
      "   macro avg       1.00      1.00      1.00       491\n",
      "weighted avg       1.00      1.00      1.00       491\n",
      "\n",
      "-----Result on Validation Data------\n",
      "              precision    recall  f1-score   support\n",
      "\n",
      "           N       0.54      0.55      0.55        47\n",
      "           Y       0.72      0.71      0.72        76\n",
      "\n",
      "    accuracy                           0.65       123\n",
      "   macro avg       0.63      0.63      0.63       123\n",
      "weighted avg       0.65      0.65      0.65       123\n",
      "\n"
     ]
    }
   ],
   "source": [
    "#Check the Metrics on X_train using which model was built:\n",
    "from sklearn.metrics import classification_report,accuracy_score\n",
    "result_X_train_DT = classification_report(pred_X_train_DT,y_train)\n",
    "result_X_test_DT = classification_report(pred_X_test_DT,y_test)\n",
    "print(\"-----Result on Train Data-----------\")\n",
    "print(result_X_train_DT)\n",
    "print(\"-----Result on Validation Data------\")\n",
    "print(result_X_test_DT)\n",
    "#classification_report()"
   ]
  },
  {
   "cell_type": "code",
   "execution_count": 105,
   "metadata": {},
   "outputs": [],
   "source": [
    "#Concat the test_LoanID and pred_test:\n",
    "Sub_DT = pd.concat([test_LoanID,pd.Series(pred_test_DT)],axis=1)"
   ]
  },
  {
   "cell_type": "code",
   "execution_count": 106,
   "metadata": {},
   "outputs": [
    {
     "data": {
      "text/html": [
       "<div>\n",
       "<style scoped>\n",
       "    .dataframe tbody tr th:only-of-type {\n",
       "        vertical-align: middle;\n",
       "    }\n",
       "\n",
       "    .dataframe tbody tr th {\n",
       "        vertical-align: top;\n",
       "    }\n",
       "\n",
       "    .dataframe thead th {\n",
       "        text-align: right;\n",
       "    }\n",
       "</style>\n",
       "<table border=\"1\" class=\"dataframe\">\n",
       "  <thead>\n",
       "    <tr style=\"text-align: right;\">\n",
       "      <th></th>\n",
       "      <th>Loan_ID</th>\n",
       "      <th>0</th>\n",
       "    </tr>\n",
       "  </thead>\n",
       "  <tbody>\n",
       "    <tr>\n",
       "      <th>0</th>\n",
       "      <td>LP001015</td>\n",
       "      <td>Y</td>\n",
       "    </tr>\n",
       "    <tr>\n",
       "      <th>1</th>\n",
       "      <td>LP001022</td>\n",
       "      <td>Y</td>\n",
       "    </tr>\n",
       "    <tr>\n",
       "      <th>2</th>\n",
       "      <td>LP001031</td>\n",
       "      <td>Y</td>\n",
       "    </tr>\n",
       "    <tr>\n",
       "      <th>3</th>\n",
       "      <td>LP001035</td>\n",
       "      <td>Y</td>\n",
       "    </tr>\n",
       "    <tr>\n",
       "      <th>4</th>\n",
       "      <td>LP001051</td>\n",
       "      <td>Y</td>\n",
       "    </tr>\n",
       "  </tbody>\n",
       "</table>\n",
       "</div>"
      ],
      "text/plain": [
       "    Loan_ID  0\n",
       "0  LP001015  Y\n",
       "1  LP001022  Y\n",
       "2  LP001031  Y\n",
       "3  LP001035  Y\n",
       "4  LP001051  Y"
      ]
     },
     "execution_count": 106,
     "metadata": {},
     "output_type": "execute_result"
    }
   ],
   "source": [
    "Sub_DT.head()"
   ]
  },
  {
   "cell_type": "code",
   "execution_count": 107,
   "metadata": {},
   "outputs": [],
   "source": [
    "#Rename the Column:\n",
    "Sub_DT.rename(columns = {0:\"Loan_Status\"},inplace=True)"
   ]
  },
  {
   "cell_type": "code",
   "execution_count": 108,
   "metadata": {},
   "outputs": [],
   "source": [
    "#Download into Local System:\n",
    "Sub_DT.to_csv(\"4.Sub_DT.csv\",index=False)"
   ]
  },
  {
   "cell_type": "code",
   "execution_count": 109,
   "metadata": {},
   "outputs": [],
   "source": [
    "#Result on Portal:\n",
    "#Your score for this submission is : 0.72."
   ]
  },
  {
   "cell_type": "markdown",
   "metadata": {},
   "source": [
    "# 5. Random Forest:"
   ]
  },
  {
   "cell_type": "code",
   "execution_count": 110,
   "metadata": {},
   "outputs": [
    {
     "name": "stderr",
     "output_type": "stream",
     "text": [
      "C:\\Users\\HARIOHM\\anaconda3\\lib\\site-packages\\ipykernel_launcher.py:4: DataConversionWarning: A column-vector y was passed when a 1d array was expected. Please change the shape of y to (n_samples,), for example using ravel().\n",
      "  after removing the cwd from sys.path.\n"
     ]
    },
    {
     "data": {
      "text/plain": [
       "RandomForestClassifier()"
      ]
     },
     "execution_count": 110,
     "metadata": {},
     "output_type": "execute_result"
    }
   ],
   "source": [
    "from sklearn.ensemble import RandomForestClassifier\n",
    "rf = RandomForestClassifier()\n",
    "#Build the Model:\n",
    "rf.fit(X_train,y_train)"
   ]
  },
  {
   "cell_type": "code",
   "execution_count": 111,
   "metadata": {},
   "outputs": [],
   "source": [
    "#Predict on X_train itself to verify with the actual result:\n",
    "pred_X_train_rf = rf.predict(X_train)"
   ]
  },
  {
   "cell_type": "code",
   "execution_count": 112,
   "metadata": {},
   "outputs": [],
   "source": [
    "#Predict on Validation Data which is (X_test) and actual_test data:\n",
    "pred_X_test_rf = rf.predict(X_test)\n",
    "pred_test_rf = rf.predict(test_final)"
   ]
  },
  {
   "cell_type": "code",
   "execution_count": 113,
   "metadata": {},
   "outputs": [
    {
     "name": "stdout",
     "output_type": "stream",
     "text": [
      "--------------------------Result on Train Data-----------\n",
      "              precision    recall  f1-score   support\n",
      "\n",
      "           N       1.00      1.00      1.00       144\n",
      "           Y       1.00      1.00      1.00       347\n",
      "\n",
      "    accuracy                           1.00       491\n",
      "   macro avg       1.00      1.00      1.00       491\n",
      "weighted avg       1.00      1.00      1.00       491\n",
      "\n",
      "--------------------------Result on Validation Data------\n",
      "              precision    recall  f1-score   support\n",
      "\n",
      "           N       0.50      0.83      0.62        29\n",
      "           Y       0.93      0.74      0.83        94\n",
      "\n",
      "    accuracy                           0.76       123\n",
      "   macro avg       0.72      0.79      0.73       123\n",
      "weighted avg       0.83      0.76      0.78       123\n",
      "\n"
     ]
    }
   ],
   "source": [
    "#Check the Metrics on X_train using which model was built:\n",
    "from sklearn.metrics import classification_report,accuracy_score\n",
    "result_X_train_rf = classification_report(pred_X_train_rf,y_train)\n",
    "result_X_test_rf = classification_report(pred_X_test_rf,y_test)\n",
    "print(\"--------------------------Result on Train Data-----------\")\n",
    "print(result_X_train_rf)\n",
    "print(\"--------------------------Result on Validation Data------\")\n",
    "print(result_X_test_rf)\n",
    "#classification_report()"
   ]
  },
  {
   "cell_type": "code",
   "execution_count": 114,
   "metadata": {},
   "outputs": [],
   "source": [
    "#Concat the test_LoanID and pred_test:\n",
    "Sub_rf = pd.concat([test_LoanID,pd.Series(pred_test_rf)],axis=1)"
   ]
  },
  {
   "cell_type": "code",
   "execution_count": 115,
   "metadata": {},
   "outputs": [
    {
     "data": {
      "text/html": [
       "<div>\n",
       "<style scoped>\n",
       "    .dataframe tbody tr th:only-of-type {\n",
       "        vertical-align: middle;\n",
       "    }\n",
       "\n",
       "    .dataframe tbody tr th {\n",
       "        vertical-align: top;\n",
       "    }\n",
       "\n",
       "    .dataframe thead th {\n",
       "        text-align: right;\n",
       "    }\n",
       "</style>\n",
       "<table border=\"1\" class=\"dataframe\">\n",
       "  <thead>\n",
       "    <tr style=\"text-align: right;\">\n",
       "      <th></th>\n",
       "      <th>Loan_ID</th>\n",
       "      <th>0</th>\n",
       "    </tr>\n",
       "  </thead>\n",
       "  <tbody>\n",
       "    <tr>\n",
       "      <th>0</th>\n",
       "      <td>LP001015</td>\n",
       "      <td>Y</td>\n",
       "    </tr>\n",
       "    <tr>\n",
       "      <th>1</th>\n",
       "      <td>LP001022</td>\n",
       "      <td>Y</td>\n",
       "    </tr>\n",
       "    <tr>\n",
       "      <th>2</th>\n",
       "      <td>LP001031</td>\n",
       "      <td>Y</td>\n",
       "    </tr>\n",
       "    <tr>\n",
       "      <th>3</th>\n",
       "      <td>LP001035</td>\n",
       "      <td>Y</td>\n",
       "    </tr>\n",
       "    <tr>\n",
       "      <th>4</th>\n",
       "      <td>LP001051</td>\n",
       "      <td>Y</td>\n",
       "    </tr>\n",
       "  </tbody>\n",
       "</table>\n",
       "</div>"
      ],
      "text/plain": [
       "    Loan_ID  0\n",
       "0  LP001015  Y\n",
       "1  LP001022  Y\n",
       "2  LP001031  Y\n",
       "3  LP001035  Y\n",
       "4  LP001051  Y"
      ]
     },
     "execution_count": 115,
     "metadata": {},
     "output_type": "execute_result"
    }
   ],
   "source": [
    "Sub_rf.head()"
   ]
  },
  {
   "cell_type": "code",
   "execution_count": 116,
   "metadata": {},
   "outputs": [],
   "source": [
    "#Rename the Column:\n",
    "Sub_rf.rename(columns = {0:\"Loan_Status\"},inplace=True)"
   ]
  },
  {
   "cell_type": "code",
   "execution_count": 117,
   "metadata": {},
   "outputs": [],
   "source": [
    "#Download into Local System:\n",
    "Sub_DT.to_csv(\"5.Sub_rf.csv\",index=False)"
   ]
  },
  {
   "cell_type": "code",
   "execution_count": 118,
   "metadata": {},
   "outputs": [],
   "source": [
    "#Result on portal: \n",
    "#Your score for this submission is : 0.6666666666666666."
   ]
  },
  {
   "cell_type": "markdown",
   "metadata": {},
   "source": [
    "# 6. GradientBoosting Classifier:"
   ]
  },
  {
   "cell_type": "code",
   "execution_count": 119,
   "metadata": {},
   "outputs": [
    {
     "name": "stderr",
     "output_type": "stream",
     "text": [
      "C:\\Users\\HARIOHM\\anaconda3\\lib\\site-packages\\sklearn\\utils\\validation.py:73: DataConversionWarning: A column-vector y was passed when a 1d array was expected. Please change the shape of y to (n_samples, ), for example using ravel().\n",
      "  return f(**kwargs)\n"
     ]
    },
    {
     "data": {
      "text/plain": [
       "GradientBoostingClassifier()"
      ]
     },
     "execution_count": 119,
     "metadata": {},
     "output_type": "execute_result"
    }
   ],
   "source": [
    "from sklearn.ensemble import GradientBoostingClassifier\n",
    "GB = GradientBoostingClassifier()\n",
    "#Model building\n",
    "GB.fit(X_train,y_train)"
   ]
  },
  {
   "cell_type": "code",
   "execution_count": 120,
   "metadata": {},
   "outputs": [],
   "source": [
    "#Predict on X_train itself to verify with the actual result:\n",
    "pred_X_train_GB = GB.predict(X_train)"
   ]
  },
  {
   "cell_type": "code",
   "execution_count": 121,
   "metadata": {},
   "outputs": [],
   "source": [
    "#Predict on Validation Data which is (X_test) and actual_test data:\n",
    "pred_X_test_GB = rf.predict(X_test)\n",
    "pred_test_GB = rf.predict(test_final)"
   ]
  },
  {
   "cell_type": "code",
   "execution_count": 122,
   "metadata": {},
   "outputs": [
    {
     "name": "stdout",
     "output_type": "stream",
     "text": [
      "--------------------------Result on Train Data-----------\n",
      "              precision    recall  f1-score   support\n",
      "\n",
      "           N       0.65      1.00      0.79        94\n",
      "           Y       1.00      0.87      0.93       397\n",
      "\n",
      "    accuracy                           0.90       491\n",
      "   macro avg       0.83      0.94      0.86       491\n",
      "weighted avg       0.93      0.90      0.91       491\n",
      "\n",
      "--------------------------Result on Validation Data------\n",
      "              precision    recall  f1-score   support\n",
      "\n",
      "           N       0.50      0.83      0.62        29\n",
      "           Y       0.93      0.74      0.83        94\n",
      "\n",
      "    accuracy                           0.76       123\n",
      "   macro avg       0.72      0.79      0.73       123\n",
      "weighted avg       0.83      0.76      0.78       123\n",
      "\n"
     ]
    }
   ],
   "source": [
    "#Check the Metrics on X_train using which model was built:\n",
    "from sklearn.metrics import classification_report,accuracy_score\n",
    "result_X_train_GB = classification_report(pred_X_train_GB,y_train)\n",
    "result_X_test_GB = classification_report(pred_X_test_GB,y_test)\n",
    "print(\"--------------------------Result on Train Data-----------\")\n",
    "print(result_X_train_GB)\n",
    "print(\"--------------------------Result on Validation Data------\")\n",
    "print(result_X_test_GB)\n",
    "#classification_report()"
   ]
  },
  {
   "cell_type": "code",
   "execution_count": 123,
   "metadata": {},
   "outputs": [],
   "source": [
    "#Concat the test_LoanID and pred_test:\n",
    "Sub_GB = pd.concat([test_LoanID,pd.Series(pred_test_GB)],axis=1)"
   ]
  },
  {
   "cell_type": "code",
   "execution_count": 124,
   "metadata": {},
   "outputs": [
    {
     "data": {
      "text/html": [
       "<div>\n",
       "<style scoped>\n",
       "    .dataframe tbody tr th:only-of-type {\n",
       "        vertical-align: middle;\n",
       "    }\n",
       "\n",
       "    .dataframe tbody tr th {\n",
       "        vertical-align: top;\n",
       "    }\n",
       "\n",
       "    .dataframe thead th {\n",
       "        text-align: right;\n",
       "    }\n",
       "</style>\n",
       "<table border=\"1\" class=\"dataframe\">\n",
       "  <thead>\n",
       "    <tr style=\"text-align: right;\">\n",
       "      <th></th>\n",
       "      <th>Loan_ID</th>\n",
       "      <th>0</th>\n",
       "    </tr>\n",
       "  </thead>\n",
       "  <tbody>\n",
       "    <tr>\n",
       "      <th>0</th>\n",
       "      <td>LP001015</td>\n",
       "      <td>Y</td>\n",
       "    </tr>\n",
       "    <tr>\n",
       "      <th>1</th>\n",
       "      <td>LP001022</td>\n",
       "      <td>Y</td>\n",
       "    </tr>\n",
       "    <tr>\n",
       "      <th>2</th>\n",
       "      <td>LP001031</td>\n",
       "      <td>Y</td>\n",
       "    </tr>\n",
       "    <tr>\n",
       "      <th>3</th>\n",
       "      <td>LP001035</td>\n",
       "      <td>Y</td>\n",
       "    </tr>\n",
       "    <tr>\n",
       "      <th>4</th>\n",
       "      <td>LP001051</td>\n",
       "      <td>Y</td>\n",
       "    </tr>\n",
       "  </tbody>\n",
       "</table>\n",
       "</div>"
      ],
      "text/plain": [
       "    Loan_ID  0\n",
       "0  LP001015  Y\n",
       "1  LP001022  Y\n",
       "2  LP001031  Y\n",
       "3  LP001035  Y\n",
       "4  LP001051  Y"
      ]
     },
     "execution_count": 124,
     "metadata": {},
     "output_type": "execute_result"
    }
   ],
   "source": [
    "Sub_GB.head()"
   ]
  },
  {
   "cell_type": "code",
   "execution_count": 125,
   "metadata": {},
   "outputs": [],
   "source": [
    "Sub_GB.rename(columns = {0:\"Loan_Status\"},inplace=True)"
   ]
  },
  {
   "cell_type": "code",
   "execution_count": 126,
   "metadata": {},
   "outputs": [],
   "source": [
    "Sub_GB.to_csv(\"6.Sub_GB.csv\",index=False)"
   ]
  },
  {
   "cell_type": "code",
   "execution_count": 127,
   "metadata": {},
   "outputs": [],
   "source": [
    "#Result: on Portal\n",
    "#Your score for this submission is : 0.7638888888888888."
   ]
  },
  {
   "cell_type": "markdown",
   "metadata": {},
   "source": [
    "# 7.Hist Gradient Boosting Classifier"
   ]
  },
  {
   "cell_type": "code",
   "execution_count": 128,
   "metadata": {},
   "outputs": [
    {
     "name": "stderr",
     "output_type": "stream",
     "text": [
      "C:\\Users\\HARIOHM\\anaconda3\\lib\\site-packages\\sklearn\\utils\\validation.py:73: DataConversionWarning: A column-vector y was passed when a 1d array was expected. Please change the shape of y to (n_samples, ), for example using ravel().\n",
      "  return f(**kwargs)\n"
     ]
    },
    {
     "data": {
      "text/plain": [
       "HistGradientBoostingClassifier()"
      ]
     },
     "execution_count": 128,
     "metadata": {},
     "output_type": "execute_result"
    }
   ],
   "source": [
    "#NOTE: This is still experiemental:\n",
    "from sklearn.experimental import enable_hist_gradient_boosting\n",
    "from sklearn.ensemble import HistGradientBoostingClassifier\n",
    "HGB = HistGradientBoostingClassifier()\n",
    "#Build Model:\n",
    "HGB.fit(X_train,y_train)"
   ]
  },
  {
   "cell_type": "code",
   "execution_count": 129,
   "metadata": {},
   "outputs": [],
   "source": [
    "#Predict on X_train itself to verify with the actual result:\n",
    "pred_X_train_HGB = HGB.predict(X_train)"
   ]
  },
  {
   "cell_type": "code",
   "execution_count": 130,
   "metadata": {},
   "outputs": [],
   "source": [
    "#Predict on Validation Data which is (X_test) and actual_test data:\n",
    "pred_X_test_HGB = HGB.predict(X_test)\n",
    "pred_test_HGB = HGB.predict(test_final)"
   ]
  },
  {
   "cell_type": "code",
   "execution_count": 131,
   "metadata": {},
   "outputs": [
    {
     "name": "stdout",
     "output_type": "stream",
     "text": [
      "--------------------------Result on Train Data-----------\n",
      "              precision    recall  f1-score   support\n",
      "\n",
      "           N       0.96      1.00      0.98       138\n",
      "           Y       1.00      0.98      0.99       353\n",
      "\n",
      "    accuracy                           0.99       491\n",
      "   macro avg       0.98      0.99      0.99       491\n",
      "weighted avg       0.99      0.99      0.99       491\n",
      "\n",
      "--------------------------Result on Validation Data------\n",
      "              precision    recall  f1-score   support\n",
      "\n",
      "           N       0.46      0.73      0.56        30\n",
      "           Y       0.89      0.72      0.80        93\n",
      "\n",
      "    accuracy                           0.72       123\n",
      "   macro avg       0.68      0.73      0.68       123\n",
      "weighted avg       0.79      0.72      0.74       123\n",
      "\n"
     ]
    }
   ],
   "source": [
    "#Check the Metrics on X_train using which model was built:\n",
    "from sklearn.metrics import classification_report,accuracy_score\n",
    "result_X_train_HGB = classification_report(pred_X_train_HGB,y_train)\n",
    "result_X_test_HGB = classification_report(pred_X_test_HGB,y_test)\n",
    "print(\"--------------------------Result on Train Data-----------\")\n",
    "print(result_X_train_HGB)\n",
    "print(\"--------------------------Result on Validation Data------\")\n",
    "print(result_X_test_HGB)\n",
    "#classification_report()"
   ]
  },
  {
   "cell_type": "code",
   "execution_count": 132,
   "metadata": {},
   "outputs": [],
   "source": [
    "#Concat the test_LoanID and pred_test:\n",
    "Sub_HGB = pd.concat([test_LoanID,pd.Series(pred_test_HGB)],axis=1)"
   ]
  },
  {
   "cell_type": "code",
   "execution_count": 133,
   "metadata": {},
   "outputs": [
    {
     "data": {
      "text/html": [
       "<div>\n",
       "<style scoped>\n",
       "    .dataframe tbody tr th:only-of-type {\n",
       "        vertical-align: middle;\n",
       "    }\n",
       "\n",
       "    .dataframe tbody tr th {\n",
       "        vertical-align: top;\n",
       "    }\n",
       "\n",
       "    .dataframe thead th {\n",
       "        text-align: right;\n",
       "    }\n",
       "</style>\n",
       "<table border=\"1\" class=\"dataframe\">\n",
       "  <thead>\n",
       "    <tr style=\"text-align: right;\">\n",
       "      <th></th>\n",
       "      <th>Loan_ID</th>\n",
       "      <th>0</th>\n",
       "    </tr>\n",
       "  </thead>\n",
       "  <tbody>\n",
       "    <tr>\n",
       "      <th>0</th>\n",
       "      <td>LP001015</td>\n",
       "      <td>Y</td>\n",
       "    </tr>\n",
       "    <tr>\n",
       "      <th>1</th>\n",
       "      <td>LP001022</td>\n",
       "      <td>Y</td>\n",
       "    </tr>\n",
       "    <tr>\n",
       "      <th>2</th>\n",
       "      <td>LP001031</td>\n",
       "      <td>Y</td>\n",
       "    </tr>\n",
       "    <tr>\n",
       "      <th>3</th>\n",
       "      <td>LP001035</td>\n",
       "      <td>Y</td>\n",
       "    </tr>\n",
       "    <tr>\n",
       "      <th>4</th>\n",
       "      <td>LP001051</td>\n",
       "      <td>N</td>\n",
       "    </tr>\n",
       "  </tbody>\n",
       "</table>\n",
       "</div>"
      ],
      "text/plain": [
       "    Loan_ID  0\n",
       "0  LP001015  Y\n",
       "1  LP001022  Y\n",
       "2  LP001031  Y\n",
       "3  LP001035  Y\n",
       "4  LP001051  N"
      ]
     },
     "execution_count": 133,
     "metadata": {},
     "output_type": "execute_result"
    }
   ],
   "source": [
    "Sub_HGB.head()"
   ]
  },
  {
   "cell_type": "code",
   "execution_count": 134,
   "metadata": {},
   "outputs": [],
   "source": [
    "Sub_HGB.rename(columns={0:\"Loan_Status\"},inplace=True)"
   ]
  },
  {
   "cell_type": "code",
   "execution_count": 135,
   "metadata": {},
   "outputs": [
    {
     "data": {
      "text/html": [
       "<div>\n",
       "<style scoped>\n",
       "    .dataframe tbody tr th:only-of-type {\n",
       "        vertical-align: middle;\n",
       "    }\n",
       "\n",
       "    .dataframe tbody tr th {\n",
       "        vertical-align: top;\n",
       "    }\n",
       "\n",
       "    .dataframe thead th {\n",
       "        text-align: right;\n",
       "    }\n",
       "</style>\n",
       "<table border=\"1\" class=\"dataframe\">\n",
       "  <thead>\n",
       "    <tr style=\"text-align: right;\">\n",
       "      <th></th>\n",
       "      <th>Loan_ID</th>\n",
       "      <th>Loan_Status</th>\n",
       "    </tr>\n",
       "  </thead>\n",
       "  <tbody>\n",
       "    <tr>\n",
       "      <th>0</th>\n",
       "      <td>LP001015</td>\n",
       "      <td>Y</td>\n",
       "    </tr>\n",
       "    <tr>\n",
       "      <th>1</th>\n",
       "      <td>LP001022</td>\n",
       "      <td>Y</td>\n",
       "    </tr>\n",
       "    <tr>\n",
       "      <th>2</th>\n",
       "      <td>LP001031</td>\n",
       "      <td>Y</td>\n",
       "    </tr>\n",
       "    <tr>\n",
       "      <th>3</th>\n",
       "      <td>LP001035</td>\n",
       "      <td>Y</td>\n",
       "    </tr>\n",
       "    <tr>\n",
       "      <th>4</th>\n",
       "      <td>LP001051</td>\n",
       "      <td>N</td>\n",
       "    </tr>\n",
       "  </tbody>\n",
       "</table>\n",
       "</div>"
      ],
      "text/plain": [
       "    Loan_ID Loan_Status\n",
       "0  LP001015           Y\n",
       "1  LP001022           Y\n",
       "2  LP001031           Y\n",
       "3  LP001035           Y\n",
       "4  LP001051           N"
      ]
     },
     "execution_count": 135,
     "metadata": {},
     "output_type": "execute_result"
    }
   ],
   "source": [
    "Sub_HGB.head()"
   ]
  },
  {
   "cell_type": "code",
   "execution_count": 136,
   "metadata": {},
   "outputs": [],
   "source": [
    "Sub_HGB.to_csv(\"7.Sub_HGB.csv\",index=False)"
   ]
  },
  {
   "cell_type": "code",
   "execution_count": 137,
   "metadata": {},
   "outputs": [],
   "source": [
    "#Result on Portal:\n",
    "#Your score for this submission is : 0.7361111111111112."
   ]
  },
  {
   "cell_type": "markdown",
   "metadata": {},
   "source": [
    "# 8. Adaboost Classifier"
   ]
  },
  {
   "cell_type": "code",
   "execution_count": 138,
   "metadata": {},
   "outputs": [
    {
     "name": "stderr",
     "output_type": "stream",
     "text": [
      "C:\\Users\\HARIOHM\\anaconda3\\lib\\site-packages\\sklearn\\utils\\validation.py:73: DataConversionWarning: A column-vector y was passed when a 1d array was expected. Please change the shape of y to (n_samples, ), for example using ravel().\n",
      "  return f(**kwargs)\n"
     ]
    }
   ],
   "source": [
    "#Adaboost Classifier:\n",
    "from sklearn.ensemble import AdaBoostClassifier\n",
    "AD = AdaBoostClassifier()\n",
    "#Build Model:\n",
    "AD = AD.fit(X_train,y_train)"
   ]
  },
  {
   "cell_type": "code",
   "execution_count": 139,
   "metadata": {},
   "outputs": [],
   "source": [
    "#Predict on X_train itself to verify with the actual result:\n",
    "pred_X_train_AD = AD.predict(X_train)"
   ]
  },
  {
   "cell_type": "code",
   "execution_count": 140,
   "metadata": {},
   "outputs": [],
   "source": [
    "#Predict on Validation Data which is (X_test) and actual_test data:\n",
    "pred_X_test_AD = AD.predict(X_test)\n",
    "pred_test_AD = AD.predict(test_final)"
   ]
  },
  {
   "cell_type": "code",
   "execution_count": 141,
   "metadata": {},
   "outputs": [
    {
     "name": "stdout",
     "output_type": "stream",
     "text": [
      "--------------------------Result on Train Data-----------\n",
      "              precision    recall  f1-score   support\n",
      "\n",
      "           N       0.57      0.92      0.70        89\n",
      "           Y       0.98      0.85      0.91       402\n",
      "\n",
      "    accuracy                           0.86       491\n",
      "   macro avg       0.77      0.88      0.81       491\n",
      "weighted avg       0.91      0.86      0.87       491\n",
      "\n",
      "--------------------------Result on Validation Data------\n",
      "              precision    recall  f1-score   support\n",
      "\n",
      "           N       0.48      0.77      0.59        30\n",
      "           Y       0.91      0.73      0.81        93\n",
      "\n",
      "    accuracy                           0.74       123\n",
      "   macro avg       0.69      0.75      0.70       123\n",
      "weighted avg       0.80      0.74      0.76       123\n",
      "\n"
     ]
    }
   ],
   "source": [
    "#Check the Metrics on X_train using which model was built:\n",
    "from sklearn.metrics import classification_report,accuracy_score\n",
    "result_X_train_AD = classification_report(pred_X_train_AD,y_train)\n",
    "result_X_test_AD = classification_report(pred_X_test_AD,y_test)\n",
    "print(\"--------------------------Result on Train Data-----------\")\n",
    "print(result_X_train_AD)\n",
    "print(\"--------------------------Result on Validation Data------\")\n",
    "print(result_X_test_AD)\n",
    "#classification_report()"
   ]
  },
  {
   "cell_type": "code",
   "execution_count": 142,
   "metadata": {},
   "outputs": [],
   "source": [
    "#Concat the test_LoanID and pred_test_AD:\n",
    "Sub_AD = pd.concat([test_LoanID,pd.Series(pred_test_AD)],axis=1)"
   ]
  },
  {
   "cell_type": "code",
   "execution_count": 143,
   "metadata": {},
   "outputs": [
    {
     "data": {
      "text/html": [
       "<div>\n",
       "<style scoped>\n",
       "    .dataframe tbody tr th:only-of-type {\n",
       "        vertical-align: middle;\n",
       "    }\n",
       "\n",
       "    .dataframe tbody tr th {\n",
       "        vertical-align: top;\n",
       "    }\n",
       "\n",
       "    .dataframe thead th {\n",
       "        text-align: right;\n",
       "    }\n",
       "</style>\n",
       "<table border=\"1\" class=\"dataframe\">\n",
       "  <thead>\n",
       "    <tr style=\"text-align: right;\">\n",
       "      <th></th>\n",
       "      <th>Loan_ID</th>\n",
       "      <th>0</th>\n",
       "    </tr>\n",
       "  </thead>\n",
       "  <tbody>\n",
       "    <tr>\n",
       "      <th>0</th>\n",
       "      <td>LP001015</td>\n",
       "      <td>Y</td>\n",
       "    </tr>\n",
       "    <tr>\n",
       "      <th>1</th>\n",
       "      <td>LP001022</td>\n",
       "      <td>Y</td>\n",
       "    </tr>\n",
       "    <tr>\n",
       "      <th>2</th>\n",
       "      <td>LP001031</td>\n",
       "      <td>Y</td>\n",
       "    </tr>\n",
       "    <tr>\n",
       "      <th>3</th>\n",
       "      <td>LP001035</td>\n",
       "      <td>Y</td>\n",
       "    </tr>\n",
       "    <tr>\n",
       "      <th>4</th>\n",
       "      <td>LP001051</td>\n",
       "      <td>N</td>\n",
       "    </tr>\n",
       "  </tbody>\n",
       "</table>\n",
       "</div>"
      ],
      "text/plain": [
       "    Loan_ID  0\n",
       "0  LP001015  Y\n",
       "1  LP001022  Y\n",
       "2  LP001031  Y\n",
       "3  LP001035  Y\n",
       "4  LP001051  N"
      ]
     },
     "execution_count": 143,
     "metadata": {},
     "output_type": "execute_result"
    }
   ],
   "source": [
    "Sub_AD.head()"
   ]
  },
  {
   "cell_type": "code",
   "execution_count": 144,
   "metadata": {},
   "outputs": [],
   "source": [
    "Sub_AD.rename(columns = {0:\"Loan_Status\"},inplace=True)"
   ]
  },
  {
   "cell_type": "code",
   "execution_count": 145,
   "metadata": {},
   "outputs": [
    {
     "data": {
      "text/html": [
       "<div>\n",
       "<style scoped>\n",
       "    .dataframe tbody tr th:only-of-type {\n",
       "        vertical-align: middle;\n",
       "    }\n",
       "\n",
       "    .dataframe tbody tr th {\n",
       "        vertical-align: top;\n",
       "    }\n",
       "\n",
       "    .dataframe thead th {\n",
       "        text-align: right;\n",
       "    }\n",
       "</style>\n",
       "<table border=\"1\" class=\"dataframe\">\n",
       "  <thead>\n",
       "    <tr style=\"text-align: right;\">\n",
       "      <th></th>\n",
       "      <th>Loan_ID</th>\n",
       "      <th>Loan_Status</th>\n",
       "    </tr>\n",
       "  </thead>\n",
       "  <tbody>\n",
       "    <tr>\n",
       "      <th>0</th>\n",
       "      <td>LP001015</td>\n",
       "      <td>Y</td>\n",
       "    </tr>\n",
       "    <tr>\n",
       "      <th>1</th>\n",
       "      <td>LP001022</td>\n",
       "      <td>Y</td>\n",
       "    </tr>\n",
       "    <tr>\n",
       "      <th>2</th>\n",
       "      <td>LP001031</td>\n",
       "      <td>Y</td>\n",
       "    </tr>\n",
       "    <tr>\n",
       "      <th>3</th>\n",
       "      <td>LP001035</td>\n",
       "      <td>Y</td>\n",
       "    </tr>\n",
       "    <tr>\n",
       "      <th>4</th>\n",
       "      <td>LP001051</td>\n",
       "      <td>N</td>\n",
       "    </tr>\n",
       "  </tbody>\n",
       "</table>\n",
       "</div>"
      ],
      "text/plain": [
       "    Loan_ID Loan_Status\n",
       "0  LP001015           Y\n",
       "1  LP001022           Y\n",
       "2  LP001031           Y\n",
       "3  LP001035           Y\n",
       "4  LP001051           N"
      ]
     },
     "execution_count": 145,
     "metadata": {},
     "output_type": "execute_result"
    }
   ],
   "source": [
    "Sub_AD.head()"
   ]
  },
  {
   "cell_type": "code",
   "execution_count": 146,
   "metadata": {},
   "outputs": [],
   "source": [
    "Sub_AD.to_csv(\"8.Sub_AD.csv\",index=False)"
   ]
  },
  {
   "cell_type": "code",
   "execution_count": 147,
   "metadata": {},
   "outputs": [],
   "source": [
    "##Result on Portal:\n",
    "#Your score for this submission is : 0.7569444444444444."
   ]
  },
  {
   "cell_type": "markdown",
   "metadata": {},
   "source": [
    "# 9. Support Vector machine."
   ]
  },
  {
   "cell_type": "code",
   "execution_count": 148,
   "metadata": {},
   "outputs": [
    {
     "name": "stderr",
     "output_type": "stream",
     "text": [
      "C:\\Users\\HARIOHM\\anaconda3\\lib\\site-packages\\sklearn\\utils\\validation.py:73: DataConversionWarning: A column-vector y was passed when a 1d array was expected. Please change the shape of y to (n_samples, ), for example using ravel().\n",
      "  return f(**kwargs)\n"
     ]
    },
    {
     "data": {
      "text/plain": [
       "SVC()"
      ]
     },
     "execution_count": 148,
     "metadata": {},
     "output_type": "execute_result"
    }
   ],
   "source": [
    "from sklearn.svm import SVC\n",
    "#import \"LinearSVC \"\n",
    "SVC = SVC()\n",
    "#Model Building:\n",
    "SVC.fit(X_train,y_train)"
   ]
  },
  {
   "cell_type": "code",
   "execution_count": 149,
   "metadata": {},
   "outputs": [],
   "source": [
    "#Predict on X_train itself to verify with the actual result:\n",
    "pred_X_train_SVC = SVC.predict(X_train)"
   ]
  },
  {
   "cell_type": "code",
   "execution_count": 150,
   "metadata": {},
   "outputs": [],
   "source": [
    "#Predict on Validation Data which is (X_test) and actual_test data:\n",
    "pred_X_test_SVC = SVC.predict(X_test)\n",
    "pred_test_SVC = SVC.predict(test_final)"
   ]
  },
  {
   "cell_type": "code",
   "execution_count": 151,
   "metadata": {},
   "outputs": [
    {
     "name": "stdout",
     "output_type": "stream",
     "text": [
      "--------------------------Result on Train Data-----------\n",
      "              precision    recall  f1-score   support\n",
      "\n",
      "           N       0.45      0.96      0.61        68\n",
      "           Y       0.99      0.81      0.89       423\n",
      "\n",
      "    accuracy                           0.83       491\n",
      "   macro avg       0.72      0.88      0.75       491\n",
      "weighted avg       0.92      0.83      0.85       491\n",
      "\n",
      "--------------------------Result on Validation Data------\n",
      "              precision    recall  f1-score   support\n",
      "\n",
      "           N       0.38      0.90      0.53        20\n",
      "           Y       0.97      0.71      0.82       103\n",
      "\n",
      "    accuracy                           0.74       123\n",
      "   macro avg       0.67      0.80      0.67       123\n",
      "weighted avg       0.88      0.74      0.77       123\n",
      "\n"
     ]
    }
   ],
   "source": [
    "#Check the Metrics on X_train using which model was built:\n",
    "from sklearn.metrics import classification_report,accuracy_score\n",
    "result_X_train_SVC = classification_report(pred_X_train_SVC,y_train)\n",
    "result_X_test_SVC = classification_report(pred_X_test_SVC,y_test)\n",
    "print(\"--------------------------Result on Train Data-----------\")\n",
    "print(result_X_train_SVC)\n",
    "print(\"--------------------------Result on Validation Data------\")\n",
    "print(result_X_test_SVC)\n",
    "#classification_report()"
   ]
  },
  {
   "cell_type": "code",
   "execution_count": 152,
   "metadata": {},
   "outputs": [],
   "source": [
    "#Concat the test_LoanID and pred_test_SVC:\n",
    "Sub_SVC = pd.concat([test_LoanID,pd.Series(pred_test_SVC)],axis=1)"
   ]
  },
  {
   "cell_type": "code",
   "execution_count": 153,
   "metadata": {},
   "outputs": [
    {
     "data": {
      "text/html": [
       "<div>\n",
       "<style scoped>\n",
       "    .dataframe tbody tr th:only-of-type {\n",
       "        vertical-align: middle;\n",
       "    }\n",
       "\n",
       "    .dataframe tbody tr th {\n",
       "        vertical-align: top;\n",
       "    }\n",
       "\n",
       "    .dataframe thead th {\n",
       "        text-align: right;\n",
       "    }\n",
       "</style>\n",
       "<table border=\"1\" class=\"dataframe\">\n",
       "  <thead>\n",
       "    <tr style=\"text-align: right;\">\n",
       "      <th></th>\n",
       "      <th>Loan_ID</th>\n",
       "      <th>0</th>\n",
       "    </tr>\n",
       "  </thead>\n",
       "  <tbody>\n",
       "    <tr>\n",
       "      <th>0</th>\n",
       "      <td>LP001015</td>\n",
       "      <td>Y</td>\n",
       "    </tr>\n",
       "    <tr>\n",
       "      <th>1</th>\n",
       "      <td>LP001022</td>\n",
       "      <td>Y</td>\n",
       "    </tr>\n",
       "    <tr>\n",
       "      <th>2</th>\n",
       "      <td>LP001031</td>\n",
       "      <td>Y</td>\n",
       "    </tr>\n",
       "    <tr>\n",
       "      <th>3</th>\n",
       "      <td>LP001035</td>\n",
       "      <td>Y</td>\n",
       "    </tr>\n",
       "    <tr>\n",
       "      <th>4</th>\n",
       "      <td>LP001051</td>\n",
       "      <td>Y</td>\n",
       "    </tr>\n",
       "  </tbody>\n",
       "</table>\n",
       "</div>"
      ],
      "text/plain": [
       "    Loan_ID  0\n",
       "0  LP001015  Y\n",
       "1  LP001022  Y\n",
       "2  LP001031  Y\n",
       "3  LP001035  Y\n",
       "4  LP001051  Y"
      ]
     },
     "execution_count": 153,
     "metadata": {},
     "output_type": "execute_result"
    }
   ],
   "source": [
    "Sub_SVC.head()"
   ]
  },
  {
   "cell_type": "code",
   "execution_count": 154,
   "metadata": {},
   "outputs": [],
   "source": [
    "Sub_SVC.rename( columns = {0:\"Loan_Status\"},inplace=True)"
   ]
  },
  {
   "cell_type": "code",
   "execution_count": 155,
   "metadata": {},
   "outputs": [
    {
     "data": {
      "text/html": [
       "<div>\n",
       "<style scoped>\n",
       "    .dataframe tbody tr th:only-of-type {\n",
       "        vertical-align: middle;\n",
       "    }\n",
       "\n",
       "    .dataframe tbody tr th {\n",
       "        vertical-align: top;\n",
       "    }\n",
       "\n",
       "    .dataframe thead th {\n",
       "        text-align: right;\n",
       "    }\n",
       "</style>\n",
       "<table border=\"1\" class=\"dataframe\">\n",
       "  <thead>\n",
       "    <tr style=\"text-align: right;\">\n",
       "      <th></th>\n",
       "      <th>Loan_ID</th>\n",
       "      <th>Loan_Status</th>\n",
       "    </tr>\n",
       "  </thead>\n",
       "  <tbody>\n",
       "    <tr>\n",
       "      <th>0</th>\n",
       "      <td>LP001015</td>\n",
       "      <td>Y</td>\n",
       "    </tr>\n",
       "    <tr>\n",
       "      <th>1</th>\n",
       "      <td>LP001022</td>\n",
       "      <td>Y</td>\n",
       "    </tr>\n",
       "    <tr>\n",
       "      <th>2</th>\n",
       "      <td>LP001031</td>\n",
       "      <td>Y</td>\n",
       "    </tr>\n",
       "    <tr>\n",
       "      <th>3</th>\n",
       "      <td>LP001035</td>\n",
       "      <td>Y</td>\n",
       "    </tr>\n",
       "    <tr>\n",
       "      <th>4</th>\n",
       "      <td>LP001051</td>\n",
       "      <td>Y</td>\n",
       "    </tr>\n",
       "  </tbody>\n",
       "</table>\n",
       "</div>"
      ],
      "text/plain": [
       "    Loan_ID Loan_Status\n",
       "0  LP001015           Y\n",
       "1  LP001022           Y\n",
       "2  LP001031           Y\n",
       "3  LP001035           Y\n",
       "4  LP001051           Y"
      ]
     },
     "execution_count": 155,
     "metadata": {},
     "output_type": "execute_result"
    }
   ],
   "source": [
    "Sub_SVC.head()"
   ]
  },
  {
   "cell_type": "code",
   "execution_count": 156,
   "metadata": {},
   "outputs": [],
   "source": [
    "Sub_SVC.to_csv(\"9.Sub_SVC.csv\",index=False)"
   ]
  },
  {
   "cell_type": "code",
   "execution_count": 157,
   "metadata": {},
   "outputs": [],
   "source": [
    "#Portal Result:\n",
    "#Your score for this submission is : 0.7708333333333334."
   ]
  },
  {
   "cell_type": "markdown",
   "metadata": {},
   "source": [
    "# 10.XGBoost Classifier:"
   ]
  },
  {
   "cell_type": "code",
   "execution_count": 158,
   "metadata": {},
   "outputs": [
    {
     "name": "stdout",
     "output_type": "stream",
     "text": [
      "1.2.0\n"
     ]
    }
   ],
   "source": [
    "# check xgboost version\n",
    "import xgboost\n",
    "print(xgboost.__version__)\n",
    "#Note: If it is not installed then install using below command:\n",
    "#sudo pip install xgboost"
   ]
  },
  {
   "cell_type": "code",
   "execution_count": 159,
   "metadata": {},
   "outputs": [
    {
     "name": "stderr",
     "output_type": "stream",
     "text": [
      "C:\\Users\\HARIOHM\\anaconda3\\lib\\site-packages\\sklearn\\utils\\validation.py:73: DataConversionWarning: A column-vector y was passed when a 1d array was expected. Please change the shape of y to (n_samples, ), for example using ravel().\n",
      "  return f(**kwargs)\n"
     ]
    },
    {
     "data": {
      "text/plain": [
       "XGBClassifier(base_score=0.5, booster='gbtree', colsample_bylevel=1,\n",
       "              colsample_bynode=1, colsample_bytree=1, gamma=0, gpu_id=-1,\n",
       "              importance_type='gain', interaction_constraints='',\n",
       "              learning_rate=0.300000012, max_delta_step=0, max_depth=6,\n",
       "              min_child_weight=1, missing=nan, monotone_constraints='()',\n",
       "              n_estimators=100, n_jobs=0, num_parallel_tree=1, random_state=0,\n",
       "              reg_alpha=0, reg_lambda=1, scale_pos_weight=1, subsample=1,\n",
       "              tree_method='exact', validate_parameters=1, verbosity=None)"
      ]
     },
     "execution_count": 159,
     "metadata": {},
     "output_type": "execute_result"
    }
   ],
   "source": [
    "#Xgboost Classifier:\n",
    "import xgboost\n",
    "from xgboost import XGBClassifier\n",
    "XGB = XGBClassifier()\n",
    "#Build the Model:\n",
    "XGB.fit(X_train,y_train)"
   ]
  },
  {
   "cell_type": "code",
   "execution_count": 160,
   "metadata": {},
   "outputs": [],
   "source": [
    "#Predict on X_train itself to verify with the actual result:\n",
    "pred_X_train_XGB = XGB.predict(X_train)"
   ]
  },
  {
   "cell_type": "code",
   "execution_count": 161,
   "metadata": {},
   "outputs": [],
   "source": [
    "#Predict on Validation Data which is (X_test) and actual_test data:\n",
    "pred_X_test_XGB = XGB.predict(X_test)\n",
    "pred_test_XGB = XGB.predict(test_final)"
   ]
  },
  {
   "cell_type": "code",
   "execution_count": 162,
   "metadata": {},
   "outputs": [
    {
     "name": "stdout",
     "output_type": "stream",
     "text": [
      "--------------------------Result on Train Data-----------\n",
      "              precision    recall  f1-score   support\n",
      "\n",
      "           N       1.00      1.00      1.00       144\n",
      "           Y       1.00      1.00      1.00       347\n",
      "\n",
      "    accuracy                           1.00       491\n",
      "   macro avg       1.00      1.00      1.00       491\n",
      "weighted avg       1.00      1.00      1.00       491\n",
      "\n",
      "--------------------------Result on Validation Data------\n",
      "              precision    recall  f1-score   support\n",
      "\n",
      "           N       0.48      0.66      0.55        35\n",
      "           Y       0.84      0.72      0.77        88\n",
      "\n",
      "    accuracy                           0.70       123\n",
      "   macro avg       0.66      0.69      0.66       123\n",
      "weighted avg       0.74      0.70      0.71       123\n",
      "\n"
     ]
    }
   ],
   "source": [
    "#Check the Metrics on X_train using which model was built:\n",
    "from sklearn.metrics import classification_report,accuracy_score\n",
    "result_X_train_XGB = classification_report(pred_X_train_XGB,y_train)\n",
    "result_X_test_XGB = classification_report(pred_X_test_XGB,y_test)\n",
    "print(\"--------------------------Result on Train Data-----------\")\n",
    "print(result_X_train_XGB)\n",
    "print(\"--------------------------Result on Validation Data------\")\n",
    "print(result_X_test_XGB)\n",
    "#classification_report()"
   ]
  },
  {
   "cell_type": "code",
   "execution_count": 163,
   "metadata": {},
   "outputs": [],
   "source": [
    "#Concat the test_LoanID and pred_test_SVC:\n",
    "Sub_XGB = pd.concat([test_LoanID,pd.Series(pred_test_XGB)],axis=1)"
   ]
  },
  {
   "cell_type": "code",
   "execution_count": 164,
   "metadata": {},
   "outputs": [
    {
     "data": {
      "text/html": [
       "<div>\n",
       "<style scoped>\n",
       "    .dataframe tbody tr th:only-of-type {\n",
       "        vertical-align: middle;\n",
       "    }\n",
       "\n",
       "    .dataframe tbody tr th {\n",
       "        vertical-align: top;\n",
       "    }\n",
       "\n",
       "    .dataframe thead th {\n",
       "        text-align: right;\n",
       "    }\n",
       "</style>\n",
       "<table border=\"1\" class=\"dataframe\">\n",
       "  <thead>\n",
       "    <tr style=\"text-align: right;\">\n",
       "      <th></th>\n",
       "      <th>Loan_ID</th>\n",
       "      <th>0</th>\n",
       "    </tr>\n",
       "  </thead>\n",
       "  <tbody>\n",
       "    <tr>\n",
       "      <th>0</th>\n",
       "      <td>LP001015</td>\n",
       "      <td>Y</td>\n",
       "    </tr>\n",
       "    <tr>\n",
       "      <th>1</th>\n",
       "      <td>LP001022</td>\n",
       "      <td>Y</td>\n",
       "    </tr>\n",
       "    <tr>\n",
       "      <th>2</th>\n",
       "      <td>LP001031</td>\n",
       "      <td>Y</td>\n",
       "    </tr>\n",
       "    <tr>\n",
       "      <th>3</th>\n",
       "      <td>LP001035</td>\n",
       "      <td>Y</td>\n",
       "    </tr>\n",
       "    <tr>\n",
       "      <th>4</th>\n",
       "      <td>LP001051</td>\n",
       "      <td>N</td>\n",
       "    </tr>\n",
       "  </tbody>\n",
       "</table>\n",
       "</div>"
      ],
      "text/plain": [
       "    Loan_ID  0\n",
       "0  LP001015  Y\n",
       "1  LP001022  Y\n",
       "2  LP001031  Y\n",
       "3  LP001035  Y\n",
       "4  LP001051  N"
      ]
     },
     "execution_count": 164,
     "metadata": {},
     "output_type": "execute_result"
    }
   ],
   "source": [
    "Sub_XGB.head()"
   ]
  },
  {
   "cell_type": "code",
   "execution_count": 165,
   "metadata": {},
   "outputs": [],
   "source": [
    "Sub_XGB.rename(columns={0:\"Loan_Status\"},inplace=True)"
   ]
  },
  {
   "cell_type": "code",
   "execution_count": 166,
   "metadata": {},
   "outputs": [],
   "source": [
    "Sub_XGB.to_csv(\"10.Sub_XGB.csv\",index=False)"
   ]
  },
  {
   "cell_type": "code",
   "execution_count": 167,
   "metadata": {},
   "outputs": [],
   "source": [
    "#Result on Portal:\n",
    "#Your score for this submission is : 0.7083333333333334."
   ]
  },
  {
   "cell_type": "markdown",
   "metadata": {},
   "source": [
    "# 11.LightGBM"
   ]
  },
  {
   "cell_type": "code",
   "execution_count": 168,
   "metadata": {},
   "outputs": [],
   "source": [
    "#install the LightGBM:\n",
    "#!pip install lightgbm\n",
    "#sudo pip install lightgbm"
   ]
  },
  {
   "cell_type": "code",
   "execution_count": 169,
   "metadata": {},
   "outputs": [
    {
     "name": "stdout",
     "output_type": "stream",
     "text": [
      "3.0.0\n"
     ]
    }
   ],
   "source": [
    "#import LightGradient Boosting Machine:\n",
    "import lightgbm\n",
    "print(lightgbm.__version__)"
   ]
  },
  {
   "cell_type": "code",
   "execution_count": 170,
   "metadata": {},
   "outputs": [
    {
     "name": "stderr",
     "output_type": "stream",
     "text": [
      "C:\\Users\\HARIOHM\\anaconda3\\lib\\site-packages\\sklearn\\utils\\validation.py:73: DataConversionWarning: A column-vector y was passed when a 1d array was expected. Please change the shape of y to (n_samples, ), for example using ravel().\n",
      "  return f(**kwargs)\n"
     ]
    },
    {
     "data": {
      "text/plain": [
       "LGBMClassifier()"
      ]
     },
     "execution_count": 170,
     "metadata": {},
     "output_type": "execute_result"
    }
   ],
   "source": [
    "from lightgbm import LGBMClassifier\n",
    "LGBM= LGBMClassifier()\n",
    "#Building the Model:\n",
    "LGBM.fit(X_train,y_train)"
   ]
  },
  {
   "cell_type": "code",
   "execution_count": 171,
   "metadata": {},
   "outputs": [],
   "source": [
    "#Predict on X_train itself to verify with the actual result:\n",
    "pred_X_train_LGBM = LGBM.predict(X_train)"
   ]
  },
  {
   "cell_type": "code",
   "execution_count": 172,
   "metadata": {},
   "outputs": [],
   "source": [
    "#Predict on Validation Data which is (X_test) and actual_test data:\n",
    "pred_X_test_LGBM = LGBM.predict(X_test)\n",
    "pred_test_LGBM = LGBM.predict(test_final)"
   ]
  },
  {
   "cell_type": "code",
   "execution_count": 173,
   "metadata": {},
   "outputs": [
    {
     "name": "stdout",
     "output_type": "stream",
     "text": [
      "--------------------------Result on Train Data for LGBM:-----------\n",
      "              precision    recall  f1-score   support\n",
      "\n",
      "           N       0.98      1.00      0.99       141\n",
      "           Y       1.00      0.99      1.00       350\n",
      "\n",
      "    accuracy                           0.99       491\n",
      "   macro avg       0.99      1.00      0.99       491\n",
      "weighted avg       0.99      0.99      0.99       491\n",
      "\n",
      "--------------------------Result on Validation Data LGBM:------\n",
      "              precision    recall  f1-score   support\n",
      "\n",
      "           N       0.46      0.71      0.56        31\n",
      "           Y       0.88      0.72      0.79        92\n",
      "\n",
      "    accuracy                           0.72       123\n",
      "   macro avg       0.67      0.71      0.67       123\n",
      "weighted avg       0.77      0.72      0.73       123\n",
      "\n"
     ]
    }
   ],
   "source": [
    "#Check the Metrics on X_train using which model was built:\n",
    "from sklearn.metrics import classification_report,accuracy_score\n",
    "result_X_train_LGBM = classification_report(pred_X_train_LGBM,y_train)\n",
    "result_X_test_LGBM = classification_report(pred_X_test_LGBM,y_test)\n",
    "print(\"--------------------------Result on Train Data for LGBM:-----------\")\n",
    "print(result_X_train_LGBM)\n",
    "print(\"--------------------------Result on Validation Data LGBM:------\")\n",
    "print(result_X_test_LGBM)\n",
    "#classification_report()"
   ]
  },
  {
   "cell_type": "code",
   "execution_count": 174,
   "metadata": {},
   "outputs": [],
   "source": [
    "#Concat the test_LoanID and pred_test_SVC:\n",
    "Sub_LGBM = pd.concat([test_LoanID,pd.Series(pred_test_LGBM)],axis=1)"
   ]
  },
  {
   "cell_type": "code",
   "execution_count": 175,
   "metadata": {},
   "outputs": [
    {
     "data": {
      "text/html": [
       "<div>\n",
       "<style scoped>\n",
       "    .dataframe tbody tr th:only-of-type {\n",
       "        vertical-align: middle;\n",
       "    }\n",
       "\n",
       "    .dataframe tbody tr th {\n",
       "        vertical-align: top;\n",
       "    }\n",
       "\n",
       "    .dataframe thead th {\n",
       "        text-align: right;\n",
       "    }\n",
       "</style>\n",
       "<table border=\"1\" class=\"dataframe\">\n",
       "  <thead>\n",
       "    <tr style=\"text-align: right;\">\n",
       "      <th></th>\n",
       "      <th>Loan_ID</th>\n",
       "      <th>0</th>\n",
       "    </tr>\n",
       "  </thead>\n",
       "  <tbody>\n",
       "    <tr>\n",
       "      <th>0</th>\n",
       "      <td>LP001015</td>\n",
       "      <td>Y</td>\n",
       "    </tr>\n",
       "    <tr>\n",
       "      <th>1</th>\n",
       "      <td>LP001022</td>\n",
       "      <td>Y</td>\n",
       "    </tr>\n",
       "    <tr>\n",
       "      <th>2</th>\n",
       "      <td>LP001031</td>\n",
       "      <td>Y</td>\n",
       "    </tr>\n",
       "    <tr>\n",
       "      <th>3</th>\n",
       "      <td>LP001035</td>\n",
       "      <td>Y</td>\n",
       "    </tr>\n",
       "    <tr>\n",
       "      <th>4</th>\n",
       "      <td>LP001051</td>\n",
       "      <td>N</td>\n",
       "    </tr>\n",
       "  </tbody>\n",
       "</table>\n",
       "</div>"
      ],
      "text/plain": [
       "    Loan_ID  0\n",
       "0  LP001015  Y\n",
       "1  LP001022  Y\n",
       "2  LP001031  Y\n",
       "3  LP001035  Y\n",
       "4  LP001051  N"
      ]
     },
     "execution_count": 175,
     "metadata": {},
     "output_type": "execute_result"
    }
   ],
   "source": [
    "Sub_LGBM.head()"
   ]
  },
  {
   "cell_type": "code",
   "execution_count": 176,
   "metadata": {},
   "outputs": [],
   "source": [
    "Sub_LGBM.rename(columns={0:\"Loan_Status\"},inplace=True)"
   ]
  },
  {
   "cell_type": "code",
   "execution_count": 177,
   "metadata": {},
   "outputs": [
    {
     "data": {
      "text/html": [
       "<div>\n",
       "<style scoped>\n",
       "    .dataframe tbody tr th:only-of-type {\n",
       "        vertical-align: middle;\n",
       "    }\n",
       "\n",
       "    .dataframe tbody tr th {\n",
       "        vertical-align: top;\n",
       "    }\n",
       "\n",
       "    .dataframe thead th {\n",
       "        text-align: right;\n",
       "    }\n",
       "</style>\n",
       "<table border=\"1\" class=\"dataframe\">\n",
       "  <thead>\n",
       "    <tr style=\"text-align: right;\">\n",
       "      <th></th>\n",
       "      <th>Loan_ID</th>\n",
       "      <th>Loan_Status</th>\n",
       "    </tr>\n",
       "  </thead>\n",
       "  <tbody>\n",
       "    <tr>\n",
       "      <th>0</th>\n",
       "      <td>LP001015</td>\n",
       "      <td>Y</td>\n",
       "    </tr>\n",
       "    <tr>\n",
       "      <th>1</th>\n",
       "      <td>LP001022</td>\n",
       "      <td>Y</td>\n",
       "    </tr>\n",
       "    <tr>\n",
       "      <th>2</th>\n",
       "      <td>LP001031</td>\n",
       "      <td>Y</td>\n",
       "    </tr>\n",
       "    <tr>\n",
       "      <th>3</th>\n",
       "      <td>LP001035</td>\n",
       "      <td>Y</td>\n",
       "    </tr>\n",
       "    <tr>\n",
       "      <th>4</th>\n",
       "      <td>LP001051</td>\n",
       "      <td>N</td>\n",
       "    </tr>\n",
       "  </tbody>\n",
       "</table>\n",
       "</div>"
      ],
      "text/plain": [
       "    Loan_ID Loan_Status\n",
       "0  LP001015           Y\n",
       "1  LP001022           Y\n",
       "2  LP001031           Y\n",
       "3  LP001035           Y\n",
       "4  LP001051           N"
      ]
     },
     "execution_count": 177,
     "metadata": {},
     "output_type": "execute_result"
    }
   ],
   "source": [
    "Sub_LGBM.head()"
   ]
  },
  {
   "cell_type": "code",
   "execution_count": 178,
   "metadata": {},
   "outputs": [],
   "source": [
    "Sub_LGBM.to_csv(\"11.Sub_LGBM.csv\",index=False)"
   ]
  },
  {
   "cell_type": "code",
   "execution_count": 179,
   "metadata": {},
   "outputs": [],
   "source": [
    "#Result On Portal:\n",
    "#Your score for this submission is : 0.7291666666666666."
   ]
  },
  {
   "cell_type": "markdown",
   "metadata": {},
   "source": [
    "# 12.Gradient Boosting with CatBoost"
   ]
  },
  {
   "cell_type": "code",
   "execution_count": 180,
   "metadata": {},
   "outputs": [
    {
     "name": "stdout",
     "output_type": "stream",
     "text": [
      "Requirement already satisfied: catboost in c:\\users\\hariohm\\anaconda3\\lib\\site-packages (0.24.2)\n",
      "Requirement already satisfied: scipy in c:\\users\\hariohm\\anaconda3\\lib\\site-packages (from catboost) (1.5.2)\n",
      "Requirement already satisfied: matplotlib in c:\\users\\hariohm\\anaconda3\\lib\\site-packages (from catboost) (3.3.1)\n",
      "Requirement already satisfied: six in c:\\users\\hariohm\\anaconda3\\lib\\site-packages (from catboost) (1.15.0)\n",
      "Requirement already satisfied: plotly in c:\\users\\hariohm\\anaconda3\\lib\\site-packages (from catboost) (4.10.0)\n",
      "Requirement already satisfied: numpy>=1.16.0 in c:\\users\\hariohm\\anaconda3\\lib\\site-packages (from catboost) (1.19.1)\n",
      "Requirement already satisfied: graphviz in c:\\users\\hariohm\\anaconda3\\lib\\site-packages (from catboost) (0.14.2)\n",
      "Requirement already satisfied: pandas>=0.24.0 in c:\\users\\hariohm\\anaconda3\\lib\\site-packages (from catboost) (1.1.1)\n",
      "Requirement already satisfied: certifi>=2020.06.20 in c:\\users\\hariohm\\anaconda3\\lib\\site-packages (from matplotlib->catboost) (2020.6.20)\n",
      "Requirement already satisfied: pillow>=6.2.0 in c:\\users\\hariohm\\anaconda3\\lib\\site-packages (from matplotlib->catboost) (7.2.0)\n",
      "Requirement already satisfied: kiwisolver>=1.0.1 in c:\\users\\hariohm\\anaconda3\\lib\\site-packages (from matplotlib->catboost) (1.2.0)\n",
      "Requirement already satisfied: python-dateutil>=2.1 in c:\\users\\hariohm\\anaconda3\\lib\\site-packages (from matplotlib->catboost) (2.8.1)\n",
      "Requirement already satisfied: pyparsing!=2.0.4,!=2.1.2,!=2.1.6,>=2.0.3 in c:\\users\\hariohm\\anaconda3\\lib\\site-packages (from matplotlib->catboost) (2.4.7)\n",
      "Requirement already satisfied: cycler>=0.10 in c:\\users\\hariohm\\anaconda3\\lib\\site-packages (from matplotlib->catboost) (0.10.0)\n",
      "Requirement already satisfied: retrying>=1.3.3 in c:\\users\\hariohm\\anaconda3\\lib\\site-packages (from plotly->catboost) (1.3.3)\n",
      "Requirement already satisfied: pytz>=2017.2 in c:\\users\\hariohm\\anaconda3\\lib\\site-packages (from pandas>=0.24.0->catboost) (2020.1)\n"
     ]
    }
   ],
   "source": [
    "#It is also third party library:\n",
    "#Installing catboost:\n",
    "!pip install catboost\n",
    "#sudo pip install catboost"
   ]
  },
  {
   "cell_type": "code",
   "execution_count": 181,
   "metadata": {},
   "outputs": [
    {
     "name": "stdout",
     "output_type": "stream",
     "text": [
      "0.24.2\n"
     ]
    }
   ],
   "source": [
    "#Check the catboost version:\n",
    "import catboost\n",
    "print(catboost.__version__)"
   ]
  },
  {
   "cell_type": "code",
   "execution_count": 182,
   "metadata": {},
   "outputs": [
    {
     "name": "stdout",
     "output_type": "stream",
     "text": [
      "Learning rate set to 0.007604\n",
      "0:\tlearn: 0.6887108\ttotal: 142ms\tremaining: 2m 22s\n",
      "1:\tlearn: 0.6845518\ttotal: 145ms\tremaining: 1m 12s\n",
      "2:\tlearn: 0.6800442\ttotal: 150ms\tremaining: 49.8s\n",
      "3:\tlearn: 0.6759046\ttotal: 154ms\tremaining: 38.4s\n",
      "4:\tlearn: 0.6714794\ttotal: 159ms\tremaining: 31.7s\n",
      "5:\tlearn: 0.6669871\ttotal: 164ms\tremaining: 27.1s\n",
      "6:\tlearn: 0.6632021\ttotal: 166ms\tremaining: 23.6s\n",
      "7:\tlearn: 0.6593828\ttotal: 170ms\tremaining: 21.1s\n",
      "8:\tlearn: 0.6556969\ttotal: 175ms\tremaining: 19.3s\n",
      "9:\tlearn: 0.6516983\ttotal: 180ms\tremaining: 17.9s\n",
      "10:\tlearn: 0.6474973\ttotal: 186ms\tremaining: 16.8s\n",
      "11:\tlearn: 0.6434629\ttotal: 192ms\tremaining: 15.8s\n",
      "12:\tlearn: 0.6392878\ttotal: 196ms\tremaining: 14.9s\n",
      "13:\tlearn: 0.6354367\ttotal: 200ms\tremaining: 14.1s\n",
      "14:\tlearn: 0.6316951\ttotal: 206ms\tremaining: 13.5s\n",
      "15:\tlearn: 0.6280467\ttotal: 210ms\tremaining: 12.9s\n",
      "16:\tlearn: 0.6243173\ttotal: 215ms\tremaining: 12.4s\n",
      "17:\tlearn: 0.6205656\ttotal: 220ms\tremaining: 12s\n",
      "18:\tlearn: 0.6172526\ttotal: 224ms\tremaining: 11.6s\n",
      "19:\tlearn: 0.6138559\ttotal: 230ms\tremaining: 11.3s\n",
      "20:\tlearn: 0.6105337\ttotal: 234ms\tremaining: 10.9s\n",
      "21:\tlearn: 0.6072150\ttotal: 239ms\tremaining: 10.6s\n",
      "22:\tlearn: 0.6043486\ttotal: 243ms\tremaining: 10.3s\n",
      "23:\tlearn: 0.6012224\ttotal: 250ms\tremaining: 10.2s\n",
      "24:\tlearn: 0.5980852\ttotal: 263ms\tremaining: 10.2s\n",
      "25:\tlearn: 0.5950173\ttotal: 270ms\tremaining: 10.1s\n",
      "26:\tlearn: 0.5918911\ttotal: 278ms\tremaining: 10s\n",
      "27:\tlearn: 0.5885915\ttotal: 285ms\tremaining: 9.91s\n",
      "28:\tlearn: 0.5859919\ttotal: 289ms\tremaining: 9.68s\n",
      "29:\tlearn: 0.5823826\ttotal: 297ms\tremaining: 9.61s\n",
      "30:\tlearn: 0.5797209\ttotal: 309ms\tremaining: 9.65s\n",
      "31:\tlearn: 0.5772298\ttotal: 311ms\tremaining: 9.42s\n",
      "32:\tlearn: 0.5743935\ttotal: 315ms\tremaining: 9.22s\n",
      "33:\tlearn: 0.5720290\ttotal: 317ms\tremaining: 9.01s\n",
      "34:\tlearn: 0.5690107\ttotal: 320ms\tremaining: 8.83s\n",
      "35:\tlearn: 0.5666381\ttotal: 323ms\tremaining: 8.66s\n",
      "36:\tlearn: 0.5639193\ttotal: 328ms\tremaining: 8.53s\n",
      "37:\tlearn: 0.5613106\ttotal: 332ms\tremaining: 8.41s\n",
      "38:\tlearn: 0.5588376\ttotal: 338ms\tremaining: 8.33s\n",
      "39:\tlearn: 0.5565558\ttotal: 344ms\tremaining: 8.25s\n",
      "40:\tlearn: 0.5540036\ttotal: 347ms\tremaining: 8.12s\n",
      "41:\tlearn: 0.5518031\ttotal: 350ms\tremaining: 7.99s\n",
      "42:\tlearn: 0.5494094\ttotal: 353ms\tremaining: 7.86s\n",
      "43:\tlearn: 0.5473433\ttotal: 357ms\tremaining: 7.75s\n",
      "44:\tlearn: 0.5450723\ttotal: 360ms\tremaining: 7.64s\n",
      "45:\tlearn: 0.5428790\ttotal: 364ms\tremaining: 7.54s\n",
      "46:\tlearn: 0.5408375\ttotal: 368ms\tremaining: 7.45s\n",
      "47:\tlearn: 0.5386832\ttotal: 373ms\tremaining: 7.41s\n",
      "48:\tlearn: 0.5365089\ttotal: 380ms\tremaining: 7.38s\n",
      "49:\tlearn: 0.5339147\ttotal: 386ms\tremaining: 7.33s\n",
      "50:\tlearn: 0.5320090\ttotal: 389ms\tremaining: 7.24s\n",
      "51:\tlearn: 0.5300244\ttotal: 393ms\tremaining: 7.16s\n",
      "52:\tlearn: 0.5282323\ttotal: 395ms\tremaining: 7.06s\n",
      "53:\tlearn: 0.5259240\ttotal: 399ms\tremaining: 6.98s\n",
      "54:\tlearn: 0.5238587\ttotal: 402ms\tremaining: 6.9s\n",
      "55:\tlearn: 0.5218908\ttotal: 405ms\tremaining: 6.83s\n",
      "56:\tlearn: 0.5198957\ttotal: 409ms\tremaining: 6.76s\n",
      "57:\tlearn: 0.5179415\ttotal: 413ms\tremaining: 6.71s\n",
      "58:\tlearn: 0.5163406\ttotal: 416ms\tremaining: 6.64s\n",
      "59:\tlearn: 0.5148630\ttotal: 418ms\tremaining: 6.55s\n",
      "60:\tlearn: 0.5128089\ttotal: 422ms\tremaining: 6.5s\n",
      "61:\tlearn: 0.5110098\ttotal: 426ms\tremaining: 6.44s\n",
      "62:\tlearn: 0.5091814\ttotal: 429ms\tremaining: 6.38s\n",
      "63:\tlearn: 0.5077986\ttotal: 431ms\tremaining: 6.3s\n",
      "64:\tlearn: 0.5059881\ttotal: 435ms\tremaining: 6.25s\n",
      "65:\tlearn: 0.5043175\ttotal: 438ms\tremaining: 6.2s\n",
      "66:\tlearn: 0.5026226\ttotal: 443ms\tremaining: 6.17s\n",
      "67:\tlearn: 0.5010595\ttotal: 449ms\tremaining: 6.15s\n",
      "68:\tlearn: 0.4993639\ttotal: 455ms\tremaining: 6.14s\n",
      "69:\tlearn: 0.4977213\ttotal: 460ms\tremaining: 6.11s\n",
      "70:\tlearn: 0.4961041\ttotal: 466ms\tremaining: 6.09s\n",
      "71:\tlearn: 0.4949288\ttotal: 468ms\tremaining: 6.03s\n",
      "72:\tlearn: 0.4934730\ttotal: 474ms\tremaining: 6.02s\n",
      "73:\tlearn: 0.4920073\ttotal: 480ms\tremaining: 6s\n",
      "74:\tlearn: 0.4905612\ttotal: 484ms\tremaining: 5.96s\n",
      "75:\tlearn: 0.4892322\ttotal: 489ms\tremaining: 5.94s\n",
      "76:\tlearn: 0.4879373\ttotal: 492ms\tremaining: 5.9s\n",
      "77:\tlearn: 0.4864757\ttotal: 499ms\tremaining: 5.89s\n",
      "78:\tlearn: 0.4850814\ttotal: 502ms\tremaining: 5.85s\n",
      "79:\tlearn: 0.4835807\ttotal: 505ms\tremaining: 5.81s\n",
      "80:\tlearn: 0.4819205\ttotal: 508ms\tremaining: 5.77s\n",
      "81:\tlearn: 0.4803327\ttotal: 512ms\tremaining: 5.73s\n",
      "82:\tlearn: 0.4788033\ttotal: 515ms\tremaining: 5.69s\n",
      "83:\tlearn: 0.4774175\ttotal: 519ms\tremaining: 5.66s\n",
      "84:\tlearn: 0.4761725\ttotal: 523ms\tremaining: 5.62s\n",
      "85:\tlearn: 0.4747873\ttotal: 528ms\tremaining: 5.62s\n",
      "86:\tlearn: 0.4737767\ttotal: 531ms\tremaining: 5.58s\n",
      "87:\tlearn: 0.4724563\ttotal: 534ms\tremaining: 5.54s\n",
      "88:\tlearn: 0.4710818\ttotal: 538ms\tremaining: 5.5s\n",
      "89:\tlearn: 0.4702308\ttotal: 540ms\tremaining: 5.46s\n",
      "90:\tlearn: 0.4689829\ttotal: 543ms\tremaining: 5.42s\n",
      "91:\tlearn: 0.4678602\ttotal: 550ms\tremaining: 5.43s\n",
      "92:\tlearn: 0.4667724\ttotal: 554ms\tremaining: 5.4s\n",
      "93:\tlearn: 0.4656551\ttotal: 559ms\tremaining: 5.39s\n",
      "94:\tlearn: 0.4648523\ttotal: 563ms\tremaining: 5.36s\n",
      "95:\tlearn: 0.4640106\ttotal: 567ms\tremaining: 5.34s\n",
      "96:\tlearn: 0.4624425\ttotal: 573ms\tremaining: 5.33s\n",
      "97:\tlearn: 0.4614355\ttotal: 579ms\tremaining: 5.33s\n",
      "98:\tlearn: 0.4603827\ttotal: 585ms\tremaining: 5.32s\n",
      "99:\tlearn: 0.4594029\ttotal: 588ms\tremaining: 5.29s\n",
      "100:\tlearn: 0.4584110\ttotal: 592ms\tremaining: 5.26s\n",
      "101:\tlearn: 0.4575119\ttotal: 595ms\tremaining: 5.24s\n",
      "102:\tlearn: 0.4566708\ttotal: 598ms\tremaining: 5.21s\n",
      "103:\tlearn: 0.4560088\ttotal: 600ms\tremaining: 5.17s\n",
      "104:\tlearn: 0.4546697\ttotal: 604ms\tremaining: 5.15s\n",
      "105:\tlearn: 0.4539091\ttotal: 606ms\tremaining: 5.11s\n",
      "106:\tlearn: 0.4531016\ttotal: 610ms\tremaining: 5.09s\n",
      "107:\tlearn: 0.4523760\ttotal: 612ms\tremaining: 5.06s\n",
      "108:\tlearn: 0.4512960\ttotal: 616ms\tremaining: 5.03s\n",
      "109:\tlearn: 0.4504635\ttotal: 619ms\tremaining: 5s\n",
      "110:\tlearn: 0.4494493\ttotal: 622ms\tremaining: 4.98s\n",
      "111:\tlearn: 0.4486827\ttotal: 626ms\tremaining: 4.96s\n",
      "112:\tlearn: 0.4474478\ttotal: 630ms\tremaining: 4.94s\n",
      "113:\tlearn: 0.4467448\ttotal: 634ms\tremaining: 4.93s\n",
      "114:\tlearn: 0.4456539\ttotal: 640ms\tremaining: 4.93s\n",
      "115:\tlearn: 0.4448207\ttotal: 647ms\tremaining: 4.93s\n",
      "116:\tlearn: 0.4437263\ttotal: 654ms\tremaining: 4.93s\n",
      "117:\tlearn: 0.4431092\ttotal: 660ms\tremaining: 4.93s\n",
      "118:\tlearn: 0.4421967\ttotal: 663ms\tremaining: 4.91s\n",
      "119:\tlearn: 0.4412266\ttotal: 666ms\tremaining: 4.88s\n",
      "120:\tlearn: 0.4401578\ttotal: 669ms\tremaining: 4.86s\n",
      "121:\tlearn: 0.4394874\ttotal: 672ms\tremaining: 4.84s\n",
      "122:\tlearn: 0.4387252\ttotal: 676ms\tremaining: 4.82s\n",
      "123:\tlearn: 0.4380141\ttotal: 682ms\tremaining: 4.82s\n",
      "124:\tlearn: 0.4372919\ttotal: 685ms\tremaining: 4.8s\n",
      "125:\tlearn: 0.4366508\ttotal: 688ms\tremaining: 4.77s\n",
      "126:\tlearn: 0.4362042\ttotal: 689ms\tremaining: 4.74s\n",
      "127:\tlearn: 0.4356063\ttotal: 693ms\tremaining: 4.72s\n",
      "128:\tlearn: 0.4349907\ttotal: 696ms\tremaining: 4.7s\n",
      "129:\tlearn: 0.4343271\ttotal: 700ms\tremaining: 4.68s\n",
      "130:\tlearn: 0.4335693\ttotal: 703ms\tremaining: 4.67s\n",
      "131:\tlearn: 0.4327268\ttotal: 707ms\tremaining: 4.65s\n",
      "132:\tlearn: 0.4323188\ttotal: 711ms\tremaining: 4.63s\n",
      "133:\tlearn: 0.4316307\ttotal: 714ms\tremaining: 4.62s\n",
      "134:\tlearn: 0.4307982\ttotal: 717ms\tremaining: 4.6s\n",
      "135:\tlearn: 0.4298586\ttotal: 721ms\tremaining: 4.58s\n",
      "136:\tlearn: 0.4290181\ttotal: 724ms\tremaining: 4.56s\n",
      "137:\tlearn: 0.4282535\ttotal: 727ms\tremaining: 4.54s\n",
      "138:\tlearn: 0.4270333\ttotal: 731ms\tremaining: 4.53s\n",
      "139:\tlearn: 0.4263392\ttotal: 735ms\tremaining: 4.51s\n",
      "140:\tlearn: 0.4256319\ttotal: 738ms\tremaining: 4.5s\n",
      "141:\tlearn: 0.4249253\ttotal: 742ms\tremaining: 4.48s\n",
      "142:\tlearn: 0.4240821\ttotal: 745ms\tremaining: 4.46s\n",
      "143:\tlearn: 0.4232012\ttotal: 749ms\tremaining: 4.45s\n",
      "144:\tlearn: 0.4222634\ttotal: 753ms\tremaining: 4.44s\n",
      "145:\tlearn: 0.4217452\ttotal: 756ms\tremaining: 4.42s\n",
      "146:\tlearn: 0.4212884\ttotal: 759ms\tremaining: 4.4s\n",
      "147:\tlearn: 0.4206560\ttotal: 763ms\tremaining: 4.39s\n",
      "148:\tlearn: 0.4199085\ttotal: 766ms\tremaining: 4.37s\n",
      "149:\tlearn: 0.4195194\ttotal: 770ms\tremaining: 4.37s\n",
      "150:\tlearn: 0.4190238\ttotal: 773ms\tremaining: 4.35s\n",
      "151:\tlearn: 0.4182470\ttotal: 775ms\tremaining: 4.33s\n",
      "152:\tlearn: 0.4178677\ttotal: 777ms\tremaining: 4.3s\n",
      "153:\tlearn: 0.4172900\ttotal: 779ms\tremaining: 4.28s\n",
      "154:\tlearn: 0.4166070\ttotal: 782ms\tremaining: 4.26s\n",
      "155:\tlearn: 0.4157609\ttotal: 784ms\tremaining: 4.24s\n",
      "156:\tlearn: 0.4152066\ttotal: 787ms\tremaining: 4.22s\n",
      "157:\tlearn: 0.4143637\ttotal: 789ms\tremaining: 4.2s\n",
      "158:\tlearn: 0.4139226\ttotal: 791ms\tremaining: 4.18s\n",
      "159:\tlearn: 0.4135150\ttotal: 793ms\tremaining: 4.17s\n",
      "160:\tlearn: 0.4128305\ttotal: 797ms\tremaining: 4.15s\n",
      "161:\tlearn: 0.4121465\ttotal: 800ms\tremaining: 4.14s\n"
     ]
    },
    {
     "name": "stdout",
     "output_type": "stream",
     "text": [
      "162:\tlearn: 0.4116489\ttotal: 804ms\tremaining: 4.13s\n",
      "163:\tlearn: 0.4109062\ttotal: 806ms\tremaining: 4.11s\n",
      "164:\tlearn: 0.4102693\ttotal: 809ms\tremaining: 4.09s\n",
      "165:\tlearn: 0.4097007\ttotal: 811ms\tremaining: 4.07s\n",
      "166:\tlearn: 0.4090338\ttotal: 813ms\tremaining: 4.06s\n",
      "167:\tlearn: 0.4085360\ttotal: 816ms\tremaining: 4.04s\n",
      "168:\tlearn: 0.4080244\ttotal: 818ms\tremaining: 4.02s\n",
      "169:\tlearn: 0.4076158\ttotal: 821ms\tremaining: 4.01s\n",
      "170:\tlearn: 0.4072333\ttotal: 822ms\tremaining: 3.99s\n",
      "171:\tlearn: 0.4067498\ttotal: 824ms\tremaining: 3.97s\n",
      "172:\tlearn: 0.4063737\ttotal: 827ms\tremaining: 3.96s\n",
      "173:\tlearn: 0.4058006\ttotal: 830ms\tremaining: 3.94s\n",
      "174:\tlearn: 0.4052883\ttotal: 832ms\tremaining: 3.92s\n",
      "175:\tlearn: 0.4046657\ttotal: 834ms\tremaining: 3.91s\n",
      "176:\tlearn: 0.4040440\ttotal: 837ms\tremaining: 3.89s\n",
      "177:\tlearn: 0.4036768\ttotal: 839ms\tremaining: 3.87s\n",
      "178:\tlearn: 0.4032499\ttotal: 841ms\tremaining: 3.86s\n",
      "179:\tlearn: 0.4029498\ttotal: 843ms\tremaining: 3.84s\n",
      "180:\tlearn: 0.4025557\ttotal: 845ms\tremaining: 3.82s\n",
      "181:\tlearn: 0.4020049\ttotal: 847ms\tremaining: 3.81s\n",
      "182:\tlearn: 0.4018032\ttotal: 850ms\tremaining: 3.79s\n",
      "183:\tlearn: 0.4013409\ttotal: 852ms\tremaining: 3.78s\n",
      "184:\tlearn: 0.4008294\ttotal: 854ms\tremaining: 3.76s\n",
      "185:\tlearn: 0.4004231\ttotal: 856ms\tremaining: 3.75s\n",
      "186:\tlearn: 0.3996725\ttotal: 859ms\tremaining: 3.73s\n",
      "187:\tlearn: 0.3996095\ttotal: 860ms\tremaining: 3.71s\n",
      "188:\tlearn: 0.3989658\ttotal: 863ms\tremaining: 3.7s\n",
      "189:\tlearn: 0.3986531\ttotal: 865ms\tremaining: 3.69s\n",
      "190:\tlearn: 0.3983207\ttotal: 867ms\tremaining: 3.67s\n",
      "191:\tlearn: 0.3978079\ttotal: 870ms\tremaining: 3.66s\n",
      "192:\tlearn: 0.3973233\ttotal: 872ms\tremaining: 3.65s\n",
      "193:\tlearn: 0.3966300\ttotal: 874ms\tremaining: 3.63s\n",
      "194:\tlearn: 0.3960975\ttotal: 877ms\tremaining: 3.62s\n",
      "195:\tlearn: 0.3957375\ttotal: 879ms\tremaining: 3.61s\n",
      "196:\tlearn: 0.3951639\ttotal: 881ms\tremaining: 3.59s\n",
      "197:\tlearn: 0.3945299\ttotal: 884ms\tremaining: 3.58s\n",
      "198:\tlearn: 0.3939736\ttotal: 886ms\tremaining: 3.57s\n",
      "199:\tlearn: 0.3936381\ttotal: 889ms\tremaining: 3.55s\n",
      "200:\tlearn: 0.3933177\ttotal: 891ms\tremaining: 3.54s\n",
      "201:\tlearn: 0.3928382\ttotal: 893ms\tremaining: 3.53s\n",
      "202:\tlearn: 0.3923695\ttotal: 896ms\tremaining: 3.52s\n",
      "203:\tlearn: 0.3918329\ttotal: 898ms\tremaining: 3.5s\n",
      "204:\tlearn: 0.3912502\ttotal: 900ms\tremaining: 3.49s\n",
      "205:\tlearn: 0.3907901\ttotal: 902ms\tremaining: 3.48s\n",
      "206:\tlearn: 0.3906679\ttotal: 903ms\tremaining: 3.46s\n",
      "207:\tlearn: 0.3901655\ttotal: 906ms\tremaining: 3.45s\n",
      "208:\tlearn: 0.3896027\ttotal: 908ms\tremaining: 3.44s\n",
      "209:\tlearn: 0.3892938\ttotal: 910ms\tremaining: 3.42s\n",
      "210:\tlearn: 0.3887950\ttotal: 913ms\tremaining: 3.41s\n",
      "211:\tlearn: 0.3884542\ttotal: 915ms\tremaining: 3.4s\n",
      "212:\tlearn: 0.3879977\ttotal: 918ms\tremaining: 3.39s\n",
      "213:\tlearn: 0.3875603\ttotal: 920ms\tremaining: 3.38s\n",
      "214:\tlearn: 0.3869953\ttotal: 922ms\tremaining: 3.37s\n",
      "215:\tlearn: 0.3865579\ttotal: 924ms\tremaining: 3.35s\n",
      "216:\tlearn: 0.3861875\ttotal: 927ms\tremaining: 3.34s\n",
      "217:\tlearn: 0.3857314\ttotal: 929ms\tremaining: 3.33s\n",
      "218:\tlearn: 0.3853170\ttotal: 932ms\tremaining: 3.32s\n",
      "219:\tlearn: 0.3852137\ttotal: 933ms\tremaining: 3.31s\n",
      "220:\tlearn: 0.3849895\ttotal: 936ms\tremaining: 3.3s\n",
      "221:\tlearn: 0.3845516\ttotal: 939ms\tremaining: 3.29s\n",
      "222:\tlearn: 0.3841765\ttotal: 943ms\tremaining: 3.28s\n",
      "223:\tlearn: 0.3840425\ttotal: 944ms\tremaining: 3.27s\n",
      "224:\tlearn: 0.3837704\ttotal: 947ms\tremaining: 3.26s\n",
      "225:\tlearn: 0.3831354\ttotal: 950ms\tremaining: 3.25s\n",
      "226:\tlearn: 0.3827768\ttotal: 952ms\tremaining: 3.24s\n",
      "227:\tlearn: 0.3826106\ttotal: 955ms\tremaining: 3.23s\n",
      "228:\tlearn: 0.3823129\ttotal: 958ms\tremaining: 3.22s\n",
      "229:\tlearn: 0.3819176\ttotal: 960ms\tremaining: 3.21s\n",
      "230:\tlearn: 0.3813685\ttotal: 964ms\tremaining: 3.21s\n",
      "231:\tlearn: 0.3810908\ttotal: 967ms\tremaining: 3.2s\n",
      "232:\tlearn: 0.3806043\ttotal: 969ms\tremaining: 3.19s\n",
      "233:\tlearn: 0.3802997\ttotal: 971ms\tremaining: 3.18s\n",
      "234:\tlearn: 0.3798991\ttotal: 974ms\tremaining: 3.17s\n",
      "235:\tlearn: 0.3796593\ttotal: 976ms\tremaining: 3.16s\n",
      "236:\tlearn: 0.3791711\ttotal: 979ms\tremaining: 3.15s\n",
      "237:\tlearn: 0.3788359\ttotal: 982ms\tremaining: 3.14s\n",
      "238:\tlearn: 0.3783684\ttotal: 984ms\tremaining: 3.13s\n",
      "239:\tlearn: 0.3779499\ttotal: 987ms\tremaining: 3.12s\n",
      "240:\tlearn: 0.3776832\ttotal: 989ms\tremaining: 3.12s\n",
      "241:\tlearn: 0.3774281\ttotal: 992ms\tremaining: 3.1s\n",
      "242:\tlearn: 0.3771315\ttotal: 994ms\tremaining: 3.1s\n",
      "243:\tlearn: 0.3769181\ttotal: 996ms\tremaining: 3.09s\n",
      "244:\tlearn: 0.3764561\ttotal: 998ms\tremaining: 3.08s\n",
      "245:\tlearn: 0.3760105\ttotal: 1s\tremaining: 3.07s\n",
      "246:\tlearn: 0.3756988\ttotal: 1s\tremaining: 3.06s\n",
      "247:\tlearn: 0.3752945\ttotal: 1s\tremaining: 3.05s\n",
      "248:\tlearn: 0.3749539\ttotal: 1.01s\tremaining: 3.04s\n",
      "249:\tlearn: 0.3745832\ttotal: 1.01s\tremaining: 3.03s\n",
      "250:\tlearn: 0.3742568\ttotal: 1.01s\tremaining: 3.02s\n",
      "251:\tlearn: 0.3735955\ttotal: 1.01s\tremaining: 3.01s\n",
      "252:\tlearn: 0.3731691\ttotal: 1.02s\tremaining: 3s\n",
      "253:\tlearn: 0.3726674\ttotal: 1.02s\tremaining: 3s\n",
      "254:\tlearn: 0.3723805\ttotal: 1.02s\tremaining: 2.99s\n",
      "255:\tlearn: 0.3720065\ttotal: 1.02s\tremaining: 2.98s\n",
      "256:\tlearn: 0.3715796\ttotal: 1.03s\tremaining: 2.97s\n",
      "257:\tlearn: 0.3714771\ttotal: 1.03s\tremaining: 2.96s\n",
      "258:\tlearn: 0.3710377\ttotal: 1.03s\tremaining: 2.95s\n",
      "259:\tlearn: 0.3706224\ttotal: 1.03s\tremaining: 2.95s\n",
      "260:\tlearn: 0.3705146\ttotal: 1.04s\tremaining: 2.94s\n",
      "261:\tlearn: 0.3704577\ttotal: 1.04s\tremaining: 2.93s\n",
      "262:\tlearn: 0.3700934\ttotal: 1.04s\tremaining: 2.92s\n",
      "263:\tlearn: 0.3696906\ttotal: 1.04s\tremaining: 2.91s\n",
      "264:\tlearn: 0.3694241\ttotal: 1.05s\tremaining: 2.9s\n",
      "265:\tlearn: 0.3688952\ttotal: 1.05s\tremaining: 2.9s\n",
      "266:\tlearn: 0.3685614\ttotal: 1.05s\tremaining: 2.89s\n",
      "267:\tlearn: 0.3683297\ttotal: 1.05s\tremaining: 2.88s\n",
      "268:\tlearn: 0.3679894\ttotal: 1.06s\tremaining: 2.87s\n",
      "269:\tlearn: 0.3675991\ttotal: 1.06s\tremaining: 2.87s\n",
      "270:\tlearn: 0.3672922\ttotal: 1.06s\tremaining: 2.86s\n",
      "271:\tlearn: 0.3666605\ttotal: 1.06s\tremaining: 2.85s\n",
      "272:\tlearn: 0.3664292\ttotal: 1.07s\tremaining: 2.84s\n",
      "273:\tlearn: 0.3660027\ttotal: 1.07s\tremaining: 2.84s\n",
      "274:\tlearn: 0.3657473\ttotal: 1.07s\tremaining: 2.83s\n",
      "275:\tlearn: 0.3653753\ttotal: 1.08s\tremaining: 2.83s\n",
      "276:\tlearn: 0.3651576\ttotal: 1.08s\tremaining: 2.82s\n",
      "277:\tlearn: 0.3649221\ttotal: 1.08s\tremaining: 2.81s\n",
      "278:\tlearn: 0.3645402\ttotal: 1.09s\tremaining: 2.81s\n",
      "279:\tlearn: 0.3640966\ttotal: 1.09s\tremaining: 2.8s\n",
      "280:\tlearn: 0.3638194\ttotal: 1.09s\tremaining: 2.79s\n",
      "281:\tlearn: 0.3635742\ttotal: 1.09s\tremaining: 2.79s\n",
      "282:\tlearn: 0.3629178\ttotal: 1.1s\tremaining: 2.78s\n",
      "283:\tlearn: 0.3625766\ttotal: 1.1s\tremaining: 2.77s\n",
      "284:\tlearn: 0.3622281\ttotal: 1.1s\tremaining: 2.76s\n",
      "285:\tlearn: 0.3619482\ttotal: 1.1s\tremaining: 2.75s\n",
      "286:\tlearn: 0.3616566\ttotal: 1.1s\tremaining: 2.75s\n",
      "287:\tlearn: 0.3614183\ttotal: 1.11s\tremaining: 2.74s\n",
      "288:\tlearn: 0.3611083\ttotal: 1.11s\tremaining: 2.73s\n",
      "289:\tlearn: 0.3608267\ttotal: 1.11s\tremaining: 2.72s\n",
      "290:\tlearn: 0.3606574\ttotal: 1.12s\tremaining: 2.72s\n",
      "291:\tlearn: 0.3603977\ttotal: 1.12s\tremaining: 2.71s\n",
      "292:\tlearn: 0.3601371\ttotal: 1.12s\tremaining: 2.71s\n",
      "293:\tlearn: 0.3599184\ttotal: 1.13s\tremaining: 2.71s\n",
      "294:\tlearn: 0.3595670\ttotal: 1.13s\tremaining: 2.7s\n",
      "295:\tlearn: 0.3595003\ttotal: 1.13s\tremaining: 2.69s\n",
      "296:\tlearn: 0.3593732\ttotal: 1.14s\tremaining: 2.69s\n",
      "297:\tlearn: 0.3589362\ttotal: 1.14s\tremaining: 2.69s\n",
      "298:\tlearn: 0.3585876\ttotal: 1.14s\tremaining: 2.68s\n",
      "299:\tlearn: 0.3582459\ttotal: 1.15s\tremaining: 2.68s\n",
      "300:\tlearn: 0.3579477\ttotal: 1.15s\tremaining: 2.67s\n",
      "301:\tlearn: 0.3575347\ttotal: 1.15s\tremaining: 2.66s\n",
      "302:\tlearn: 0.3572260\ttotal: 1.16s\tremaining: 2.66s\n",
      "303:\tlearn: 0.3568879\ttotal: 1.16s\tremaining: 2.65s\n",
      "304:\tlearn: 0.3565652\ttotal: 1.16s\tremaining: 2.64s\n",
      "305:\tlearn: 0.3562255\ttotal: 1.16s\tremaining: 2.63s\n",
      "306:\tlearn: 0.3560002\ttotal: 1.16s\tremaining: 2.63s\n",
      "307:\tlearn: 0.3557686\ttotal: 1.17s\tremaining: 2.62s\n",
      "308:\tlearn: 0.3555056\ttotal: 1.17s\tremaining: 2.62s\n",
      "309:\tlearn: 0.3551695\ttotal: 1.17s\tremaining: 2.61s\n",
      "310:\tlearn: 0.3548682\ttotal: 1.17s\tremaining: 2.6s\n",
      "311:\tlearn: 0.3548298\ttotal: 1.18s\tremaining: 2.59s\n",
      "312:\tlearn: 0.3545792\ttotal: 1.18s\tremaining: 2.58s\n",
      "313:\tlearn: 0.3541590\ttotal: 1.18s\tremaining: 2.58s\n",
      "314:\tlearn: 0.3539275\ttotal: 1.18s\tremaining: 2.57s\n",
      "315:\tlearn: 0.3535150\ttotal: 1.18s\tremaining: 2.56s\n",
      "316:\tlearn: 0.3531033\ttotal: 1.19s\tremaining: 2.56s\n",
      "317:\tlearn: 0.3529658\ttotal: 1.19s\tremaining: 2.55s\n",
      "318:\tlearn: 0.3527312\ttotal: 1.19s\tremaining: 2.54s\n",
      "319:\tlearn: 0.3524507\ttotal: 1.19s\tremaining: 2.54s\n",
      "320:\tlearn: 0.3521599\ttotal: 1.2s\tremaining: 2.53s\n",
      "321:\tlearn: 0.3518592\ttotal: 1.2s\tremaining: 2.52s\n",
      "322:\tlearn: 0.3515404\ttotal: 1.2s\tremaining: 2.52s\n",
      "323:\tlearn: 0.3512519\ttotal: 1.2s\tremaining: 2.51s\n",
      "324:\tlearn: 0.3509368\ttotal: 1.21s\tremaining: 2.5s\n",
      "325:\tlearn: 0.3507064\ttotal: 1.21s\tremaining: 2.5s\n",
      "326:\tlearn: 0.3501994\ttotal: 1.21s\tremaining: 2.49s\n",
      "327:\tlearn: 0.3499463\ttotal: 1.21s\tremaining: 2.48s\n",
      "328:\tlearn: 0.3495614\ttotal: 1.22s\tremaining: 2.48s\n",
      "329:\tlearn: 0.3495004\ttotal: 1.22s\tremaining: 2.47s\n",
      "330:\tlearn: 0.3491172\ttotal: 1.22s\tremaining: 2.47s\n",
      "331:\tlearn: 0.3488967\ttotal: 1.22s\tremaining: 2.46s\n",
      "332:\tlearn: 0.3485909\ttotal: 1.23s\tremaining: 2.45s\n",
      "333:\tlearn: 0.3484645\ttotal: 1.23s\tremaining: 2.45s\n",
      "334:\tlearn: 0.3480954\ttotal: 1.23s\tremaining: 2.44s\n",
      "335:\tlearn: 0.3475609\ttotal: 1.23s\tremaining: 2.43s\n",
      "336:\tlearn: 0.3473196\ttotal: 1.23s\tremaining: 2.43s\n",
      "337:\tlearn: 0.3471292\ttotal: 1.24s\tremaining: 2.42s\n",
      "338:\tlearn: 0.3469557\ttotal: 1.24s\tremaining: 2.42s\n",
      "339:\tlearn: 0.3468189\ttotal: 1.24s\tremaining: 2.41s\n",
      "340:\tlearn: 0.3466501\ttotal: 1.24s\tremaining: 2.4s\n",
      "341:\tlearn: 0.3463405\ttotal: 1.25s\tremaining: 2.4s\n",
      "342:\tlearn: 0.3460472\ttotal: 1.25s\tremaining: 2.39s\n",
      "343:\tlearn: 0.3456006\ttotal: 1.25s\tremaining: 2.39s\n",
      "344:\tlearn: 0.3452340\ttotal: 1.25s\tremaining: 2.38s\n",
      "345:\tlearn: 0.3449954\ttotal: 1.26s\tremaining: 2.37s\n",
      "346:\tlearn: 0.3446647\ttotal: 1.26s\tremaining: 2.37s\n",
      "347:\tlearn: 0.3443623\ttotal: 1.26s\tremaining: 2.36s\n",
      "348:\tlearn: 0.3438707\ttotal: 1.26s\tremaining: 2.36s\n",
      "349:\tlearn: 0.3434581\ttotal: 1.27s\tremaining: 2.36s\n",
      "350:\tlearn: 0.3432942\ttotal: 1.27s\tremaining: 2.35s\n",
      "351:\tlearn: 0.3428665\ttotal: 1.27s\tremaining: 2.34s\n",
      "352:\tlearn: 0.3427100\ttotal: 1.28s\tremaining: 2.34s\n",
      "353:\tlearn: 0.3424004\ttotal: 1.28s\tremaining: 2.33s\n"
     ]
    },
    {
     "name": "stdout",
     "output_type": "stream",
     "text": [
      "354:\tlearn: 0.3422812\ttotal: 1.28s\tremaining: 2.33s\n",
      "355:\tlearn: 0.3421628\ttotal: 1.28s\tremaining: 2.32s\n",
      "356:\tlearn: 0.3418718\ttotal: 1.29s\tremaining: 2.32s\n",
      "357:\tlearn: 0.3414749\ttotal: 1.29s\tremaining: 2.31s\n",
      "358:\tlearn: 0.3411095\ttotal: 1.29s\tremaining: 2.31s\n",
      "359:\tlearn: 0.3408669\ttotal: 1.29s\tremaining: 2.3s\n",
      "360:\tlearn: 0.3406755\ttotal: 1.29s\tremaining: 2.29s\n",
      "361:\tlearn: 0.3404171\ttotal: 1.3s\tremaining: 2.29s\n",
      "362:\tlearn: 0.3400303\ttotal: 1.3s\tremaining: 2.28s\n",
      "363:\tlearn: 0.3396579\ttotal: 1.3s\tremaining: 2.28s\n",
      "364:\tlearn: 0.3393810\ttotal: 1.3s\tremaining: 2.27s\n",
      "365:\tlearn: 0.3392144\ttotal: 1.31s\tremaining: 2.27s\n",
      "366:\tlearn: 0.3389118\ttotal: 1.31s\tremaining: 2.26s\n",
      "367:\tlearn: 0.3386195\ttotal: 1.31s\tremaining: 2.25s\n",
      "368:\tlearn: 0.3383080\ttotal: 1.31s\tremaining: 2.25s\n",
      "369:\tlearn: 0.3381325\ttotal: 1.32s\tremaining: 2.24s\n",
      "370:\tlearn: 0.3379370\ttotal: 1.32s\tremaining: 2.24s\n",
      "371:\tlearn: 0.3375657\ttotal: 1.32s\tremaining: 2.23s\n",
      "372:\tlearn: 0.3374494\ttotal: 1.32s\tremaining: 2.23s\n",
      "373:\tlearn: 0.3371943\ttotal: 1.33s\tremaining: 2.22s\n",
      "374:\tlearn: 0.3370010\ttotal: 1.33s\tremaining: 2.21s\n",
      "375:\tlearn: 0.3367321\ttotal: 1.33s\tremaining: 2.21s\n",
      "376:\tlearn: 0.3364288\ttotal: 1.33s\tremaining: 2.2s\n",
      "377:\tlearn: 0.3362134\ttotal: 1.34s\tremaining: 2.2s\n",
      "378:\tlearn: 0.3359924\ttotal: 1.34s\tremaining: 2.19s\n",
      "379:\tlearn: 0.3357912\ttotal: 1.34s\tremaining: 2.19s\n",
      "380:\tlearn: 0.3355727\ttotal: 1.34s\tremaining: 2.18s\n",
      "381:\tlearn: 0.3354105\ttotal: 1.34s\tremaining: 2.18s\n",
      "382:\tlearn: 0.3351053\ttotal: 1.35s\tremaining: 2.17s\n",
      "383:\tlearn: 0.3349301\ttotal: 1.35s\tremaining: 2.17s\n",
      "384:\tlearn: 0.3347352\ttotal: 1.35s\tremaining: 2.16s\n",
      "385:\tlearn: 0.3345075\ttotal: 1.35s\tremaining: 2.15s\n",
      "386:\tlearn: 0.3342332\ttotal: 1.36s\tremaining: 2.15s\n",
      "387:\tlearn: 0.3340632\ttotal: 1.36s\tremaining: 2.14s\n",
      "388:\tlearn: 0.3338880\ttotal: 1.36s\tremaining: 2.14s\n",
      "389:\tlearn: 0.3336424\ttotal: 1.36s\tremaining: 2.13s\n",
      "390:\tlearn: 0.3333845\ttotal: 1.37s\tremaining: 2.13s\n",
      "391:\tlearn: 0.3331962\ttotal: 1.37s\tremaining: 2.12s\n",
      "392:\tlearn: 0.3329370\ttotal: 1.37s\tremaining: 2.12s\n",
      "393:\tlearn: 0.3327109\ttotal: 1.37s\tremaining: 2.11s\n",
      "394:\tlearn: 0.3324332\ttotal: 1.38s\tremaining: 2.11s\n",
      "395:\tlearn: 0.3321988\ttotal: 1.38s\tremaining: 2.1s\n",
      "396:\tlearn: 0.3318993\ttotal: 1.38s\tremaining: 2.1s\n",
      "397:\tlearn: 0.3314915\ttotal: 1.38s\tremaining: 2.09s\n",
      "398:\tlearn: 0.3312905\ttotal: 1.39s\tremaining: 2.09s\n",
      "399:\tlearn: 0.3310137\ttotal: 1.39s\tremaining: 2.08s\n",
      "400:\tlearn: 0.3308492\ttotal: 1.39s\tremaining: 2.08s\n",
      "401:\tlearn: 0.3307254\ttotal: 1.39s\tremaining: 2.07s\n",
      "402:\tlearn: 0.3304922\ttotal: 1.4s\tremaining: 2.07s\n",
      "403:\tlearn: 0.3301384\ttotal: 1.4s\tremaining: 2.06s\n",
      "404:\tlearn: 0.3298895\ttotal: 1.4s\tremaining: 2.06s\n",
      "405:\tlearn: 0.3294061\ttotal: 1.4s\tremaining: 2.05s\n",
      "406:\tlearn: 0.3291712\ttotal: 1.4s\tremaining: 2.05s\n",
      "407:\tlearn: 0.3289656\ttotal: 1.41s\tremaining: 2.04s\n",
      "408:\tlearn: 0.3285862\ttotal: 1.41s\tremaining: 2.04s\n",
      "409:\tlearn: 0.3284066\ttotal: 1.41s\tremaining: 2.03s\n",
      "410:\tlearn: 0.3280383\ttotal: 1.41s\tremaining: 2.03s\n",
      "411:\tlearn: 0.3278480\ttotal: 1.42s\tremaining: 2.02s\n",
      "412:\tlearn: 0.3275675\ttotal: 1.42s\tremaining: 2.02s\n",
      "413:\tlearn: 0.3272425\ttotal: 1.42s\tremaining: 2.01s\n",
      "414:\tlearn: 0.3270878\ttotal: 1.42s\tremaining: 2.01s\n",
      "415:\tlearn: 0.3268868\ttotal: 1.43s\tremaining: 2s\n",
      "416:\tlearn: 0.3266891\ttotal: 1.43s\tremaining: 2s\n",
      "417:\tlearn: 0.3264122\ttotal: 1.43s\tremaining: 1.99s\n",
      "418:\tlearn: 0.3261308\ttotal: 1.43s\tremaining: 1.99s\n",
      "419:\tlearn: 0.3259790\ttotal: 1.44s\tremaining: 1.98s\n",
      "420:\tlearn: 0.3258004\ttotal: 1.44s\tremaining: 1.98s\n",
      "421:\tlearn: 0.3255372\ttotal: 1.44s\tremaining: 1.98s\n",
      "422:\tlearn: 0.3255110\ttotal: 1.44s\tremaining: 1.97s\n",
      "423:\tlearn: 0.3252363\ttotal: 1.45s\tremaining: 1.96s\n",
      "424:\tlearn: 0.3250978\ttotal: 1.45s\tremaining: 1.96s\n",
      "425:\tlearn: 0.3249590\ttotal: 1.45s\tremaining: 1.95s\n",
      "426:\tlearn: 0.3246411\ttotal: 1.45s\tremaining: 1.95s\n",
      "427:\tlearn: 0.3244686\ttotal: 1.46s\tremaining: 1.95s\n",
      "428:\tlearn: 0.3244146\ttotal: 1.46s\tremaining: 1.94s\n",
      "429:\tlearn: 0.3242495\ttotal: 1.46s\tremaining: 1.93s\n",
      "430:\tlearn: 0.3240680\ttotal: 1.46s\tremaining: 1.93s\n",
      "431:\tlearn: 0.3237318\ttotal: 1.46s\tremaining: 1.92s\n",
      "432:\tlearn: 0.3234429\ttotal: 1.47s\tremaining: 1.92s\n",
      "433:\tlearn: 0.3232638\ttotal: 1.47s\tremaining: 1.92s\n",
      "434:\tlearn: 0.3230263\ttotal: 1.47s\tremaining: 1.91s\n",
      "435:\tlearn: 0.3227887\ttotal: 1.47s\tremaining: 1.91s\n",
      "436:\tlearn: 0.3223423\ttotal: 1.48s\tremaining: 1.9s\n",
      "437:\tlearn: 0.3221879\ttotal: 1.48s\tremaining: 1.9s\n",
      "438:\tlearn: 0.3218846\ttotal: 1.48s\tremaining: 1.89s\n",
      "439:\tlearn: 0.3215864\ttotal: 1.48s\tremaining: 1.89s\n",
      "440:\tlearn: 0.3213151\ttotal: 1.49s\tremaining: 1.88s\n",
      "441:\tlearn: 0.3210461\ttotal: 1.49s\tremaining: 1.88s\n",
      "442:\tlearn: 0.3209363\ttotal: 1.49s\tremaining: 1.87s\n",
      "443:\tlearn: 0.3206563\ttotal: 1.49s\tremaining: 1.87s\n",
      "444:\tlearn: 0.3204029\ttotal: 1.49s\tremaining: 1.86s\n",
      "445:\tlearn: 0.3201025\ttotal: 1.5s\tremaining: 1.86s\n",
      "446:\tlearn: 0.3199108\ttotal: 1.5s\tremaining: 1.85s\n",
      "447:\tlearn: 0.3194674\ttotal: 1.5s\tremaining: 1.85s\n",
      "448:\tlearn: 0.3193533\ttotal: 1.5s\tremaining: 1.84s\n",
      "449:\tlearn: 0.3190091\ttotal: 1.51s\tremaining: 1.84s\n",
      "450:\tlearn: 0.3188993\ttotal: 1.51s\tremaining: 1.84s\n",
      "451:\tlearn: 0.3187529\ttotal: 1.51s\tremaining: 1.83s\n",
      "452:\tlearn: 0.3185239\ttotal: 1.51s\tremaining: 1.83s\n",
      "453:\tlearn: 0.3182520\ttotal: 1.51s\tremaining: 1.82s\n",
      "454:\tlearn: 0.3180186\ttotal: 1.52s\tremaining: 1.82s\n",
      "455:\tlearn: 0.3178092\ttotal: 1.52s\tremaining: 1.81s\n",
      "456:\tlearn: 0.3177190\ttotal: 1.52s\tremaining: 1.81s\n",
      "457:\tlearn: 0.3172741\ttotal: 1.53s\tremaining: 1.8s\n",
      "458:\tlearn: 0.3170886\ttotal: 1.53s\tremaining: 1.8s\n",
      "459:\tlearn: 0.3168589\ttotal: 1.53s\tremaining: 1.8s\n",
      "460:\tlearn: 0.3166764\ttotal: 1.53s\tremaining: 1.79s\n",
      "461:\tlearn: 0.3163457\ttotal: 1.54s\tremaining: 1.79s\n",
      "462:\tlearn: 0.3160769\ttotal: 1.54s\tremaining: 1.78s\n",
      "463:\tlearn: 0.3157656\ttotal: 1.54s\tremaining: 1.78s\n",
      "464:\tlearn: 0.3156704\ttotal: 1.54s\tremaining: 1.78s\n",
      "465:\tlearn: 0.3153614\ttotal: 1.55s\tremaining: 1.77s\n",
      "466:\tlearn: 0.3150109\ttotal: 1.55s\tremaining: 1.77s\n",
      "467:\tlearn: 0.3148148\ttotal: 1.55s\tremaining: 1.76s\n",
      "468:\tlearn: 0.3146904\ttotal: 1.55s\tremaining: 1.76s\n",
      "469:\tlearn: 0.3144000\ttotal: 1.55s\tremaining: 1.75s\n",
      "470:\tlearn: 0.3142782\ttotal: 1.56s\tremaining: 1.75s\n",
      "471:\tlearn: 0.3140771\ttotal: 1.56s\tremaining: 1.75s\n",
      "472:\tlearn: 0.3139355\ttotal: 1.56s\tremaining: 1.74s\n",
      "473:\tlearn: 0.3137145\ttotal: 1.56s\tremaining: 1.74s\n",
      "474:\tlearn: 0.3135580\ttotal: 1.57s\tremaining: 1.73s\n",
      "475:\tlearn: 0.3132908\ttotal: 1.57s\tremaining: 1.73s\n",
      "476:\tlearn: 0.3130789\ttotal: 1.57s\tremaining: 1.72s\n",
      "477:\tlearn: 0.3128168\ttotal: 1.57s\tremaining: 1.72s\n",
      "478:\tlearn: 0.3126748\ttotal: 1.58s\tremaining: 1.71s\n",
      "479:\tlearn: 0.3126471\ttotal: 1.58s\tremaining: 1.71s\n",
      "480:\tlearn: 0.3123670\ttotal: 1.58s\tremaining: 1.7s\n",
      "481:\tlearn: 0.3121848\ttotal: 1.58s\tremaining: 1.7s\n",
      "482:\tlearn: 0.3119973\ttotal: 1.58s\tremaining: 1.7s\n",
      "483:\tlearn: 0.3118033\ttotal: 1.59s\tremaining: 1.69s\n",
      "484:\tlearn: 0.3115495\ttotal: 1.59s\tremaining: 1.69s\n",
      "485:\tlearn: 0.3114532\ttotal: 1.59s\tremaining: 1.68s\n",
      "486:\tlearn: 0.3111723\ttotal: 1.59s\tremaining: 1.68s\n",
      "487:\tlearn: 0.3108657\ttotal: 1.59s\tremaining: 1.67s\n",
      "488:\tlearn: 0.3106596\ttotal: 1.6s\tremaining: 1.67s\n",
      "489:\tlearn: 0.3105449\ttotal: 1.6s\tremaining: 1.67s\n",
      "490:\tlearn: 0.3103102\ttotal: 1.6s\tremaining: 1.66s\n",
      "491:\tlearn: 0.3100077\ttotal: 1.61s\tremaining: 1.66s\n",
      "492:\tlearn: 0.3098114\ttotal: 1.61s\tremaining: 1.65s\n",
      "493:\tlearn: 0.3095573\ttotal: 1.61s\tremaining: 1.65s\n",
      "494:\tlearn: 0.3093736\ttotal: 1.61s\tremaining: 1.65s\n",
      "495:\tlearn: 0.3091998\ttotal: 1.62s\tremaining: 1.64s\n",
      "496:\tlearn: 0.3091117\ttotal: 1.62s\tremaining: 1.64s\n",
      "497:\tlearn: 0.3088999\ttotal: 1.62s\tremaining: 1.63s\n",
      "498:\tlearn: 0.3087309\ttotal: 1.62s\tremaining: 1.63s\n",
      "499:\tlearn: 0.3085507\ttotal: 1.63s\tremaining: 1.63s\n",
      "500:\tlearn: 0.3081952\ttotal: 1.63s\tremaining: 1.62s\n",
      "501:\tlearn: 0.3079598\ttotal: 1.63s\tremaining: 1.62s\n",
      "502:\tlearn: 0.3077318\ttotal: 1.63s\tremaining: 1.61s\n",
      "503:\tlearn: 0.3073701\ttotal: 1.64s\tremaining: 1.61s\n",
      "504:\tlearn: 0.3069593\ttotal: 1.64s\tremaining: 1.6s\n",
      "505:\tlearn: 0.3067500\ttotal: 1.64s\tremaining: 1.6s\n",
      "506:\tlearn: 0.3065779\ttotal: 1.64s\tremaining: 1.6s\n",
      "507:\tlearn: 0.3061882\ttotal: 1.64s\tremaining: 1.59s\n",
      "508:\tlearn: 0.3060548\ttotal: 1.65s\tremaining: 1.59s\n",
      "509:\tlearn: 0.3058256\ttotal: 1.65s\tremaining: 1.58s\n",
      "510:\tlearn: 0.3055625\ttotal: 1.65s\tremaining: 1.58s\n",
      "511:\tlearn: 0.3054262\ttotal: 1.65s\tremaining: 1.58s\n",
      "512:\tlearn: 0.3052355\ttotal: 1.66s\tremaining: 1.57s\n",
      "513:\tlearn: 0.3049700\ttotal: 1.66s\tremaining: 1.57s\n",
      "514:\tlearn: 0.3046707\ttotal: 1.66s\tremaining: 1.56s\n",
      "515:\tlearn: 0.3044163\ttotal: 1.66s\tremaining: 1.56s\n",
      "516:\tlearn: 0.3041498\ttotal: 1.67s\tremaining: 1.56s\n",
      "517:\tlearn: 0.3041088\ttotal: 1.67s\tremaining: 1.55s\n",
      "518:\tlearn: 0.3038829\ttotal: 1.67s\tremaining: 1.55s\n",
      "519:\tlearn: 0.3036666\ttotal: 1.67s\tremaining: 1.54s\n",
      "520:\tlearn: 0.3034982\ttotal: 1.68s\tremaining: 1.54s\n",
      "521:\tlearn: 0.3033267\ttotal: 1.68s\tremaining: 1.54s\n",
      "522:\tlearn: 0.3030031\ttotal: 1.68s\tremaining: 1.53s\n",
      "523:\tlearn: 0.3027888\ttotal: 1.68s\tremaining: 1.53s\n",
      "524:\tlearn: 0.3025881\ttotal: 1.69s\tremaining: 1.52s\n",
      "525:\tlearn: 0.3025143\ttotal: 1.69s\tremaining: 1.52s\n",
      "526:\tlearn: 0.3024147\ttotal: 1.69s\tremaining: 1.52s\n",
      "527:\tlearn: 0.3021324\ttotal: 1.69s\tremaining: 1.51s\n",
      "528:\tlearn: 0.3018785\ttotal: 1.69s\tremaining: 1.51s\n",
      "529:\tlearn: 0.3017085\ttotal: 1.7s\tremaining: 1.5s\n",
      "530:\tlearn: 0.3014818\ttotal: 1.7s\tremaining: 1.5s\n",
      "531:\tlearn: 0.3012615\ttotal: 1.7s\tremaining: 1.5s\n",
      "532:\tlearn: 0.3009899\ttotal: 1.7s\tremaining: 1.49s\n",
      "533:\tlearn: 0.3007733\ttotal: 1.71s\tremaining: 1.49s\n",
      "534:\tlearn: 0.3004827\ttotal: 1.71s\tremaining: 1.48s\n",
      "535:\tlearn: 0.3003221\ttotal: 1.71s\tremaining: 1.48s\n",
      "536:\tlearn: 0.3001234\ttotal: 1.71s\tremaining: 1.48s\n",
      "537:\tlearn: 0.2998901\ttotal: 1.72s\tremaining: 1.47s\n",
      "538:\tlearn: 0.2997607\ttotal: 1.72s\tremaining: 1.47s\n",
      "539:\tlearn: 0.2995736\ttotal: 1.72s\tremaining: 1.47s\n",
      "540:\tlearn: 0.2993029\ttotal: 1.72s\tremaining: 1.46s\n",
      "541:\tlearn: 0.2991247\ttotal: 1.73s\tremaining: 1.46s\n",
      "542:\tlearn: 0.2989431\ttotal: 1.73s\tremaining: 1.45s\n",
      "543:\tlearn: 0.2987445\ttotal: 1.73s\tremaining: 1.45s\n",
      "544:\tlearn: 0.2985568\ttotal: 1.73s\tremaining: 1.45s\n",
      "545:\tlearn: 0.2981948\ttotal: 1.74s\tremaining: 1.44s\n",
      "546:\tlearn: 0.2979527\ttotal: 1.74s\tremaining: 1.44s\n",
      "547:\tlearn: 0.2977798\ttotal: 1.74s\tremaining: 1.44s\n",
      "548:\tlearn: 0.2976287\ttotal: 1.74s\tremaining: 1.43s\n",
      "549:\tlearn: 0.2974515\ttotal: 1.75s\tremaining: 1.43s\n",
      "550:\tlearn: 0.2971448\ttotal: 1.75s\tremaining: 1.42s\n",
      "551:\tlearn: 0.2970583\ttotal: 1.75s\tremaining: 1.42s\n",
      "552:\tlearn: 0.2969183\ttotal: 1.75s\tremaining: 1.42s\n",
      "553:\tlearn: 0.2966563\ttotal: 1.75s\tremaining: 1.41s\n"
     ]
    },
    {
     "name": "stdout",
     "output_type": "stream",
     "text": [
      "554:\tlearn: 0.2964594\ttotal: 1.76s\tremaining: 1.41s\n",
      "555:\tlearn: 0.2962111\ttotal: 1.76s\tremaining: 1.41s\n",
      "556:\tlearn: 0.2960625\ttotal: 1.76s\tremaining: 1.4s\n",
      "557:\tlearn: 0.2960016\ttotal: 1.76s\tremaining: 1.4s\n",
      "558:\tlearn: 0.2959760\ttotal: 1.77s\tremaining: 1.39s\n",
      "559:\tlearn: 0.2957501\ttotal: 1.77s\tremaining: 1.39s\n",
      "560:\tlearn: 0.2954997\ttotal: 1.77s\tremaining: 1.39s\n",
      "561:\tlearn: 0.2952247\ttotal: 1.77s\tremaining: 1.38s\n",
      "562:\tlearn: 0.2948956\ttotal: 1.77s\tremaining: 1.38s\n",
      "563:\tlearn: 0.2946197\ttotal: 1.78s\tremaining: 1.37s\n",
      "564:\tlearn: 0.2943866\ttotal: 1.78s\tremaining: 1.37s\n",
      "565:\tlearn: 0.2942892\ttotal: 1.78s\tremaining: 1.37s\n",
      "566:\tlearn: 0.2939667\ttotal: 1.79s\tremaining: 1.36s\n",
      "567:\tlearn: 0.2937056\ttotal: 1.79s\tremaining: 1.36s\n",
      "568:\tlearn: 0.2935096\ttotal: 1.79s\tremaining: 1.36s\n",
      "569:\tlearn: 0.2931031\ttotal: 1.8s\tremaining: 1.35s\n",
      "570:\tlearn: 0.2930785\ttotal: 1.8s\tremaining: 1.35s\n",
      "571:\tlearn: 0.2929205\ttotal: 1.8s\tremaining: 1.35s\n",
      "572:\tlearn: 0.2925506\ttotal: 1.8s\tremaining: 1.34s\n",
      "573:\tlearn: 0.2923480\ttotal: 1.8s\tremaining: 1.34s\n",
      "574:\tlearn: 0.2922059\ttotal: 1.81s\tremaining: 1.33s\n",
      "575:\tlearn: 0.2920105\ttotal: 1.81s\tremaining: 1.33s\n",
      "576:\tlearn: 0.2917540\ttotal: 1.81s\tremaining: 1.33s\n",
      "577:\tlearn: 0.2913173\ttotal: 1.81s\tremaining: 1.32s\n",
      "578:\tlearn: 0.2911286\ttotal: 1.81s\tremaining: 1.32s\n",
      "579:\tlearn: 0.2909434\ttotal: 1.82s\tremaining: 1.32s\n",
      "580:\tlearn: 0.2906555\ttotal: 1.82s\tremaining: 1.31s\n",
      "581:\tlearn: 0.2904876\ttotal: 1.82s\tremaining: 1.31s\n",
      "582:\tlearn: 0.2903389\ttotal: 1.82s\tremaining: 1.3s\n",
      "583:\tlearn: 0.2901403\ttotal: 1.83s\tremaining: 1.3s\n",
      "584:\tlearn: 0.2898869\ttotal: 1.83s\tremaining: 1.3s\n",
      "585:\tlearn: 0.2898009\ttotal: 1.83s\tremaining: 1.29s\n",
      "586:\tlearn: 0.2895910\ttotal: 1.83s\tremaining: 1.29s\n",
      "587:\tlearn: 0.2895207\ttotal: 1.84s\tremaining: 1.29s\n",
      "588:\tlearn: 0.2893649\ttotal: 1.84s\tremaining: 1.28s\n",
      "589:\tlearn: 0.2890055\ttotal: 1.84s\tremaining: 1.28s\n",
      "590:\tlearn: 0.2887997\ttotal: 1.84s\tremaining: 1.28s\n",
      "591:\tlearn: 0.2886438\ttotal: 1.85s\tremaining: 1.27s\n",
      "592:\tlearn: 0.2883993\ttotal: 1.85s\tremaining: 1.27s\n",
      "593:\tlearn: 0.2881784\ttotal: 1.85s\tremaining: 1.26s\n",
      "594:\tlearn: 0.2879335\ttotal: 1.85s\tremaining: 1.26s\n",
      "595:\tlearn: 0.2875129\ttotal: 1.86s\tremaining: 1.26s\n",
      "596:\tlearn: 0.2874416\ttotal: 1.86s\tremaining: 1.25s\n",
      "597:\tlearn: 0.2873431\ttotal: 1.86s\tremaining: 1.25s\n",
      "598:\tlearn: 0.2870608\ttotal: 1.86s\tremaining: 1.25s\n",
      "599:\tlearn: 0.2867974\ttotal: 1.86s\tremaining: 1.24s\n",
      "600:\tlearn: 0.2866966\ttotal: 1.87s\tremaining: 1.24s\n",
      "601:\tlearn: 0.2864474\ttotal: 1.87s\tremaining: 1.24s\n",
      "602:\tlearn: 0.2862705\ttotal: 1.87s\tremaining: 1.23s\n",
      "603:\tlearn: 0.2859862\ttotal: 1.87s\tremaining: 1.23s\n",
      "604:\tlearn: 0.2857161\ttotal: 1.88s\tremaining: 1.23s\n",
      "605:\tlearn: 0.2856171\ttotal: 1.88s\tremaining: 1.22s\n",
      "606:\tlearn: 0.2854805\ttotal: 1.88s\tremaining: 1.22s\n",
      "607:\tlearn: 0.2852619\ttotal: 1.88s\tremaining: 1.21s\n",
      "608:\tlearn: 0.2851146\ttotal: 1.89s\tremaining: 1.21s\n",
      "609:\tlearn: 0.2848972\ttotal: 1.89s\tremaining: 1.21s\n",
      "610:\tlearn: 0.2847193\ttotal: 1.89s\tremaining: 1.2s\n",
      "611:\tlearn: 0.2845081\ttotal: 1.89s\tremaining: 1.2s\n",
      "612:\tlearn: 0.2843380\ttotal: 1.9s\tremaining: 1.2s\n",
      "613:\tlearn: 0.2840391\ttotal: 1.9s\tremaining: 1.19s\n",
      "614:\tlearn: 0.2837760\ttotal: 1.9s\tremaining: 1.19s\n",
      "615:\tlearn: 0.2835601\ttotal: 1.9s\tremaining: 1.19s\n",
      "616:\tlearn: 0.2834180\ttotal: 1.91s\tremaining: 1.18s\n",
      "617:\tlearn: 0.2831933\ttotal: 1.91s\tremaining: 1.18s\n",
      "618:\tlearn: 0.2830745\ttotal: 1.91s\tremaining: 1.18s\n",
      "619:\tlearn: 0.2828649\ttotal: 1.91s\tremaining: 1.17s\n",
      "620:\tlearn: 0.2827641\ttotal: 1.92s\tremaining: 1.17s\n",
      "621:\tlearn: 0.2826514\ttotal: 1.92s\tremaining: 1.17s\n",
      "622:\tlearn: 0.2825052\ttotal: 1.93s\tremaining: 1.17s\n",
      "623:\tlearn: 0.2823899\ttotal: 1.93s\tremaining: 1.16s\n",
      "624:\tlearn: 0.2822626\ttotal: 1.93s\tremaining: 1.16s\n",
      "625:\tlearn: 0.2820528\ttotal: 1.94s\tremaining: 1.16s\n",
      "626:\tlearn: 0.2817340\ttotal: 1.94s\tremaining: 1.15s\n",
      "627:\tlearn: 0.2816117\ttotal: 1.94s\tremaining: 1.15s\n",
      "628:\tlearn: 0.2812296\ttotal: 1.95s\tremaining: 1.15s\n",
      "629:\tlearn: 0.2812008\ttotal: 1.95s\tremaining: 1.14s\n",
      "630:\tlearn: 0.2808068\ttotal: 1.95s\tremaining: 1.14s\n",
      "631:\tlearn: 0.2806813\ttotal: 1.95s\tremaining: 1.14s\n",
      "632:\tlearn: 0.2805351\ttotal: 1.96s\tremaining: 1.13s\n",
      "633:\tlearn: 0.2804773\ttotal: 1.96s\tremaining: 1.13s\n",
      "634:\tlearn: 0.2803180\ttotal: 1.96s\tremaining: 1.13s\n",
      "635:\tlearn: 0.2801868\ttotal: 1.96s\tremaining: 1.12s\n",
      "636:\tlearn: 0.2798902\ttotal: 1.97s\tremaining: 1.12s\n",
      "637:\tlearn: 0.2797095\ttotal: 1.97s\tremaining: 1.12s\n",
      "638:\tlearn: 0.2796040\ttotal: 1.97s\tremaining: 1.11s\n",
      "639:\tlearn: 0.2794314\ttotal: 1.97s\tremaining: 1.11s\n",
      "640:\tlearn: 0.2793366\ttotal: 1.98s\tremaining: 1.11s\n",
      "641:\tlearn: 0.2791250\ttotal: 1.98s\tremaining: 1.1s\n",
      "642:\tlearn: 0.2788808\ttotal: 1.98s\tremaining: 1.1s\n",
      "643:\tlearn: 0.2785599\ttotal: 1.98s\tremaining: 1.1s\n",
      "644:\tlearn: 0.2783395\ttotal: 1.99s\tremaining: 1.09s\n",
      "645:\tlearn: 0.2781049\ttotal: 1.99s\tremaining: 1.09s\n",
      "646:\tlearn: 0.2777743\ttotal: 1.99s\tremaining: 1.09s\n",
      "647:\tlearn: 0.2776681\ttotal: 1.99s\tremaining: 1.08s\n",
      "648:\tlearn: 0.2775035\ttotal: 2s\tremaining: 1.08s\n",
      "649:\tlearn: 0.2773902\ttotal: 2s\tremaining: 1.08s\n",
      "650:\tlearn: 0.2772816\ttotal: 2s\tremaining: 1.07s\n",
      "651:\tlearn: 0.2769968\ttotal: 2s\tremaining: 1.07s\n",
      "652:\tlearn: 0.2767469\ttotal: 2.01s\tremaining: 1.07s\n",
      "653:\tlearn: 0.2766593\ttotal: 2.01s\tremaining: 1.06s\n",
      "654:\tlearn: 0.2764059\ttotal: 2.01s\tremaining: 1.06s\n",
      "655:\tlearn: 0.2762991\ttotal: 2.01s\tremaining: 1.05s\n",
      "656:\tlearn: 0.2762056\ttotal: 2.02s\tremaining: 1.05s\n",
      "657:\tlearn: 0.2758862\ttotal: 2.02s\tremaining: 1.05s\n",
      "658:\tlearn: 0.2757493\ttotal: 2.02s\tremaining: 1.04s\n",
      "659:\tlearn: 0.2755829\ttotal: 2.02s\tremaining: 1.04s\n",
      "660:\tlearn: 0.2753982\ttotal: 2.02s\tremaining: 1.04s\n",
      "661:\tlearn: 0.2752577\ttotal: 2.03s\tremaining: 1.03s\n",
      "662:\tlearn: 0.2751991\ttotal: 2.03s\tremaining: 1.03s\n",
      "663:\tlearn: 0.2750504\ttotal: 2.03s\tremaining: 1.03s\n",
      "664:\tlearn: 0.2748355\ttotal: 2.03s\tremaining: 1.02s\n",
      "665:\tlearn: 0.2744552\ttotal: 2.04s\tremaining: 1.02s\n",
      "666:\tlearn: 0.2741759\ttotal: 2.04s\tremaining: 1.02s\n",
      "667:\tlearn: 0.2740162\ttotal: 2.04s\tremaining: 1.01s\n",
      "668:\tlearn: 0.2738346\ttotal: 2.04s\tremaining: 1.01s\n",
      "669:\tlearn: 0.2737448\ttotal: 2.05s\tremaining: 1.01s\n",
      "670:\tlearn: 0.2736204\ttotal: 2.05s\tremaining: 1s\n",
      "671:\tlearn: 0.2733652\ttotal: 2.05s\tremaining: 1s\n",
      "672:\tlearn: 0.2731554\ttotal: 2.05s\tremaining: 998ms\n",
      "673:\tlearn: 0.2729094\ttotal: 2.06s\tremaining: 995ms\n",
      "674:\tlearn: 0.2728321\ttotal: 2.06s\tremaining: 991ms\n",
      "675:\tlearn: 0.2726210\ttotal: 2.06s\tremaining: 988ms\n",
      "676:\tlearn: 0.2722508\ttotal: 2.06s\tremaining: 984ms\n",
      "677:\tlearn: 0.2721532\ttotal: 2.06s\tremaining: 981ms\n",
      "678:\tlearn: 0.2720768\ttotal: 2.07s\tremaining: 978ms\n",
      "679:\tlearn: 0.2718146\ttotal: 2.07s\tremaining: 974ms\n",
      "680:\tlearn: 0.2715973\ttotal: 2.07s\tremaining: 971ms\n",
      "681:\tlearn: 0.2714472\ttotal: 2.08s\tremaining: 968ms\n",
      "682:\tlearn: 0.2714233\ttotal: 2.08s\tremaining: 964ms\n",
      "683:\tlearn: 0.2713366\ttotal: 2.08s\tremaining: 961ms\n",
      "684:\tlearn: 0.2711352\ttotal: 2.08s\tremaining: 957ms\n",
      "685:\tlearn: 0.2709808\ttotal: 2.08s\tremaining: 954ms\n",
      "686:\tlearn: 0.2708456\ttotal: 2.09s\tremaining: 951ms\n",
      "687:\tlearn: 0.2707541\ttotal: 2.09s\tremaining: 947ms\n",
      "688:\tlearn: 0.2706284\ttotal: 2.09s\tremaining: 944ms\n",
      "689:\tlearn: 0.2705994\ttotal: 2.09s\tremaining: 941ms\n",
      "690:\tlearn: 0.2704486\ttotal: 2.1s\tremaining: 938ms\n",
      "691:\tlearn: 0.2702967\ttotal: 2.1s\tremaining: 935ms\n",
      "692:\tlearn: 0.2700925\ttotal: 2.1s\tremaining: 933ms\n",
      "693:\tlearn: 0.2698726\ttotal: 2.11s\tremaining: 930ms\n",
      "694:\tlearn: 0.2696403\ttotal: 2.11s\tremaining: 927ms\n",
      "695:\tlearn: 0.2693907\ttotal: 2.12s\tremaining: 924ms\n",
      "696:\tlearn: 0.2691213\ttotal: 2.12s\tremaining: 921ms\n",
      "697:\tlearn: 0.2689077\ttotal: 2.12s\tremaining: 918ms\n",
      "698:\tlearn: 0.2686877\ttotal: 2.13s\tremaining: 915ms\n",
      "699:\tlearn: 0.2684940\ttotal: 2.13s\tremaining: 913ms\n",
      "700:\tlearn: 0.2684112\ttotal: 2.13s\tremaining: 910ms\n",
      "701:\tlearn: 0.2681864\ttotal: 2.14s\tremaining: 907ms\n",
      "702:\tlearn: 0.2680799\ttotal: 2.14s\tremaining: 904ms\n",
      "703:\tlearn: 0.2679151\ttotal: 2.14s\tremaining: 901ms\n",
      "704:\tlearn: 0.2677491\ttotal: 2.15s\tremaining: 898ms\n",
      "705:\tlearn: 0.2675847\ttotal: 2.15s\tremaining: 896ms\n",
      "706:\tlearn: 0.2673904\ttotal: 2.15s\tremaining: 893ms\n",
      "707:\tlearn: 0.2672402\ttotal: 2.16s\tremaining: 890ms\n",
      "708:\tlearn: 0.2670993\ttotal: 2.16s\tremaining: 887ms\n",
      "709:\tlearn: 0.2669742\ttotal: 2.16s\tremaining: 884ms\n",
      "710:\tlearn: 0.2668563\ttotal: 2.17s\tremaining: 881ms\n",
      "711:\tlearn: 0.2666782\ttotal: 2.17s\tremaining: 878ms\n",
      "712:\tlearn: 0.2665138\ttotal: 2.17s\tremaining: 875ms\n",
      "713:\tlearn: 0.2664154\ttotal: 2.18s\tremaining: 872ms\n",
      "714:\tlearn: 0.2660969\ttotal: 2.18s\tremaining: 869ms\n",
      "715:\tlearn: 0.2659470\ttotal: 2.18s\tremaining: 866ms\n",
      "716:\tlearn: 0.2658517\ttotal: 2.18s\tremaining: 862ms\n",
      "717:\tlearn: 0.2656911\ttotal: 2.19s\tremaining: 859ms\n",
      "718:\tlearn: 0.2654601\ttotal: 2.19s\tremaining: 856ms\n",
      "719:\tlearn: 0.2652800\ttotal: 2.19s\tremaining: 852ms\n",
      "720:\tlearn: 0.2651460\ttotal: 2.19s\tremaining: 849ms\n",
      "721:\tlearn: 0.2651127\ttotal: 2.19s\tremaining: 845ms\n",
      "722:\tlearn: 0.2648625\ttotal: 2.2s\tremaining: 842ms\n",
      "723:\tlearn: 0.2648132\ttotal: 2.2s\tremaining: 838ms\n",
      "724:\tlearn: 0.2647031\ttotal: 2.2s\tremaining: 835ms\n",
      "725:\tlearn: 0.2645270\ttotal: 2.2s\tremaining: 832ms\n",
      "726:\tlearn: 0.2643225\ttotal: 2.21s\tremaining: 829ms\n",
      "727:\tlearn: 0.2641642\ttotal: 2.21s\tremaining: 825ms\n",
      "728:\tlearn: 0.2640115\ttotal: 2.21s\tremaining: 822ms\n",
      "729:\tlearn: 0.2637350\ttotal: 2.21s\tremaining: 819ms\n",
      "730:\tlearn: 0.2636424\ttotal: 2.21s\tremaining: 815ms\n",
      "731:\tlearn: 0.2635121\ttotal: 2.22s\tremaining: 812ms\n",
      "732:\tlearn: 0.2632337\ttotal: 2.22s\tremaining: 809ms\n",
      "733:\tlearn: 0.2631305\ttotal: 2.22s\tremaining: 805ms\n",
      "734:\tlearn: 0.2629298\ttotal: 2.22s\tremaining: 802ms\n",
      "735:\tlearn: 0.2627521\ttotal: 2.23s\tremaining: 799ms\n",
      "736:\tlearn: 0.2624975\ttotal: 2.23s\tremaining: 796ms\n",
      "737:\tlearn: 0.2622272\ttotal: 2.23s\tremaining: 792ms\n"
     ]
    },
    {
     "name": "stdout",
     "output_type": "stream",
     "text": [
      "738:\tlearn: 0.2621895\ttotal: 2.23s\tremaining: 789ms\n",
      "739:\tlearn: 0.2619872\ttotal: 2.24s\tremaining: 786ms\n",
      "740:\tlearn: 0.2617162\ttotal: 2.24s\tremaining: 783ms\n",
      "741:\tlearn: 0.2615647\ttotal: 2.24s\tremaining: 779ms\n",
      "742:\tlearn: 0.2614190\ttotal: 2.24s\tremaining: 776ms\n",
      "743:\tlearn: 0.2610978\ttotal: 2.25s\tremaining: 773ms\n",
      "744:\tlearn: 0.2608547\ttotal: 2.25s\tremaining: 770ms\n",
      "745:\tlearn: 0.2607184\ttotal: 2.25s\tremaining: 766ms\n",
      "746:\tlearn: 0.2604666\ttotal: 2.25s\tremaining: 763ms\n",
      "747:\tlearn: 0.2601848\ttotal: 2.25s\tremaining: 760ms\n",
      "748:\tlearn: 0.2598502\ttotal: 2.26s\tremaining: 757ms\n",
      "749:\tlearn: 0.2596988\ttotal: 2.26s\tremaining: 753ms\n",
      "750:\tlearn: 0.2594457\ttotal: 2.26s\tremaining: 750ms\n",
      "751:\tlearn: 0.2593343\ttotal: 2.27s\tremaining: 747ms\n",
      "752:\tlearn: 0.2591507\ttotal: 2.27s\tremaining: 744ms\n",
      "753:\tlearn: 0.2589672\ttotal: 2.27s\tremaining: 741ms\n",
      "754:\tlearn: 0.2589151\ttotal: 2.27s\tremaining: 737ms\n",
      "755:\tlearn: 0.2587341\ttotal: 2.27s\tremaining: 734ms\n",
      "756:\tlearn: 0.2586283\ttotal: 2.28s\tremaining: 731ms\n",
      "757:\tlearn: 0.2582748\ttotal: 2.28s\tremaining: 728ms\n",
      "758:\tlearn: 0.2580138\ttotal: 2.28s\tremaining: 724ms\n",
      "759:\tlearn: 0.2578141\ttotal: 2.28s\tremaining: 721ms\n",
      "760:\tlearn: 0.2576394\ttotal: 2.29s\tremaining: 718ms\n",
      "761:\tlearn: 0.2573905\ttotal: 2.29s\tremaining: 715ms\n",
      "762:\tlearn: 0.2572994\ttotal: 2.29s\tremaining: 712ms\n",
      "763:\tlearn: 0.2571089\ttotal: 2.29s\tremaining: 709ms\n",
      "764:\tlearn: 0.2569843\ttotal: 2.3s\tremaining: 705ms\n",
      "765:\tlearn: 0.2568358\ttotal: 2.3s\tremaining: 702ms\n",
      "766:\tlearn: 0.2567460\ttotal: 2.3s\tremaining: 699ms\n",
      "767:\tlearn: 0.2564108\ttotal: 2.3s\tremaining: 696ms\n",
      "768:\tlearn: 0.2561540\ttotal: 2.31s\tremaining: 693ms\n",
      "769:\tlearn: 0.2559096\ttotal: 2.31s\tremaining: 689ms\n",
      "770:\tlearn: 0.2557869\ttotal: 2.31s\tremaining: 686ms\n",
      "771:\tlearn: 0.2555697\ttotal: 2.31s\tremaining: 683ms\n",
      "772:\tlearn: 0.2554851\ttotal: 2.31s\tremaining: 680ms\n",
      "773:\tlearn: 0.2553160\ttotal: 2.32s\tremaining: 677ms\n",
      "774:\tlearn: 0.2551679\ttotal: 2.32s\tremaining: 673ms\n",
      "775:\tlearn: 0.2549401\ttotal: 2.32s\tremaining: 670ms\n",
      "776:\tlearn: 0.2547871\ttotal: 2.32s\tremaining: 667ms\n",
      "777:\tlearn: 0.2546419\ttotal: 2.33s\tremaining: 664ms\n",
      "778:\tlearn: 0.2545370\ttotal: 2.33s\tremaining: 661ms\n",
      "779:\tlearn: 0.2544082\ttotal: 2.33s\tremaining: 658ms\n",
      "780:\tlearn: 0.2543334\ttotal: 2.33s\tremaining: 654ms\n",
      "781:\tlearn: 0.2542390\ttotal: 2.34s\tremaining: 651ms\n",
      "782:\tlearn: 0.2540221\ttotal: 2.34s\tremaining: 648ms\n",
      "783:\tlearn: 0.2539077\ttotal: 2.34s\tremaining: 645ms\n",
      "784:\tlearn: 0.2537796\ttotal: 2.34s\tremaining: 642ms\n",
      "785:\tlearn: 0.2536645\ttotal: 2.35s\tremaining: 639ms\n",
      "786:\tlearn: 0.2535382\ttotal: 2.35s\tremaining: 635ms\n",
      "787:\tlearn: 0.2534074\ttotal: 2.35s\tremaining: 632ms\n",
      "788:\tlearn: 0.2531771\ttotal: 2.35s\tremaining: 629ms\n",
      "789:\tlearn: 0.2530875\ttotal: 2.35s\tremaining: 626ms\n",
      "790:\tlearn: 0.2528244\ttotal: 2.36s\tremaining: 623ms\n",
      "791:\tlearn: 0.2523702\ttotal: 2.36s\tremaining: 620ms\n",
      "792:\tlearn: 0.2521641\ttotal: 2.36s\tremaining: 617ms\n",
      "793:\tlearn: 0.2519664\ttotal: 2.36s\tremaining: 613ms\n",
      "794:\tlearn: 0.2517958\ttotal: 2.37s\tremaining: 610ms\n",
      "795:\tlearn: 0.2516435\ttotal: 2.37s\tremaining: 607ms\n",
      "796:\tlearn: 0.2514557\ttotal: 2.37s\tremaining: 604ms\n",
      "797:\tlearn: 0.2512810\ttotal: 2.37s\tremaining: 601ms\n",
      "798:\tlearn: 0.2510433\ttotal: 2.38s\tremaining: 598ms\n",
      "799:\tlearn: 0.2509301\ttotal: 2.38s\tremaining: 595ms\n",
      "800:\tlearn: 0.2508657\ttotal: 2.38s\tremaining: 592ms\n",
      "801:\tlearn: 0.2505806\ttotal: 2.38s\tremaining: 588ms\n",
      "802:\tlearn: 0.2503948\ttotal: 2.38s\tremaining: 585ms\n",
      "803:\tlearn: 0.2502391\ttotal: 2.39s\tremaining: 582ms\n",
      "804:\tlearn: 0.2501864\ttotal: 2.39s\tremaining: 579ms\n",
      "805:\tlearn: 0.2500402\ttotal: 2.39s\tremaining: 576ms\n",
      "806:\tlearn: 0.2498950\ttotal: 2.4s\tremaining: 573ms\n",
      "807:\tlearn: 0.2496942\ttotal: 2.4s\tremaining: 570ms\n",
      "808:\tlearn: 0.2494232\ttotal: 2.4s\tremaining: 567ms\n",
      "809:\tlearn: 0.2492513\ttotal: 2.4s\tremaining: 564ms\n",
      "810:\tlearn: 0.2491481\ttotal: 2.41s\tremaining: 561ms\n",
      "811:\tlearn: 0.2489414\ttotal: 2.41s\tremaining: 558ms\n",
      "812:\tlearn: 0.2487353\ttotal: 2.41s\tremaining: 555ms\n",
      "813:\tlearn: 0.2486141\ttotal: 2.41s\tremaining: 551ms\n",
      "814:\tlearn: 0.2483454\ttotal: 2.42s\tremaining: 548ms\n",
      "815:\tlearn: 0.2481351\ttotal: 2.42s\tremaining: 545ms\n",
      "816:\tlearn: 0.2480581\ttotal: 2.42s\tremaining: 542ms\n",
      "817:\tlearn: 0.2479128\ttotal: 2.42s\tremaining: 539ms\n",
      "818:\tlearn: 0.2477525\ttotal: 2.42s\tremaining: 536ms\n",
      "819:\tlearn: 0.2476712\ttotal: 2.43s\tremaining: 533ms\n",
      "820:\tlearn: 0.2474951\ttotal: 2.43s\tremaining: 530ms\n",
      "821:\tlearn: 0.2472789\ttotal: 2.43s\tremaining: 527ms\n",
      "822:\tlearn: 0.2471476\ttotal: 2.43s\tremaining: 524ms\n",
      "823:\tlearn: 0.2469992\ttotal: 2.44s\tremaining: 521ms\n",
      "824:\tlearn: 0.2468189\ttotal: 2.44s\tremaining: 517ms\n",
      "825:\tlearn: 0.2466872\ttotal: 2.44s\tremaining: 514ms\n",
      "826:\tlearn: 0.2465984\ttotal: 2.44s\tremaining: 511ms\n",
      "827:\tlearn: 0.2464970\ttotal: 2.45s\tremaining: 508ms\n",
      "828:\tlearn: 0.2463677\ttotal: 2.45s\tremaining: 505ms\n",
      "829:\tlearn: 0.2462411\ttotal: 2.45s\tremaining: 502ms\n",
      "830:\tlearn: 0.2460940\ttotal: 2.45s\tremaining: 499ms\n",
      "831:\tlearn: 0.2458821\ttotal: 2.46s\tremaining: 496ms\n",
      "832:\tlearn: 0.2456514\ttotal: 2.46s\tremaining: 493ms\n",
      "833:\tlearn: 0.2454421\ttotal: 2.46s\tremaining: 490ms\n",
      "834:\tlearn: 0.2452897\ttotal: 2.46s\tremaining: 487ms\n",
      "835:\tlearn: 0.2452286\ttotal: 2.46s\tremaining: 484ms\n",
      "836:\tlearn: 0.2450574\ttotal: 2.47s\tremaining: 481ms\n",
      "837:\tlearn: 0.2449042\ttotal: 2.47s\tremaining: 477ms\n",
      "838:\tlearn: 0.2447228\ttotal: 2.47s\tremaining: 474ms\n",
      "839:\tlearn: 0.2445681\ttotal: 2.47s\tremaining: 471ms\n",
      "840:\tlearn: 0.2443610\ttotal: 2.48s\tremaining: 468ms\n",
      "841:\tlearn: 0.2441516\ttotal: 2.48s\tremaining: 465ms\n",
      "842:\tlearn: 0.2437616\ttotal: 2.48s\tremaining: 462ms\n",
      "843:\tlearn: 0.2436658\ttotal: 2.48s\tremaining: 459ms\n",
      "844:\tlearn: 0.2434511\ttotal: 2.49s\tremaining: 456ms\n",
      "845:\tlearn: 0.2431579\ttotal: 2.49s\tremaining: 453ms\n",
      "846:\tlearn: 0.2429508\ttotal: 2.49s\tremaining: 450ms\n",
      "847:\tlearn: 0.2428977\ttotal: 2.49s\tremaining: 447ms\n",
      "848:\tlearn: 0.2427047\ttotal: 2.5s\tremaining: 444ms\n",
      "849:\tlearn: 0.2425515\ttotal: 2.5s\tremaining: 441ms\n",
      "850:\tlearn: 0.2423280\ttotal: 2.5s\tremaining: 438ms\n",
      "851:\tlearn: 0.2420283\ttotal: 2.5s\tremaining: 435ms\n",
      "852:\tlearn: 0.2419066\ttotal: 2.5s\tremaining: 432ms\n",
      "853:\tlearn: 0.2417534\ttotal: 2.51s\tremaining: 429ms\n",
      "854:\tlearn: 0.2415200\ttotal: 2.51s\tremaining: 426ms\n",
      "855:\tlearn: 0.2414092\ttotal: 2.51s\tremaining: 423ms\n",
      "856:\tlearn: 0.2412046\ttotal: 2.51s\tremaining: 420ms\n",
      "857:\tlearn: 0.2409486\ttotal: 2.52s\tremaining: 417ms\n",
      "858:\tlearn: 0.2408104\ttotal: 2.52s\tremaining: 414ms\n",
      "859:\tlearn: 0.2406586\ttotal: 2.52s\tremaining: 410ms\n",
      "860:\tlearn: 0.2404822\ttotal: 2.52s\tremaining: 408ms\n",
      "861:\tlearn: 0.2403868\ttotal: 2.53s\tremaining: 404ms\n",
      "862:\tlearn: 0.2402733\ttotal: 2.53s\tremaining: 401ms\n",
      "863:\tlearn: 0.2401267\ttotal: 2.53s\tremaining: 398ms\n",
      "864:\tlearn: 0.2399817\ttotal: 2.53s\tremaining: 395ms\n",
      "865:\tlearn: 0.2398038\ttotal: 2.54s\tremaining: 392ms\n",
      "866:\tlearn: 0.2396557\ttotal: 2.54s\tremaining: 389ms\n",
      "867:\tlearn: 0.2395083\ttotal: 2.54s\tremaining: 386ms\n",
      "868:\tlearn: 0.2394069\ttotal: 2.54s\tremaining: 383ms\n",
      "869:\tlearn: 0.2392132\ttotal: 2.54s\tremaining: 380ms\n",
      "870:\tlearn: 0.2390851\ttotal: 2.55s\tremaining: 377ms\n",
      "871:\tlearn: 0.2389838\ttotal: 2.55s\tremaining: 374ms\n",
      "872:\tlearn: 0.2387312\ttotal: 2.55s\tremaining: 372ms\n",
      "873:\tlearn: 0.2384811\ttotal: 2.56s\tremaining: 369ms\n",
      "874:\tlearn: 0.2381920\ttotal: 2.56s\tremaining: 366ms\n",
      "875:\tlearn: 0.2381452\ttotal: 2.56s\tremaining: 363ms\n",
      "876:\tlearn: 0.2381023\ttotal: 2.56s\tremaining: 360ms\n",
      "877:\tlearn: 0.2380815\ttotal: 2.56s\tremaining: 356ms\n",
      "878:\tlearn: 0.2378148\ttotal: 2.57s\tremaining: 353ms\n",
      "879:\tlearn: 0.2376485\ttotal: 2.57s\tremaining: 350ms\n",
      "880:\tlearn: 0.2375550\ttotal: 2.57s\tremaining: 347ms\n",
      "881:\tlearn: 0.2373394\ttotal: 2.57s\tremaining: 344ms\n",
      "882:\tlearn: 0.2371106\ttotal: 2.58s\tremaining: 341ms\n",
      "883:\tlearn: 0.2370453\ttotal: 2.58s\tremaining: 338ms\n",
      "884:\tlearn: 0.2368811\ttotal: 2.58s\tremaining: 335ms\n",
      "885:\tlearn: 0.2367412\ttotal: 2.58s\tremaining: 332ms\n",
      "886:\tlearn: 0.2366157\ttotal: 2.59s\tremaining: 330ms\n",
      "887:\tlearn: 0.2364967\ttotal: 2.59s\tremaining: 327ms\n",
      "888:\tlearn: 0.2364388\ttotal: 2.59s\tremaining: 323ms\n",
      "889:\tlearn: 0.2363248\ttotal: 2.59s\tremaining: 320ms\n",
      "890:\tlearn: 0.2361185\ttotal: 2.59s\tremaining: 317ms\n",
      "891:\tlearn: 0.2358713\ttotal: 2.6s\tremaining: 314ms\n",
      "892:\tlearn: 0.2356321\ttotal: 2.6s\tremaining: 312ms\n",
      "893:\tlearn: 0.2355623\ttotal: 2.6s\tremaining: 309ms\n",
      "894:\tlearn: 0.2353009\ttotal: 2.6s\tremaining: 306ms\n",
      "895:\tlearn: 0.2351737\ttotal: 2.61s\tremaining: 303ms\n",
      "896:\tlearn: 0.2350813\ttotal: 2.61s\tremaining: 300ms\n",
      "897:\tlearn: 0.2348634\ttotal: 2.61s\tremaining: 297ms\n",
      "898:\tlearn: 0.2347483\ttotal: 2.61s\tremaining: 294ms\n",
      "899:\tlearn: 0.2345720\ttotal: 2.62s\tremaining: 291ms\n",
      "900:\tlearn: 0.2345357\ttotal: 2.62s\tremaining: 288ms\n",
      "901:\tlearn: 0.2343661\ttotal: 2.62s\tremaining: 285ms\n",
      "902:\tlearn: 0.2342277\ttotal: 2.62s\tremaining: 282ms\n",
      "903:\tlearn: 0.2340933\ttotal: 2.63s\tremaining: 279ms\n",
      "904:\tlearn: 0.2339583\ttotal: 2.63s\tremaining: 276ms\n",
      "905:\tlearn: 0.2336352\ttotal: 2.63s\tremaining: 273ms\n",
      "906:\tlearn: 0.2334871\ttotal: 2.63s\tremaining: 270ms\n",
      "907:\tlearn: 0.2334091\ttotal: 2.64s\tremaining: 267ms\n",
      "908:\tlearn: 0.2332396\ttotal: 2.64s\tremaining: 264ms\n",
      "909:\tlearn: 0.2330502\ttotal: 2.64s\tremaining: 261ms\n",
      "910:\tlearn: 0.2328677\ttotal: 2.65s\tremaining: 258ms\n",
      "911:\tlearn: 0.2326955\ttotal: 2.65s\tremaining: 255ms\n",
      "912:\tlearn: 0.2325581\ttotal: 2.65s\tremaining: 253ms\n",
      "913:\tlearn: 0.2323926\ttotal: 2.65s\tremaining: 250ms\n",
      "914:\tlearn: 0.2322190\ttotal: 2.65s\tremaining: 247ms\n",
      "915:\tlearn: 0.2320880\ttotal: 2.66s\tremaining: 244ms\n",
      "916:\tlearn: 0.2319264\ttotal: 2.66s\tremaining: 241ms\n",
      "917:\tlearn: 0.2318256\ttotal: 2.66s\tremaining: 238ms\n",
      "918:\tlearn: 0.2315770\ttotal: 2.66s\tremaining: 235ms\n",
      "919:\tlearn: 0.2314946\ttotal: 2.67s\tremaining: 232ms\n",
      "920:\tlearn: 0.2312410\ttotal: 2.67s\tremaining: 229ms\n",
      "921:\tlearn: 0.2312016\ttotal: 2.67s\tremaining: 226ms\n",
      "922:\tlearn: 0.2310655\ttotal: 2.67s\tremaining: 223ms\n",
      "923:\tlearn: 0.2309206\ttotal: 2.67s\tremaining: 220ms\n",
      "924:\tlearn: 0.2306691\ttotal: 2.68s\tremaining: 217ms\n",
      "925:\tlearn: 0.2305952\ttotal: 2.68s\tremaining: 214ms\n",
      "926:\tlearn: 0.2304989\ttotal: 2.68s\tremaining: 211ms\n",
      "927:\tlearn: 0.2304116\ttotal: 2.68s\tremaining: 208ms\n",
      "928:\tlearn: 0.2303502\ttotal: 2.69s\tremaining: 205ms\n",
      "929:\tlearn: 0.2302591\ttotal: 2.69s\tremaining: 202ms\n",
      "930:\tlearn: 0.2300717\ttotal: 2.69s\tremaining: 200ms\n",
      "931:\tlearn: 0.2298905\ttotal: 2.69s\tremaining: 197ms\n",
      "932:\tlearn: 0.2297278\ttotal: 2.7s\tremaining: 194ms\n",
      "933:\tlearn: 0.2295321\ttotal: 2.7s\tremaining: 191ms\n",
      "934:\tlearn: 0.2291783\ttotal: 2.7s\tremaining: 188ms\n",
      "935:\tlearn: 0.2290887\ttotal: 2.7s\tremaining: 185ms\n",
      "936:\tlearn: 0.2288442\ttotal: 2.71s\tremaining: 182ms\n",
      "937:\tlearn: 0.2285393\ttotal: 2.71s\tremaining: 179ms\n",
      "938:\tlearn: 0.2283844\ttotal: 2.71s\tremaining: 176ms\n"
     ]
    },
    {
     "name": "stdout",
     "output_type": "stream",
     "text": [
      "939:\tlearn: 0.2281898\ttotal: 2.71s\tremaining: 173ms\n",
      "940:\tlearn: 0.2281229\ttotal: 2.72s\tremaining: 170ms\n",
      "941:\tlearn: 0.2280477\ttotal: 2.72s\tremaining: 167ms\n",
      "942:\tlearn: 0.2280049\ttotal: 2.72s\tremaining: 164ms\n",
      "943:\tlearn: 0.2278960\ttotal: 2.72s\tremaining: 162ms\n",
      "944:\tlearn: 0.2277130\ttotal: 2.73s\tremaining: 159ms\n",
      "945:\tlearn: 0.2275976\ttotal: 2.73s\tremaining: 156ms\n",
      "946:\tlearn: 0.2274484\ttotal: 2.73s\tremaining: 153ms\n",
      "947:\tlearn: 0.2273423\ttotal: 2.73s\tremaining: 150ms\n",
      "948:\tlearn: 0.2273201\ttotal: 2.74s\tremaining: 147ms\n",
      "949:\tlearn: 0.2272763\ttotal: 2.74s\tremaining: 144ms\n",
      "950:\tlearn: 0.2270933\ttotal: 2.74s\tremaining: 141ms\n",
      "951:\tlearn: 0.2269848\ttotal: 2.74s\tremaining: 138ms\n",
      "952:\tlearn: 0.2268194\ttotal: 2.75s\tremaining: 135ms\n",
      "953:\tlearn: 0.2265995\ttotal: 2.75s\tremaining: 133ms\n",
      "954:\tlearn: 0.2264055\ttotal: 2.75s\tremaining: 130ms\n",
      "955:\tlearn: 0.2261612\ttotal: 2.75s\tremaining: 127ms\n",
      "956:\tlearn: 0.2259890\ttotal: 2.76s\tremaining: 124ms\n",
      "957:\tlearn: 0.2258353\ttotal: 2.76s\tremaining: 121ms\n",
      "958:\tlearn: 0.2256842\ttotal: 2.76s\tremaining: 118ms\n",
      "959:\tlearn: 0.2255624\ttotal: 2.76s\tremaining: 115ms\n",
      "960:\tlearn: 0.2254188\ttotal: 2.77s\tremaining: 112ms\n",
      "961:\tlearn: 0.2252523\ttotal: 2.77s\tremaining: 109ms\n",
      "962:\tlearn: 0.2251666\ttotal: 2.77s\tremaining: 107ms\n",
      "963:\tlearn: 0.2249819\ttotal: 2.77s\tremaining: 104ms\n",
      "964:\tlearn: 0.2248399\ttotal: 2.78s\tremaining: 101ms\n",
      "965:\tlearn: 0.2245213\ttotal: 2.78s\tremaining: 97.8ms\n",
      "966:\tlearn: 0.2243877\ttotal: 2.78s\tremaining: 94.9ms\n",
      "967:\tlearn: 0.2241591\ttotal: 2.78s\tremaining: 92ms\n",
      "968:\tlearn: 0.2239648\ttotal: 2.79s\tremaining: 89.1ms\n",
      "969:\tlearn: 0.2237752\ttotal: 2.79s\tremaining: 86.3ms\n",
      "970:\tlearn: 0.2236347\ttotal: 2.79s\tremaining: 83.4ms\n",
      "971:\tlearn: 0.2235767\ttotal: 2.79s\tremaining: 80.5ms\n",
      "972:\tlearn: 0.2233975\ttotal: 2.79s\tremaining: 77.6ms\n",
      "973:\tlearn: 0.2233125\ttotal: 2.8s\tremaining: 74.7ms\n",
      "974:\tlearn: 0.2230899\ttotal: 2.8s\tremaining: 71.8ms\n",
      "975:\tlearn: 0.2228702\ttotal: 2.8s\tremaining: 68.9ms\n",
      "976:\tlearn: 0.2227523\ttotal: 2.81s\tremaining: 66ms\n",
      "977:\tlearn: 0.2227041\ttotal: 2.81s\tremaining: 63.2ms\n",
      "978:\tlearn: 0.2225580\ttotal: 2.81s\tremaining: 60.3ms\n",
      "979:\tlearn: 0.2224154\ttotal: 2.81s\tremaining: 57.4ms\n",
      "980:\tlearn: 0.2223092\ttotal: 2.81s\tremaining: 54.5ms\n",
      "981:\tlearn: 0.2220167\ttotal: 2.82s\tremaining: 51.6ms\n",
      "982:\tlearn: 0.2219388\ttotal: 2.82s\tremaining: 48.8ms\n",
      "983:\tlearn: 0.2216580\ttotal: 2.82s\tremaining: 45.9ms\n",
      "984:\tlearn: 0.2215525\ttotal: 2.82s\tremaining: 43ms\n",
      "985:\tlearn: 0.2214027\ttotal: 2.83s\tremaining: 40.1ms\n",
      "986:\tlearn: 0.2212706\ttotal: 2.83s\tremaining: 37.3ms\n",
      "987:\tlearn: 0.2211594\ttotal: 2.83s\tremaining: 34.4ms\n",
      "988:\tlearn: 0.2208950\ttotal: 2.83s\tremaining: 31.5ms\n",
      "989:\tlearn: 0.2207283\ttotal: 2.83s\tremaining: 28.6ms\n",
      "990:\tlearn: 0.2204520\ttotal: 2.84s\tremaining: 25.8ms\n",
      "991:\tlearn: 0.2202382\ttotal: 2.84s\tremaining: 22.9ms\n",
      "992:\tlearn: 0.2200994\ttotal: 2.84s\tremaining: 20ms\n",
      "993:\tlearn: 0.2199661\ttotal: 2.85s\tremaining: 17.2ms\n",
      "994:\tlearn: 0.2197862\ttotal: 2.85s\tremaining: 14.3ms\n",
      "995:\tlearn: 0.2196284\ttotal: 2.85s\tremaining: 11.4ms\n",
      "996:\tlearn: 0.2195581\ttotal: 2.85s\tremaining: 8.58ms\n",
      "997:\tlearn: 0.2193795\ttotal: 2.85s\tremaining: 5.72ms\n",
      "998:\tlearn: 0.2192069\ttotal: 2.86s\tremaining: 2.86ms\n",
      "999:\tlearn: 0.2191541\ttotal: 2.86s\tremaining: 0us\n"
     ]
    },
    {
     "data": {
      "text/plain": [
       "<catboost.core.CatBoostClassifier at 0x2746bc72088>"
      ]
     },
     "execution_count": 182,
     "metadata": {},
     "output_type": "execute_result"
    }
   ],
   "source": [
    "from catboost import CatBoostClassifier\n",
    "catb = CatBoostClassifier()\n",
    "#Build the Model:\n",
    "catb.fit(X_train,y_train)"
   ]
  },
  {
   "cell_type": "code",
   "execution_count": 183,
   "metadata": {},
   "outputs": [],
   "source": [
    "#Predict on X_train itself to verify with the actual result:\n",
    "pred_X_train_catb = catb.predict(X_train)"
   ]
  },
  {
   "cell_type": "code",
   "execution_count": 184,
   "metadata": {},
   "outputs": [],
   "source": [
    "#Predict on Validation Data which is (X_test) and actual_test data:\n",
    "pred_X_test_catb = catb.predict(X_test)\n",
    "pred_test_catb =catb.predict(test_final)"
   ]
  },
  {
   "cell_type": "code",
   "execution_count": 185,
   "metadata": {},
   "outputs": [
    {
     "name": "stdout",
     "output_type": "stream",
     "text": [
      "--------------------------Result on Train Data for Catb:-----------\n",
      "              precision    recall  f1-score   support\n",
      "\n",
      "           N       0.70      1.00      0.82       101\n",
      "           Y       1.00      0.89      0.94       390\n",
      "\n",
      "    accuracy                           0.91       491\n",
      "   macro avg       0.85      0.94      0.88       491\n",
      "weighted avg       0.94      0.91      0.92       491\n",
      "\n",
      "--------------------------Result on Validation Data Catb:------\n",
      "              precision    recall  f1-score   support\n",
      "\n",
      "           N       0.46      0.85      0.59        26\n",
      "           Y       0.95      0.73      0.83        97\n",
      "\n",
      "    accuracy                           0.76       123\n",
      "   macro avg       0.70      0.79      0.71       123\n",
      "weighted avg       0.84      0.76      0.78       123\n",
      "\n"
     ]
    }
   ],
   "source": [
    "#Check the Metrics on X_train using which model was built:\n",
    "from sklearn.metrics import classification_report,accuracy_score\n",
    "result_X_train_catb = classification_report(pred_X_train_catb,y_train)\n",
    "result_X_test_catb = classification_report(pred_X_test_catb,y_test)\n",
    "print(\"--------------------------Result on Train Data for Catb:-----------\")\n",
    "print(result_X_train_catb)\n",
    "print(\"--------------------------Result on Validation Data Catb:------\")\n",
    "print(result_X_test_catb)\n",
    "#classification_report()"
   ]
  },
  {
   "cell_type": "code",
   "execution_count": 186,
   "metadata": {},
   "outputs": [],
   "source": [
    "#Concat the test_LoanID and pred_test_SVC:\n",
    "Sub_catb = pd.concat([test_LoanID,pd.Series(pred_test_catb)],axis=1)"
   ]
  },
  {
   "cell_type": "code",
   "execution_count": 187,
   "metadata": {},
   "outputs": [
    {
     "data": {
      "text/html": [
       "<div>\n",
       "<style scoped>\n",
       "    .dataframe tbody tr th:only-of-type {\n",
       "        vertical-align: middle;\n",
       "    }\n",
       "\n",
       "    .dataframe tbody tr th {\n",
       "        vertical-align: top;\n",
       "    }\n",
       "\n",
       "    .dataframe thead th {\n",
       "        text-align: right;\n",
       "    }\n",
       "</style>\n",
       "<table border=\"1\" class=\"dataframe\">\n",
       "  <thead>\n",
       "    <tr style=\"text-align: right;\">\n",
       "      <th></th>\n",
       "      <th>Loan_ID</th>\n",
       "      <th>0</th>\n",
       "    </tr>\n",
       "  </thead>\n",
       "  <tbody>\n",
       "    <tr>\n",
       "      <th>0</th>\n",
       "      <td>LP001015</td>\n",
       "      <td>Y</td>\n",
       "    </tr>\n",
       "    <tr>\n",
       "      <th>1</th>\n",
       "      <td>LP001022</td>\n",
       "      <td>Y</td>\n",
       "    </tr>\n",
       "    <tr>\n",
       "      <th>2</th>\n",
       "      <td>LP001031</td>\n",
       "      <td>Y</td>\n",
       "    </tr>\n",
       "    <tr>\n",
       "      <th>3</th>\n",
       "      <td>LP001035</td>\n",
       "      <td>Y</td>\n",
       "    </tr>\n",
       "    <tr>\n",
       "      <th>4</th>\n",
       "      <td>LP001051</td>\n",
       "      <td>Y</td>\n",
       "    </tr>\n",
       "  </tbody>\n",
       "</table>\n",
       "</div>"
      ],
      "text/plain": [
       "    Loan_ID  0\n",
       "0  LP001015  Y\n",
       "1  LP001022  Y\n",
       "2  LP001031  Y\n",
       "3  LP001035  Y\n",
       "4  LP001051  Y"
      ]
     },
     "execution_count": 187,
     "metadata": {},
     "output_type": "execute_result"
    }
   ],
   "source": [
    "Sub_catb.head()"
   ]
  },
  {
   "cell_type": "code",
   "execution_count": 188,
   "metadata": {},
   "outputs": [],
   "source": [
    "Sub_catb.rename(columns={0:'Loan_Status'},inplace=True)"
   ]
  },
  {
   "cell_type": "code",
   "execution_count": 189,
   "metadata": {},
   "outputs": [
    {
     "data": {
      "text/html": [
       "<div>\n",
       "<style scoped>\n",
       "    .dataframe tbody tr th:only-of-type {\n",
       "        vertical-align: middle;\n",
       "    }\n",
       "\n",
       "    .dataframe tbody tr th {\n",
       "        vertical-align: top;\n",
       "    }\n",
       "\n",
       "    .dataframe thead th {\n",
       "        text-align: right;\n",
       "    }\n",
       "</style>\n",
       "<table border=\"1\" class=\"dataframe\">\n",
       "  <thead>\n",
       "    <tr style=\"text-align: right;\">\n",
       "      <th></th>\n",
       "      <th>Loan_ID</th>\n",
       "      <th>Loan_Status</th>\n",
       "    </tr>\n",
       "  </thead>\n",
       "  <tbody>\n",
       "    <tr>\n",
       "      <th>0</th>\n",
       "      <td>LP001015</td>\n",
       "      <td>Y</td>\n",
       "    </tr>\n",
       "    <tr>\n",
       "      <th>1</th>\n",
       "      <td>LP001022</td>\n",
       "      <td>Y</td>\n",
       "    </tr>\n",
       "    <tr>\n",
       "      <th>2</th>\n",
       "      <td>LP001031</td>\n",
       "      <td>Y</td>\n",
       "    </tr>\n",
       "    <tr>\n",
       "      <th>3</th>\n",
       "      <td>LP001035</td>\n",
       "      <td>Y</td>\n",
       "    </tr>\n",
       "    <tr>\n",
       "      <th>4</th>\n",
       "      <td>LP001051</td>\n",
       "      <td>Y</td>\n",
       "    </tr>\n",
       "  </tbody>\n",
       "</table>\n",
       "</div>"
      ],
      "text/plain": [
       "    Loan_ID Loan_Status\n",
       "0  LP001015           Y\n",
       "1  LP001022           Y\n",
       "2  LP001031           Y\n",
       "3  LP001035           Y\n",
       "4  LP001051           Y"
      ]
     },
     "execution_count": 189,
     "metadata": {},
     "output_type": "execute_result"
    }
   ],
   "source": [
    "Sub_catb.head()"
   ]
  },
  {
   "cell_type": "code",
   "execution_count": 190,
   "metadata": {},
   "outputs": [],
   "source": [
    "Sub_catb.to_csv(\"12.Sub_catb.csv\",index=False)"
   ]
  },
  {
   "cell_type": "code",
   "execution_count": 191,
   "metadata": {},
   "outputs": [],
   "source": [
    "#Result on Portal:\n",
    "#Your score for this submission is : 0.7777777777777778."
   ]
  },
  {
   "cell_type": "code",
   "execution_count": 192,
   "metadata": {},
   "outputs": [],
   "source": [
    "#Result:\n",
    "Result = {\n",
    "\"Algorithms\":[\"LogisticRegression\",\"KNNClassifier\",\"Naive_Bayes\",\"DecisionTree\",\"Randomforest\",\"GradientBoosting\",\"HistGBC\",\"Adaboost\",\"Support_Vectormachine\",\"XGBOOST\",\"LightGBM\",\"Catboost\"]\n",
    ",\"Train_acc\":[0.83,0.85,0.82,1.0,1.0,0.9,0.99,0.86,0.83,1.0,0.99,0.91]\n",
    ",\"Val_Acc\":[0.73,0.75,0.73,0.68,0.74,0.74,0.72,0.74,0.74,0.70,0.72,0.76]\n",
    ",\"Test_Acc\":[0.777,0.75,0.764,0.72,0.666,0.7638,0.73611,0.7569,0.77,0.7083,0.7291,0.777]}"
   ]
  },
  {
   "cell_type": "code",
   "execution_count": 193,
   "metadata": {},
   "outputs": [
    {
     "data": {
      "text/html": [
       "<div>\n",
       "<style scoped>\n",
       "    .dataframe tbody tr th:only-of-type {\n",
       "        vertical-align: middle;\n",
       "    }\n",
       "\n",
       "    .dataframe tbody tr th {\n",
       "        vertical-align: top;\n",
       "    }\n",
       "\n",
       "    .dataframe thead th {\n",
       "        text-align: right;\n",
       "    }\n",
       "</style>\n",
       "<table border=\"1\" class=\"dataframe\">\n",
       "  <thead>\n",
       "    <tr style=\"text-align: right;\">\n",
       "      <th></th>\n",
       "      <th>Algorithms</th>\n",
       "      <th>Train_acc</th>\n",
       "      <th>Val_Acc</th>\n",
       "      <th>Test_Acc</th>\n",
       "    </tr>\n",
       "  </thead>\n",
       "  <tbody>\n",
       "    <tr>\n",
       "      <th>1</th>\n",
       "      <td>LogisticRegression</td>\n",
       "      <td>0.83</td>\n",
       "      <td>0.73</td>\n",
       "      <td>0.77700</td>\n",
       "    </tr>\n",
       "    <tr>\n",
       "      <th>2</th>\n",
       "      <td>KNNClassifier</td>\n",
       "      <td>0.85</td>\n",
       "      <td>0.75</td>\n",
       "      <td>0.75000</td>\n",
       "    </tr>\n",
       "    <tr>\n",
       "      <th>3</th>\n",
       "      <td>Naive_Bayes</td>\n",
       "      <td>0.82</td>\n",
       "      <td>0.73</td>\n",
       "      <td>0.76400</td>\n",
       "    </tr>\n",
       "    <tr>\n",
       "      <th>4</th>\n",
       "      <td>DecisionTree</td>\n",
       "      <td>1.00</td>\n",
       "      <td>0.68</td>\n",
       "      <td>0.72000</td>\n",
       "    </tr>\n",
       "    <tr>\n",
       "      <th>5</th>\n",
       "      <td>Randomforest</td>\n",
       "      <td>1.00</td>\n",
       "      <td>0.74</td>\n",
       "      <td>0.66600</td>\n",
       "    </tr>\n",
       "    <tr>\n",
       "      <th>6</th>\n",
       "      <td>GradientBoosting</td>\n",
       "      <td>0.90</td>\n",
       "      <td>0.74</td>\n",
       "      <td>0.76380</td>\n",
       "    </tr>\n",
       "    <tr>\n",
       "      <th>7</th>\n",
       "      <td>HistGBC</td>\n",
       "      <td>0.99</td>\n",
       "      <td>0.72</td>\n",
       "      <td>0.73611</td>\n",
       "    </tr>\n",
       "    <tr>\n",
       "      <th>8</th>\n",
       "      <td>Adaboost</td>\n",
       "      <td>0.86</td>\n",
       "      <td>0.74</td>\n",
       "      <td>0.75690</td>\n",
       "    </tr>\n",
       "    <tr>\n",
       "      <th>9</th>\n",
       "      <td>Support_Vectormachine</td>\n",
       "      <td>0.83</td>\n",
       "      <td>0.74</td>\n",
       "      <td>0.77000</td>\n",
       "    </tr>\n",
       "    <tr>\n",
       "      <th>10</th>\n",
       "      <td>XGBOOST</td>\n",
       "      <td>1.00</td>\n",
       "      <td>0.70</td>\n",
       "      <td>0.70830</td>\n",
       "    </tr>\n",
       "    <tr>\n",
       "      <th>11</th>\n",
       "      <td>LightGBM</td>\n",
       "      <td>0.99</td>\n",
       "      <td>0.72</td>\n",
       "      <td>0.72910</td>\n",
       "    </tr>\n",
       "    <tr>\n",
       "      <th>12</th>\n",
       "      <td>Catboost</td>\n",
       "      <td>0.91</td>\n",
       "      <td>0.76</td>\n",
       "      <td>0.77700</td>\n",
       "    </tr>\n",
       "  </tbody>\n",
       "</table>\n",
       "</div>"
      ],
      "text/plain": [
       "               Algorithms  Train_acc  Val_Acc  Test_Acc\n",
       "1      LogisticRegression       0.83     0.73   0.77700\n",
       "2           KNNClassifier       0.85     0.75   0.75000\n",
       "3             Naive_Bayes       0.82     0.73   0.76400\n",
       "4            DecisionTree       1.00     0.68   0.72000\n",
       "5            Randomforest       1.00     0.74   0.66600\n",
       "6        GradientBoosting       0.90     0.74   0.76380\n",
       "7                 HistGBC       0.99     0.72   0.73611\n",
       "8                Adaboost       0.86     0.74   0.75690\n",
       "9   Support_Vectormachine       0.83     0.74   0.77000\n",
       "10                XGBOOST       1.00     0.70   0.70830\n",
       "11               LightGBM       0.99     0.72   0.72910\n",
       "12               Catboost       0.91     0.76   0.77700"
      ]
     },
     "execution_count": 193,
     "metadata": {},
     "output_type": "execute_result"
    }
   ],
   "source": [
    "Final_test_result = pd.DataFrame(Result,index=[1,2,3,4,5,6,7,8,9,10,11,12])\n",
    "Final_test_result"
   ]
  },
  {
   "cell_type": "code",
   "execution_count": 194,
   "metadata": {},
   "outputs": [],
   "source": [
    "#LogisticRegression, Support vectorMachine and Catboost Model shows the Highest Test_accuracy of 0.77(77%)"
   ]
  },
  {
   "cell_type": "code",
   "execution_count": null,
   "metadata": {},
   "outputs": [],
   "source": []
  }
 ],
 "metadata": {
  "kernelspec": {
   "display_name": "Python 3",
   "language": "python",
   "name": "python3"
  },
  "language_info": {
   "codemirror_mode": {
    "name": "ipython",
    "version": 3
   },
   "file_extension": ".py",
   "mimetype": "text/x-python",
   "name": "python",
   "nbconvert_exporter": "python",
   "pygments_lexer": "ipython3",
   "version": "3.7.7"
  }
 },
 "nbformat": 4,
 "nbformat_minor": 4
}
